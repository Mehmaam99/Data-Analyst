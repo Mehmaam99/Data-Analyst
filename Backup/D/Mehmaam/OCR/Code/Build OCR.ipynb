{
 "cells": [
  {
   "cell_type": "code",
   "execution_count": 90,
   "id": "284dc5be",
   "metadata": {},
   "outputs": [
    {
     "name": "stdout",
     "output_type": "stream",
     "text": [
      "10,200.00\n",
      "\n",
      "mS\n",
      "\n",
      "1,500.00\n",
      "\n",
      "10,200.00\n",
      "\n",
      "\n"
     ]
    }
   ],
   "source": [
    "import cv2\n",
    "import pytesseract\n",
    "import matplotlib.pyplot as plt\n",
    "pytesseract.pytesseract.tesseract_cmd = r'C:\\\\Program Files\\\\Tesseract-OCR\\\\tesseract'\n",
    "img = cv2.imread(r'C:\\\\Users\\\\Naeem\\\\OCR\\\\Materials\\\\zampal.png')\n",
    "#img = cv2.resize(imS, (900,900))  \n",
    "cv2.imshow(\"Image\", img)\n",
    "text = pytesseract.image_to_string(img)\n",
    "print(text)\n",
    "cv2.waitKey(0)\n",
    "cv2.destroyAllWindows()"
   ]
  },
  {
   "cell_type": "code",
   "execution_count": 91,
   "id": "b81dda1f",
   "metadata": {},
   "outputs": [
    {
     "name": "stdout",
     "output_type": "stream",
     "text": [
      "10,200.00\n",
      "\n",
      "mS\n",
      "\n",
      "1,500.00\n",
      "\n",
      "10,200.00\n",
      "\n",
      "\n"
     ]
    }
   ],
   "source": [
    "# C:\\Program Files\\Tesseract-OCR\n",
    "    \n",
    "import cv2\n",
    "import pytesseract\n",
    "import matplotlib.pyplot as plt\n",
    "pytesseract.pytesseract.tesseract_cmd = r'C:\\\\Program Files\\\\Tesseract-OCR\\\\tesseract'\n",
    "\n",
    "cv2.imshow(\"Image\", img)\n",
    "text = pytesseract.image_to_string(img)\n",
    "print(text)\n",
    "cv2.waitKey(0)\n",
    "cv2.destroyAllWindows()"
   ]
  },
  {
   "cell_type": "code",
   "execution_count": 92,
   "id": "77794808",
   "metadata": {},
   "outputs": [],
   "source": [
    "from PIL import Image\n",
    "import pytesseract\n",
    "import numpy as np"
   ]
  },
  {
   "cell_type": "code",
   "execution_count": 93,
   "id": "580e9c0a",
   "metadata": {},
   "outputs": [],
   "source": [
    "filename = 'C:\\\\Users\\\\Naeem\\\\OCR\\\\Materials\\\\zampal.png'\n",
    "img2 = np.array(Image.open(filename))\n",
    "text = pytesseract.image_to_string(img2)\n",
    "#print(text)"
   ]
  },
  {
   "cell_type": "code",
   "execution_count": 94,
   "id": "a4c6cdd0",
   "metadata": {},
   "outputs": [],
   "source": [
    "from pytesseract import Output\n",
    "import pytesseract\n",
    "import cv2\n"
   ]
  },
  {
   "cell_type": "code",
   "execution_count": 95,
   "id": "b5d37a2b",
   "metadata": {},
   "outputs": [],
   "source": [
    "\n",
    "image = cv2.imread(filename)"
   ]
  },
  {
   "cell_type": "code",
   "execution_count": 96,
   "id": "db6cbeea",
   "metadata": {},
   "outputs": [],
   "source": [
    "results = pytesseract.image_to_data(image, output_type=Output.DICT)"
   ]
  },
  {
   "cell_type": "code",
   "execution_count": 97,
   "id": "e210595e",
   "metadata": {},
   "outputs": [],
   "source": [
    "\n",
    "image = cv2.imread(filename)"
   ]
  },
  {
   "cell_type": "code",
   "execution_count": 98,
   "id": "78ae46db",
   "metadata": {},
   "outputs": [],
   "source": [
    "results = pytesseract.image_to_data(image, output_type=Output.DICT)"
   ]
  },
  {
   "cell_type": "code",
   "execution_count": 99,
   "id": "b0e27377",
   "metadata": {
    "scrolled": true
   },
   "outputs": [
    {
     "name": "stdout",
     "output_type": "stream",
     "text": [
      "{'level': [1, 2, 3, 4, 5, 2, 3, 4, 5, 2, 3, 4, 5, 2, 3, 4, 5, 2, 3, 4, 5, 5, 2, 3, 4, 5, 2, 3, 4, 5, 2, 3, 4, 5, 2, 3, 4, 5, 2, 3, 4, 5, 2, 3, 4, 5, 2, 3, 4, 5, 2, 3, 4, 5, 2, 3, 4, 5, 2, 3, 4, 5, 2, 3, 4, 5, 2, 3, 4, 5, 2, 3, 4, 5, 2, 3, 4, 5, 2, 3, 4, 5], 'page_num': [1, 1, 1, 1, 1, 1, 1, 1, 1, 1, 1, 1, 1, 1, 1, 1, 1, 1, 1, 1, 1, 1, 1, 1, 1, 1, 1, 1, 1, 1, 1, 1, 1, 1, 1, 1, 1, 1, 1, 1, 1, 1, 1, 1, 1, 1, 1, 1, 1, 1, 1, 1, 1, 1, 1, 1, 1, 1, 1, 1, 1, 1, 1, 1, 1, 1, 1, 1, 1, 1, 1, 1, 1, 1, 1, 1, 1, 1, 1, 1, 1, 1], 'block_num': [0, 1, 1, 1, 1, 2, 2, 2, 2, 3, 3, 3, 3, 4, 4, 4, 4, 5, 5, 5, 5, 5, 6, 6, 6, 6, 7, 7, 7, 7, 8, 8, 8, 8, 9, 9, 9, 9, 10, 10, 10, 10, 11, 11, 11, 11, 12, 12, 12, 12, 13, 13, 13, 13, 14, 14, 14, 14, 15, 15, 15, 15, 16, 16, 16, 16, 17, 17, 17, 17, 18, 18, 18, 18, 19, 19, 19, 19, 20, 20, 20, 20], 'par_num': [0, 0, 1, 1, 1, 0, 1, 1, 1, 0, 1, 1, 1, 0, 1, 1, 1, 0, 1, 1, 1, 1, 0, 1, 1, 1, 0, 1, 1, 1, 0, 1, 1, 1, 0, 1, 1, 1, 0, 1, 1, 1, 0, 1, 1, 1, 0, 1, 1, 1, 0, 1, 1, 1, 0, 1, 1, 1, 0, 1, 1, 1, 0, 1, 1, 1, 0, 1, 1, 1, 0, 1, 1, 1, 0, 1, 1, 1, 0, 1, 1, 1], 'line_num': [0, 0, 0, 1, 1, 0, 0, 1, 1, 0, 0, 1, 1, 0, 0, 1, 1, 0, 0, 1, 1, 1, 0, 0, 1, 1, 0, 0, 1, 1, 0, 0, 1, 1, 0, 0, 1, 1, 0, 0, 1, 1, 0, 0, 1, 1, 0, 0, 1, 1, 0, 0, 1, 1, 0, 0, 1, 1, 0, 0, 1, 1, 0, 0, 1, 1, 0, 0, 1, 1, 0, 0, 1, 1, 0, 0, 1, 1, 0, 0, 1, 1], 'word_num': [0, 0, 0, 0, 1, 0, 0, 0, 1, 0, 0, 0, 1, 0, 0, 0, 1, 0, 0, 0, 1, 2, 0, 0, 0, 1, 0, 0, 0, 1, 0, 0, 0, 1, 0, 0, 0, 1, 0, 0, 0, 1, 0, 0, 0, 1, 0, 0, 0, 1, 0, 0, 0, 1, 0, 0, 0, 1, 0, 0, 0, 1, 0, 0, 0, 1, 0, 0, 0, 1, 0, 0, 0, 1, 0, 0, 0, 1, 0, 0, 0, 1], 'left': [0, 17, 17, 17, 17, 17, 17, 17, 17, 66, 66, 66, 66, 585, 585, 585, 585, 109, 109, 109, 109, 649, 973, 973, 973, 973, 18, 18, 18, 18, 17, 17, 17, 17, 240, 240, 240, 240, 255, 255, 255, 255, 313, 313, 313, 313, 390, 390, 390, 390, 541, 541, 541, 541, 588, 588, 588, 588, 654, 654, 654, 654, 171, 171, 171, 171, 754, 754, 754, 754, 847, 847, 847, 847, 970, 970, 970, 970, 18, 18, 18, 18], 'top': [0, 11, 11, 11, 11, 52, 52, 52, 52, 11, 11, 11, 11, 71, 71, 71, 71, 5, 5, 5, 5, 65, 81, 81, 81, 81, 95, 95, 95, 95, 11, 11, 11, 11, 11, 11, 11, 11, 107, 107, 107, 107, 11, 11, 11, 11, 11, 11, 11, 11, 55, 55, 55, 55, 108, 108, 108, 108, 55, 55, 55, 55, 89, 89, 89, 89, 55, 55, 55, 55, 12, 12, 12, 12, 12, 12, 12, 12, 125, 125, 125, 125], 'width': [991, 955, 955, 955, 955, 472, 472, 472, 472, 3, 3, 3, 3, 64, 64, 64, 64, 865, 865, 865, 865, 202, 13, 13, 13, 13, 907, 907, 907, 907, 3, 3, 3, 3, 3, 3, 3, 3, 54, 54, 54, 54, 4, 4, 4, 4, 5, 5, 5, 5, 3, 3, 3, 3, 61, 61, 61, 61, 2, 2, 2, 2, 559, 559, 559, 559, 2, 2, 2, 2, 2, 2, 2, 2, 4, 4, 4, 4, 955, 955, 955, 955], 'height': [139, 3, 3, 3, 3, 2, 2, 2, 2, 86, 86, 86, 86, 12, 12, 12, 12, 84, 84, 84, 84, 24, 7, 7, 7, 7, 2, 2, 2, 2, 116, 116, 116, 116, 116, 116, 116, 116, 11, 11, 11, 11, 116, 116, 116, 116, 116, 116, 116, 116, 73, 73, 73, 73, 10, 10, 10, 10, 73, 73, 73, 73, 18, 18, 18, 18, 73, 73, 73, 73, 116, 116, 116, 116, 116, 116, 116, 116, 3, 3, 3, 3], 'conf': ['-1', '-1', '-1', '-1', '95.000000', '-1', '-1', '-1', '95.000000', '-1', '-1', '-1', '95.000000', '-1', '-1', '-1', '91.863716', '-1', '-1', '-1', '95.000000', '95.000000', '-1', '-1', '-1', '32.913589', '-1', '-1', '-1', '95.000000', '-1', '-1', '-1', '95.000000', '-1', '-1', '-1', '95.000000', '-1', '-1', '-1', '70.543549', '-1', '-1', '-1', '95.000000', '-1', '-1', '-1', '95.000000', '-1', '-1', '-1', '95.000000', '-1', '-1', '-1', '90.754311', '-1', '-1', '-1', '95.000000', '-1', '-1', '-1', '95.000000', '-1', '-1', '-1', '95.000000', '-1', '-1', '-1', '95.000000', '-1', '-1', '-1', '95.000000', '-1', '-1', '-1', '95.000000'], 'text': ['', '', '', '', ' ', '', '', '', ' ', '', '', '', ' ', '', '', '', '10,200.00', '', '', '', '  ', ' ', '', '', '', 'mS', '', '', '', ' ', '', '', '', ' ', '', '', '', ' ', '', '', '', '1,500.00', '', '', '', ' ', '', '', '', ' ', '', '', '', ' ', '', '', '', '10,200.00', '', '', '', ' ', '', '', '', '  ', '', '', '', ' ', '', '', '', ' ', '', '', '', ' ', '', '', '', '']}\n"
     ]
    }
   ],
   "source": [
    "print(results)"
   ]
  },
  {
   "cell_type": "code",
   "execution_count": 100,
   "id": "00629b27",
   "metadata": {},
   "outputs": [],
   "source": [
    "for i in range(0, len(results[\"text\"])):\n",
    "    x = results[\"left\"][i]\n",
    "    y = results[\"top\"][i]\n",
    "    \n",
    "    w = results['width'][i]\n",
    "    h = results['height'][i]\n",
    "    text = results['text'][i]\n",
    "    conf = int(float(results['conf'][i]))\n",
    "    if conf>70 :\n",
    "        text = \"\".join([c if ord(c) < 128 else \"\" for c in text]).strip()\n",
    "        cv2.rectangle(image, (x, y), (x + w, y + h), (0, 255, 0), 2)\n",
    "        cv2.putText(image, text, (x, y - 10), cv2.FONT_HERSHEY_SIMPLEX, 0.5, (0, 0, 200), 2)"
   ]
  },
  {
   "cell_type": "code",
   "execution_count": null,
   "id": "120d4d65",
   "metadata": {},
   "outputs": [],
   "source": [
    "\n"
   ]
  },
  {
   "cell_type": "code",
   "execution_count": null,
   "id": "b9daefde",
   "metadata": {},
   "outputs": [],
   "source": [
    "#imS = cv2.resize(image, (900, 900))  \n",
    "cv2.imshow(\"\",image)\n",
    "cv2.waitKey(0)\n",
    "cv2.destroyAllWindows()"
   ]
  },
  {
   "cell_type": "code",
   "execution_count": null,
   "id": "b0480912",
   "metadata": {
    "scrolled": true
   },
   "outputs": [],
   "source": []
  },
  {
   "cell_type": "code",
   "execution_count": 88,
   "id": "690c8584",
   "metadata": {},
   "outputs": [
    {
     "name": "stdout",
     "output_type": "stream",
     "text": [
      "[[[251 248 248]\n",
      "  [253 250 250]\n",
      "  [253 255 255]\n",
      "  ...\n",
      "  [253 253 253]\n",
      "  [253 253 253]\n",
      "  [253 253 253]]\n",
      "\n",
      " [[254 253 253]\n",
      "  [254 253 253]\n",
      "  [255 255 255]\n",
      "  ...\n",
      "  [254 254 254]\n",
      "  [254 254 254]\n",
      "  [254 254 254]]\n",
      "\n",
      " [[255 255 255]\n",
      "  [255 254 254]\n",
      "  [255 255 255]\n",
      "  ...\n",
      "  [253 253 253]\n",
      "  [253 253 253]\n",
      "  [253 253 253]]\n",
      "\n",
      " ...\n",
      "\n",
      " [[239 236 239]\n",
      "  [210 208 209]\n",
      "  [244 244 244]\n",
      "  ...\n",
      "  [251 248 248]\n",
      "  [253 249 249]\n",
      "  [253 253 253]]\n",
      "\n",
      " [[250 250 250]\n",
      "  [235 235 233]\n",
      "  [249 249 249]\n",
      "  ...\n",
      "  [254 251 252]\n",
      "  [254 253 253]\n",
      "  [255 254 254]]\n",
      "\n",
      " [[249 249 249]\n",
      "  [249 248 248]\n",
      "  [253 250 250]\n",
      "  ...\n",
      "  [255 253 253]\n",
      "  [251 251 251]\n",
      "  [253 250 250]]]\n"
     ]
    }
   ],
   "source": [
    "print(image)"
   ]
  },
  {
   "cell_type": "code",
   "execution_count": 89,
   "id": "448d7389",
   "metadata": {},
   "outputs": [],
   "source": [
    "crop=image[100:1200,0:1500]"
   ]
  },
  {
   "cell_type": "code",
   "execution_count": null,
   "id": "0146a14b",
   "metadata": {},
   "outputs": [
    {
     "data": {
      "text/plain": [
       "(380, 640, 3)"
      ]
     },
     "execution_count": 19,
     "metadata": {},
     "output_type": "execute_result"
    }
   ],
   "source": [
    "crop.shape"
   ]
  },
  {
   "cell_type": "code",
   "execution_count": null,
   "id": "fae3f41c",
   "metadata": {},
   "outputs": [
    {
     "data": {
      "text/plain": [
       "729600"
      ]
     },
     "execution_count": 20,
     "metadata": {},
     "output_type": "execute_result"
    }
   ],
   "source": [
    "crop.size"
   ]
  },
  {
   "cell_type": "code",
   "execution_count": null,
   "id": "b0bca51d",
   "metadata": {},
   "outputs": [],
   "source": [
    "cv2.imshow(\"\",crop)\n",
    "cv2.waitKey(0)\n",
    "cv2.destroyAllWindows()"
   ]
  }
 ],
 "metadata": {
  "kernelspec": {
   "display_name": "Python 3.10.4 64-bit",
   "language": "python",
   "name": "python3"
  },
  "language_info": {
   "codemirror_mode": {
    "name": "ipython",
    "version": 3
   },
   "file_extension": ".py",
   "mimetype": "text/x-python",
   "name": "python",
   "nbconvert_exporter": "python",
   "pygments_lexer": "ipython3",
   "version": "3.10.4"
  },
  "vscode": {
   "interpreter": {
    "hash": "67d61799369d3d458fe9f3e6f663dde80c67953d9362c1959a1136b65c9387f9"
   }
  }
 },
 "nbformat": 4,
 "nbformat_minor": 5
}
