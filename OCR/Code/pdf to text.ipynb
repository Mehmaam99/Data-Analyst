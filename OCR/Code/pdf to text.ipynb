{
 "cells": [
  {
   "cell_type": "code",
   "execution_count": 1,
   "id": "98a02e81",
   "metadata": {},
   "outputs": [],
   "source": [
    "# Useful libraries\n",
    "from pdf2image import convert_from_path\n",
    "from pytesseract import image_to_string\n",
    "import pytesseract\n",
    "\n",
    "pytesseract.pytesseract.tesseract_cmd = r'C:\\\\Program Files\\\\Tesseract-OCR\\\\tesseract'\n"
   ]
  },
  {
   "cell_type": "code",
   "execution_count": 2,
   "id": "118e278f",
   "metadata": {},
   "outputs": [],
   "source": [
    "def convert_pdf_to_img(pdf_file):\n",
    "    \"\"\"\n",
    "    @desc: this function converts a PDF into Image\n",
    "    \n",
    "    @params:\n",
    "        - pdf_file: the file to be converted\n",
    "    \n",
    "    @returns:\n",
    "        - an interable containing image format of all the pages of the PDF\n",
    "    \"\"\"\n",
    "    return convert_from_path(pdf_file)\n",
    "\n",
    "\n",
    "def convert_image_to_text(file):\n",
    "    \"\"\"\n",
    "    @desc: this function extracts text from image\n",
    "    \n",
    "    @params:\n",
    "        - file: the image file to extract the content\n",
    "    \n",
    "    @returns:\n",
    "        - the textual content of single image\n",
    "    \"\"\"\n",
    "    \n",
    "    text = image_to_string(file)\n",
    "    return text\n",
    "\n",
    "\n",
    "def get_text_from_any_pdf(pdf_file):\n",
    "    \"\"\"\n",
    "    @desc: this function is our final system combining the previous functions\n",
    "    \n",
    "    @params:\n",
    "        - file: the original PDF File\n",
    "    \n",
    "    @returns:\n",
    "        - the textual content of ALL the pages\n",
    "    \"\"\"\n",
    "    images = convert_pdf_to_img(pdf_file)\n",
    "    final_text = \"\"\n",
    "    for pg, img in enumerate(images):\n",
    "        \n",
    "        final_text += convert_image_to_text(img)\n",
    "        #print(\"Page n°{}\".format(pg))\n",
    "        #print(convert_image_to_text(img))\n",
    "    \n",
    "    return final_text"
   ]
  },
  {
   "cell_type": "code",
   "execution_count": 3,
   "id": "6d86470f",
   "metadata": {},
   "outputs": [],
   "source": [
    "path_to_pdf = 'C:\\\\Users\\\\Naeem\\\\OCR\\\\Chem\\\\chem.pdf'"
   ]
  },
  {
   "cell_type": "code",
   "execution_count": 4,
   "id": "25d45871",
   "metadata": {
    "scrolled": true
   },
   "outputs": [
    {
     "name": "stdout",
     "output_type": "stream",
     "text": [
      "SALES TAX\n",
      "ier INVOICE\n",
      "\n",
      "Our Success\n",
      "\n",
      "CHEM COLOR INTERNATIONAL\n",
      "\n",
      "C-I1-43 SECTOR L-1, SURJANI TOWN KARACHI\n",
      "National Tax No: 1437878-7 oe\n",
      "\n",
      "2 Invoice Date : [17-Aug-2019 |\n",
      "Bales Tax No: 11-02-9999-741-82 Invoice No: | SI-CcI-01503_|\n",
      "Phone: 92-36910085-6-7 Payment Mode : 90 DAYS\n",
      "Fax: Payment Due Date: 15-Nov-2019\n",
      "\n",
      "“Email : accounts@chemcolorintl.com Currency : | PAKRUPEES |\n",
      "Web: www.chemcolorintl.com Exrate : 71.00\n",
      "\n",
      "S.O#: LSO-CCI-01901\n",
      "BUYER” ieee eae Party P.O #: 76457,___ |\n",
      "\n",
      "M/S: ARTISTIC MILLINERS (PVT) LTD # 4\n",
      "Department : rd\n",
      "Address: 37-F B, BLOCK 6/ P.E.C.H.S, SHARA E\n",
      "\n",
      "FAISAL, et\n",
      "\n",
      "Phone: DC No. |20050,20051,\n",
      "\n",
      "National Tax No: 2645727-0\n",
      "Sales Tax No: 17-50-5205-002-82\n",
      "\n",
      "i PRs\n",
      "S.No. ITEM i WEIGHT). RAT!\n",
      "af UREA 500.00 40.00 ri 70,200\n",
      "Total oA 1,500.00 ig 70,200\n",
      "\n",
      "AMOUNT IN WORDS :\n",
      "\n",
      "o Oe\n",
      "\n",
      "ITEM DESCRIPTION : 29-a-Organic Chernica S,\n",
      "\n",
      "OTHER COMMENTS .\n",
      "\n",
      "Please include the Bill no orn-your. cheque,\n",
      "\n",
      "- qi0Mfo3??\n",
      "\n",
      "Receiver Name: Received By:\n",
      "\n",
      "AUTHORIZED BY Thank You For Your Business ISSUED BY\n"
     ]
    }
   ],
   "source": [
    "cop=(get_text_from_any_pdf(path_to_pdf))\n",
    "c=cop.strip()\n",
    "print(c)\n"
   ]
  },
  {
   "cell_type": "code",
   "execution_count": 5,
   "id": "5feb0237",
   "metadata": {},
   "outputs": [
    {
     "name": "stdout",
     "output_type": "stream",
     "text": [
      "['ABC Company\\n', '\\n', 'Ye Address Hai\\n', '\\n', 'Ye city Name Hai\\n', '\\n', 'P CODE : 95080\\n', 'Phone:+9212548662\\n', 'tokyo@email.co.uk\\n', '\\n', 'BILLED TO\\n', '\\n', 'Yaha naam aega\\n', 'Area dalo yaha\\n', 'Address dalo idher\\n', 'P.code: 85046\\n', 'phone :03254124578\\n', '\\n', 'Invoice Description\\n', 'INVOICE NUMBER: VOuniterninarne\\n', 'MM/DD/IYYYY\\n', '\\n', 'Your item name\\n', 'DATE OF ISSUE:\\n', '00001 Your item name\\n', 'Your item name\\n', 'Your item name\\n', 'Your item name\\n', '\\n', 'Your item name\\n', '\\n', 'Your item name\\n', '\\n', 'TERMS\\n', 'Please pay invoice by MM/DDNYYY\\n', '\\n', 'Unit cost QTY/HR Rate\\n', '\\n', '$0.00\\n', '$0.00\\n', '$0.00\\n', '$0.00\\n', '$0.00\\n', '$0.00\\n', '$0.00\\n', '\\n', '$0.00\\n', '\\n', 'SUBTOTAL\\n', 'DISCOUNT\\n', 'TAX RATE\\n', '\\n', 'TAX\\n', '\\n', 'Send money abroad with TransferWise.\\n', '\\n', 'YOUR LOGO\\n', '\\n', 'Amount\\n', '$0.00\\n', '$0.00\\n', '$0.00\\n', '$0.00\\n', '$0.00\\n', '$0.00\\n', '$0.00\\n', '\\n', '$0.00\\n', '\\n', '$0.00\\n', '$0.00\\n', '\\n', '%\\n', '$0.00\\n', '\\n', 'INVOICE TOTAL\\n', '\\n', '$0.00\\n', '\\n', '1lrransferWise']\n"
     ]
    }
   ],
   "source": [
    "mylines = []                             # Declare an empty list named mylines.\n",
    "with open ('D:\\\\Mehmaam\\\\OCR\\\\Materials\\\\cop.txt', 'rt') as myfile: # Open lorem.txt for reading text data.\n",
    "    for myline in myfile:                # For each line, stored as myline,\n",
    "        mylines.append(myline)\n",
    "        \n",
    "print(mylines) "
   ]
  },
  {
   "cell_type": "code",
   "execution_count": 6,
   "id": "e64a0b82",
   "metadata": {},
   "outputs": [],
   "source": [
    "mylines = ' '.join(mylines).split()\n",
    "      "
   ]
  },
  {
   "cell_type": "code",
   "execution_count": 7,
   "id": "f1da2395",
   "metadata": {},
   "outputs": [
    {
     "name": "stdout",
     "output_type": "stream",
     "text": [
      "['ABC', 'Company', 'Ye', 'Address', 'Hai', 'Ye', 'city', 'Name', 'Hai', 'P', 'CODE', ':', '95080', 'Phone:+9212548662', 'tokyo@email.co.uk', 'BILLED', 'TO', 'Yaha', 'naam', 'aega', 'Area', 'dalo', 'yaha', 'Address', 'dalo', 'idher', 'P.code:', '85046', 'phone', ':03254124578', 'Invoice', 'Description', 'INVOICE', 'NUMBER:', 'VOuniterninarne', 'MM/DD/IYYYY', 'Your', 'item', 'name', 'DATE', 'OF', 'ISSUE:', '00001', 'Your', 'item', 'name', 'Your', 'item', 'name', 'Your', 'item', 'name', 'Your', 'item', 'name', 'Your', 'item', 'name', 'Your', 'item', 'name', 'TERMS', 'Please', 'pay', 'invoice', 'by', 'MM/DDNYYY', 'Unit', 'cost', 'QTY/HR', 'Rate', '$0.00', '$0.00', '$0.00', '$0.00', '$0.00', '$0.00', '$0.00', '$0.00', 'SUBTOTAL', 'DISCOUNT', 'TAX', 'RATE', 'TAX', 'Send', 'money', 'abroad', 'with', 'TransferWise.', 'YOUR', 'LOGO', 'Amount', '$0.00', '$0.00', '$0.00', '$0.00', '$0.00', '$0.00', '$0.00', '$0.00', '$0.00', '$0.00', '%', '$0.00', 'INVOICE', 'TOTAL', '$0.00', '1lrransferWise']\n"
     ]
    }
   ],
   "source": [
    "print(mylines)                 "
   ]
  },
  {
   "cell_type": "code",
   "execution_count": 8,
   "id": "ebc3e912",
   "metadata": {},
   "outputs": [
    {
     "data": {
      "text/plain": [
       "'ABC'"
      ]
     },
     "execution_count": 8,
     "metadata": {},
     "output_type": "execute_result"
    }
   ],
   "source": [
    "mylines[0]\n",
    "mylines[0]"
   ]
  },
  {
   "cell_type": "code",
   "execution_count": 9,
   "id": "68cab1a0",
   "metadata": {},
   "outputs": [
    {
     "data": {
      "text/plain": [
       "'S A L E S   T A X \\n i e r   I N V O I C E \\n \\n O u r   S u c c e s s \\n \\n C H E M   C O L O R   I N T E R N A T I O N A L \\n \\n C - I 1 - 4 3   S E C T O R   L - 1 ,   S U R J A N I   T O W N   K A R A C H I \\n N a t i o n a l   T a x   N o :   1 4 3 7 8 7 8 - 7   o e \\n \\n 2   I n v o i c e   D a t e   :   [ 1 7 - A u g - 2 0 1 9   | \\n B a l e s   T a x   N o :   1 1 - 0 2 - 9 9 9 9 - 7 4 1 - 8 2   I n v o i c e   N o :   |   S I - C c I - 0 1 5 0 3 _ | \\n P h o n e :   9 2 - 3 6 9 1 0 0 8 5 - 6 - 7   P a y m e n t   M o d e   :   9 0   D A Y S \\n F a x :   P a y m e n t   D u e   D a t e :   1 5 - N o v - 2 0 1 9 \\n \\n “ E m a i l   :   a c c o u n t s @ c h e m c o l o r i n t l . c o m   C u r r e n c y   :   |   P A K R U P E E S   | \\n W e b :   w w w . c h e m c o l o r i n t l . c o m   E x r a t e   :   7 1 . 0 0 \\n \\n S . O # :   L S O - C C I - 0 1 9 0 1 \\n B U Y E R ”   i e e e   e a e   P a r t y   P . O   # :   7 6 4 5 7 , _ _ _   | \\n \\n M / S :   A R T I S T I C   M I L L I N E R S   ( P V T )   L T D   #   4 \\n D e p a r t m e n t   :   r d \\n A d d r e s s :   3 7 - F   B ,   B L O C K   6 /   P . E . C . H . S ,   S H A R A   E \\n \\n F A I S A L ,   e t \\n \\n P h o n e :   D C   N o .   | 2 0 0 5 0 , 2 0 0 5 1 , \\n \\n N a t i o n a l   T a x   N o :   2 6 4 5 7 2 7 - 0 \\n S a l e s   T a x   N o :   1 7 - 5 0 - 5 2 0 5 - 0 0 2 - 8 2 \\n \\n i   P R s \\n S . N o .   I T E M   i   W E I G H T ) .   R A T ! \\n a f   U R E A   5 0 0 . 0 0   4 0 . 0 0   r i   7 0 , 2 0 0 \\n T o t a l   o A   1 , 5 0 0 . 0 0   i g   7 0 , 2 0 0 \\n \\n A M O U N T   I N   W O R D S   : \\n \\n o   O e \\n \\n I T E M   D E S C R I P T I O N   :   2 9 - a - O r g a n i c   C h e r n i c a   S , \\n \\n O T H E R   C O M M E N T S   . \\n \\n P l e a s e   i n c l u d e   t h e   B i l l   n o   o r n - y o u r .   c h e q u e , \\n \\n -   q i 0 M f o 3 ? ? \\n \\n R e c e i v e r   N a m e :   R e c e i v e d   B y : \\n \\n A U T H O R I Z E D   B Y   T h a n k   Y o u   F o r   Y o u r   B u s i n e s s   I S S U E D   B Y'"
      ]
     },
     "execution_count": 9,
     "metadata": {},
     "output_type": "execute_result"
    }
   ],
   "source": [
    "string=\" \".join(c)\n",
    "\n",
    "ss_string=string.strip()\n",
    "ss_string"
   ]
  },
  {
   "cell_type": "code",
   "execution_count": 10,
   "id": "1f857797",
   "metadata": {},
   "outputs": [],
   "source": [
    "text_file = open(\"cop.txt\", \"w\")\n",
    " \n",
    "#write string to file\n",
    "n = text_file.write(c)\n",
    " \n",
    "#close file\n",
    "text_file.close()\n"
   ]
  },
  {
   "cell_type": "code",
   "execution_count": 11,
   "id": "9c5b4958",
   "metadata": {},
   "outputs": [
    {
     "name": "stdout",
     "output_type": "stream",
     "text": [
      "SALES TAX\n",
      "ier INVOICE\n",
      "\n",
      "Our Success\n",
      "\n",
      "CHEM COLOR INTERNATIONAL\n",
      "\n",
      "C-I1-43 SECTOR L-1, SURJANI TOWN KARACHI\n",
      "National Tax No: 1437878-7 oe\n",
      "\n",
      "2 Invoice Date : [17-Aug-2019 |\n",
      "Bales Tax No: 11-02-9999-741-82 Invoice No: | SI-CcI-01503_|\n",
      "Phone: 92-36910085-6-7 Payment Mode : 90 DAYS\n",
      "Fax: Payment Due Date: 15-Nov-2019\n",
      "\n",
      "“Email : accounts@chemcolorintl.com Currency : | PAKRUPEES |\n",
      "Web: www.chemcolorintl.com Exrate : 71.00\n",
      "\n",
      "S.O#: LSO-CCI-01901\n",
      "BUYER” ieee eae Party P.O #: 76457,___ |\n",
      "\n",
      "M/S: ARTISTIC MILLINERS (PVT) LTD # 4\n",
      "Department : rd\n",
      "Address: 37-F B, BLOCK 6/ P.E.C.H.S, SHARA E\n",
      "\n",
      "FAISAL, et\n",
      "\n",
      "Phone: DC No. |20050,20051,\n",
      "\n",
      "National Tax No: 2645727-0\n",
      "Sales Tax No: 17-50-5205-002-82\n",
      "\n",
      "i PRs\n",
      "S.No. ITEM i WEIGHT). RAT!\n",
      "af UREA 500.00 40.00 ri 70,200\n",
      "Total oA 1,500.00 ig 70,200\n",
      "\n",
      "AMOUNT IN WORDS :\n",
      "\n",
      "o Oe\n",
      "\n",
      "ITEM DESCRIPTION : 29-a-Organic Chernica S,\n",
      "\n",
      "OTHER COMMENTS .\n",
      "\n",
      "Please include the Bill no orn-your. cheque,\n",
      "\n",
      "- qi0Mfo3??\n",
      "\n",
      "Receiver Name: Received By:\n",
      "\n",
      "AUTHORIZED BY Thank You For Your Business ISSUED BY\n"
     ]
    }
   ],
   "source": [
    "print (c)"
   ]
  },
  {
   "cell_type": "code",
   "execution_count": 12,
   "id": "c1d4434e",
   "metadata": {},
   "outputs": [
    {
     "data": {
      "text/plain": [
       "'SALES TAX\\nier INVOICE\\n\\nOur Success\\n\\nCHEM COLOR INTERNATIONAL\\n\\nC-I1-43 SECTOR L-1, SURJANI TOWN KARACHI\\nNational Tax No: 1437878-7 oe\\n\\n2 Invoice Date : [17-Aug-2019 |\\nBales Tax No: 11-02-9999-741-82 Invoice No: | SI-CcI-01503_|\\nPhone: 92-36910085-6-7 Payment Mode : 90 DAYS\\nFax: Payment Due Date: 15-Nov-2019\\n\\n“Email : accounts@chemcolorintl.com Currency : | PAKRUPEES |\\nWeb: www.chemcolorintl.com Exrate : 71.00\\n\\nS.O#: LSO-CCI-01901\\nBUYER” ieee eae Party P.O #: 76457,___ |\\n\\nM/S: ARTISTIC MILLINERS (PVT) LTD # 4\\nDepartment : rd\\nAddress: 37-F B, BLOCK 6/ P.E.C.H.S, SHARA E\\n\\nFAISAL, et\\n\\nPhone: DC No. |20050,20051,\\n\\nNational Tax No: 2645727-0\\nSales Tax No: 17-50-5205-002-82\\n\\ni PRs\\nS.No. ITEM i WEIGHT). RAT!\\naf UREA 500.00 40.00 ri 70,200\\nTotal oA 1,500.00 ig 70,200\\n\\nAMOUNT IN WORDS :\\n\\no Oe\\n\\nITEM DESCRIPTION : 29-a-Organic Chernica S,\\n\\nOTHER COMMENTS .\\n\\nPlease include the Bill no orn-your. cheque,\\n\\n- qi0Mfo3??\\n\\nReceiver Name: Received By:\\n\\nAUTHORIZED BY Thank You For Your Business ISSUED BY'"
      ]
     },
     "execution_count": 12,
     "metadata": {},
     "output_type": "execute_result"
    }
   ],
   "source": [
    "c\n"
   ]
  },
  {
   "cell_type": "code",
   "execution_count": 13,
   "id": "c13c06db",
   "metadata": {},
   "outputs": [
    {
     "name": "stdout",
     "output_type": "stream",
     "text": [
      "['SALES TAX', 'ier INVOICE', 'Our Success', 'CHEM COLOR INTERNATIONAL', 'C-I1-43 SECTOR L-1, SURJANI TOWN KARACHI', 'National Tax No: 1437878-7 oe', '2 Invoice Date : [17-Aug-2019 |', 'Bales Tax No: 11-02-9999-741-82 Invoice No: | SI-CcI-01503_|', 'Phone: 92-36910085-6-7 Payment Mode : 90 DAYS', 'Fax: Payment Due Date: 15-Nov-2019', '“Email : accounts@chemcolorintl.com Currency : | PAKRUPEES |', 'Web: www.chemcolorintl.com Exrate : 71.00', 'S.O#: LSO-CCI-01901', 'BUYER” ieee eae Party P.O #: 76457,___ |', 'M/S: ARTISTIC MILLINERS (PVT) LTD # 4', 'Department : rd', 'Address: 37-F B, BLOCK 6/ P.E.C.H.S, SHARA E', 'FAISAL, et', 'Phone: DC No. |20050,20051,', 'National Tax No: 2645727-0', 'Sales Tax No: 17-50-5205-002-82', 'i PRs', 'S.No. ITEM i WEIGHT). RAT!', 'af UREA 500.00 40.00 ri 70,200', 'Total oA 1,500.00 ig 70,200', 'AMOUNT IN WORDS :', 'o Oe', 'ITEM DESCRIPTION : 29-a-Organic Chernica S,', 'OTHER COMMENTS .', 'Please include the Bill no orn-your. cheque,', '- qi0Mfo3??', 'Receiver Name: Received By:', 'AUTHORIZED BY Thank You For Your Business ISSUED BY']\n"
     ]
    }
   ],
   "source": [
    "res = c.split(\"\\n\")\n",
    "\n",
    "char = []\n",
    "for ele in res:\n",
    "    if ele.strip():\n",
    "        char.append(ele)\n",
    "\n",
    "print(char)"
   ]
  },
  {
   "cell_type": "code",
   "execution_count": 14,
   "id": "6409168e",
   "metadata": {},
   "outputs": [],
   "source": [
    "#Interface\n"
   ]
  },
  {
   "cell_type": "code",
   "execution_count": 15,
   "id": "e4bbad26",
   "metadata": {},
   "outputs": [
    {
     "name": "stdout",
     "output_type": "stream",
     "text": [
      "\n",
      "===Company Detail===\n",
      "\n",
      "Party P.O #              :\tS.O#: LSO-CCI-01901\n",
      "National Tax No.         :\tBUYER” ieee eae Party P.O #: 76457,___ |\n",
      "\n",
      "===Customer Detail===\n",
      "\n",
      "sno                      :\tM/S: ARTISTIC MILLINERS (PVT) LTD # 4\n",
      "item                     :\tDepartment : rd\n",
      "weight                   :\tAddress: 37-F B, BLOCK 6/ P.E.C.H.S, SHARA E\n",
      "rate                     :\tFAISAL, et\n",
      "excluding                :\tPhone: DC No. |20050,20051,\n",
      "gst                      :\tNational Tax No: 2645727-0\n",
      "gst amt                  :\tSales Tax No: 17-50-5205-002-82\n",
      "cartage                  :\ti PRs\n",
      "discount                 :\tS.No. ITEM i WEIGHT). RAT!\n",
      "including value          :\taf UREA 500.00 40.00 ri 70,200\n"
     ]
    }
   ],
   "source": [
    "print(\"\\n===Company Detail===\\n\")\n",
    "\n",
    "print(\"Party P.O #              :\\t\"+char[12],end=\"\\n\")\n",
    "print(\"National Tax No.         :\\t\"+char[13],end=\"\\n\")\n",
    "\n",
    "print(\"\\n===Customer Detail===\\n\")\n",
    "print(\"sno                      :\\t\"+char[14],end=\"\\n\")\n",
    "print(\"item                     :\\t\"+char[15],end=\"\\n\")\n",
    "print(\"weight                   :\\t\"+char[16],end=\"\\n\")\n",
    "print(\"rate                     :\\t\"+char[17],end=\"\\n\")\n",
    "print(\"excluding                :\\t\"+char[18],end=\"\\n\")\n",
    "print(\"gst                      :\\t\"+char[19],end=\"\\n\")\n",
    "print(\"gst amt                  :\\t\"+char[20],end=\"\\n\")\n",
    "print(\"cartage                  :\\t\"+char[21],end=\"\\n\")\n",
    "print(\"discount                 :\\t\"+char[22],end=\"\\n\")\n",
    "print(\"including value          :\\t\"+char[23],end=\"\\n\")\n"
   ]
  },
  {
   "cell_type": "code",
   "execution_count": null,
   "id": "ca6034f1",
   "metadata": {},
   "outputs": [],
   "source": []
  },
  {
   "cell_type": "code",
   "execution_count": null,
   "id": "ec7861f8",
   "metadata": {},
   "outputs": [],
   "source": []
  }
 ],
 "metadata": {
  "kernelspec": {
   "display_name": "Python 3 (ipykernel)",
   "language": "python",
   "name": "python3"
  },
  "language_info": {
   "codemirror_mode": {
    "name": "ipython",
    "version": 3
   },
   "file_extension": ".py",
   "mimetype": "text/x-python",
   "name": "python",
   "nbconvert_exporter": "python",
   "pygments_lexer": "ipython3",
   "version": "3.9.7"
  }
 },
 "nbformat": 4,
 "nbformat_minor": 5
}
