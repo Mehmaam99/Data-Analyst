{
 "cells": [
  {
   "cell_type": "code",
   "execution_count": 1,
   "id": "06759a5f",
   "metadata": {},
   "outputs": [
    {
     "name": "stdout",
     "output_type": "stream",
     "text": [
      "dict_keys(['level', 'page_num', 'block_num', 'par_num', 'line_num', 'word_num', 'left', 'top', 'width', 'height', 'conf', 'text'])\n"
     ]
    }
   ],
   "source": [
    "import cv2\n",
    "import pytesseract\n",
    "from pytesseract import Output\n",
    "pytesseract.pytesseract.tesseract_cmd = r'C:\\\\Program Files\\\\Tesseract-OCR\\\\tesseract'\n",
    "a=800\n",
    "img = cv2.imread('C:\\\\Users\\\\Naeem\\OCR\\\\Materials\\\\invoice_02-1.png')\n",
    "\n",
    "dim=(a,a)\n",
    "#resized = cv2.resize(img, dim, interpolation = cv2.INTER_AREA)\n",
    "crop=img[0:800,0:1000]\n",
    "d = pytesseract.image_to_data(crop, output_type=Output.DICT)\n",
    "print(d.keys())"
   ]
  },
  {
   "cell_type": "code",
   "execution_count": 2,
   "id": "dcf6ecd2",
   "metadata": {},
   "outputs": [],
   "source": [
    "n_boxes = len(d['text'])\n",
    "for i in range(n_boxes):\n",
    "    if int(float(d['conf'][i])) > 60:\n",
    "        (x, y, w, h) = (d['left'][i], d['top'][i], d['width'][i], d['height'][i])\n",
    "        crop = cv2.rectangle(crop, (x, y), (x + w, y + h), (0, 255, 0), 2)\n",
    "\n",
    "cv2.imshow('img', crop)\n",
    "cv2.waitKey(0)\n",
    "cv2.destroyAllWindows()"
   ]
  },
  {
   "cell_type": "code",
   "execution_count": 3,
   "id": "0ec94093",
   "metadata": {},
   "outputs": [],
   "source": [
    "dic=d.get('text')"
   ]
  },
  {
   "cell_type": "code",
   "execution_count": 4,
   "id": "4d1c896d",
   "metadata": {},
   "outputs": [
    {
     "name": "stdout",
     "output_type": "stream",
     "text": [
      "['', '', '', '', 'ABC', 'Company', '', '', '', 'Hidden', 'Leaf', 'Village', '99', '+9212548662', '', '', '', 'Street', 'Tokyo,', 'Japan', 'tokyo@email.co.uk', '', '95080', 'tokyoghoul.co.uk', '', 'BILLED', 'TO', '', '', 'Uchiha', 'Itachi', '', '', '', 'akatsuki', 'uzumaki', '', 'tokyo,', 'shinghai,', 'Japan', '', '85046', '', '', '03254124578']\n"
     ]
    }
   ],
   "source": [
    "res = [item.replace('©', ' ') for item in dic]\n",
    "\n",
    "print(res)"
   ]
  },
  {
   "cell_type": "code",
   "execution_count": 5,
   "id": "1045119b",
   "metadata": {},
   "outputs": [],
   "source": [
    "cv2.imshow(\"\",crop)\n",
    "cv2.waitKey(0)\n",
    "cv2.destroyAllWindows()"
   ]
  },
  {
   "cell_type": "code",
   "execution_count": 6,
   "id": "49804c5e",
   "metadata": {},
   "outputs": [
    {
     "data": {
      "text/plain": [
       "'ABC Company    Hidden Leaf Village 99 +9212548662    Street Tokyo, Japan tokyo@email.co.uk  95080 tokyoghoul.co.uk  BILLED TO   Uchiha Itachi    akatsuki uzumaki  tokyo, shinghai, Japan  85046   03254124578'"
      ]
     },
     "execution_count": 6,
     "metadata": {},
     "output_type": "execute_result"
    }
   ],
   "source": [
    "string=\" \".join(res)\n",
    "\n",
    "ss_string=string.strip()\n",
    "ss_string"
   ]
  },
  {
   "cell_type": "code",
   "execution_count": 7,
   "id": "cef92056",
   "metadata": {},
   "outputs": [],
   "source": [
    "text_file = open(\"C:\\\\Users\\\\Naeem\\\\OCR\\\\Materials\\\\ss_string.txt\", \"w\")\n",
    " \n",
    "#write string to file\n",
    "n = text_file.write(ss_string)\n",
    " \n",
    "#close file\n",
    "text_file.close()"
   ]
  },
  {
   "cell_type": "code",
   "execution_count": 8,
   "id": "1249d7ea",
   "metadata": {},
   "outputs": [
    {
     "data": {
      "text/plain": [
       "'ABC Company    Hidden Leaf Village 99 +9212548662    Street Tokyo, Japan tokyo@email.co.uk  95080 tokyoghoul.co.uk  BILLED TO   Uchiha Itachi    akatsuki uzumaki  tokyo, shinghai, Japan  85046   03254124578'"
      ]
     },
     "execution_count": 8,
     "metadata": {},
     "output_type": "execute_result"
    }
   ],
   "source": [
    "string=\" \".join(res)\n",
    "\n",
    "s_string=string.strip()\n",
    "s_string"
   ]
  },
  {
   "cell_type": "code",
   "execution_count": 9,
   "id": "151fc9b8",
   "metadata": {},
   "outputs": [],
   "source": [
    "text_file = open(\"C:\\\\Users\\\\Naeem\\\\OCR\\\\Materials\\\\s_string.txt\", \"w\")\n",
    " \n",
    "#write string to file\n",
    "n = text_file.write(s_string)\n",
    " \n",
    "#close file\n",
    "text_file.close()"
   ]
  },
  {
   "cell_type": "code",
   "execution_count": 10,
   "id": "b27bc3b3",
   "metadata": {},
   "outputs": [
    {
     "name": "stdout",
     "output_type": "stream",
     "text": [
      "['ABC Company    Hidden Leaf Village 99 +9212548662    Street Tokyo, Japan tokyo@email.co.uk  95080 tokyoghoul.co.uk  BILLED TO   Uchiha Itachi    akatsuki uzumaki  tokyo, shinghai, Japan  85046   03254124578']\n"
     ]
    }
   ],
   "source": [
    "mylines = []                             # Declare an empty list named mylines.\n",
    "with open ('C:\\\\Users\\\\Naeem\\\\OCR\\\\Materials\\\\s_string.txt', 'rt') as myfile: # Open lorem.txt for reading text data.\n",
    "    for myline in myfile:                # For each line, stored as myline,\n",
    "        mylines.append(myline)           # add its contents to mylines.\n",
    "print(mylines) "
   ]
  },
  {
   "cell_type": "code",
   "execution_count": 11,
   "id": "dc679069",
   "metadata": {},
   "outputs": [
    {
     "name": "stdout",
     "output_type": "stream",
     "text": [
      "ABC Company    Hidden Leaf Village 99 +9212548662    Street Tokyo, Japan tokyo@email.co.uk  95080 tokyoghoul.co.uk  BILLED TO   Uchiha Itachi    akatsuki uzumaki  tokyo, shinghai, Japan  85046   03254124578\n"
     ]
    }
   ],
   "source": [
    "print(mylines[0])"
   ]
  }
 ],
 "metadata": {
  "kernelspec": {
   "display_name": "Python 3 (ipykernel)",
   "language": "python",
   "name": "python3"
  },
  "language_info": {
   "codemirror_mode": {
    "name": "ipython",
    "version": 3
   },
   "file_extension": ".py",
   "mimetype": "text/x-python",
   "name": "python",
   "nbconvert_exporter": "python",
   "pygments_lexer": "ipython3",
   "version": "3.10.4"
  }
 },
 "nbformat": 4,
 "nbformat_minor": 5
}
