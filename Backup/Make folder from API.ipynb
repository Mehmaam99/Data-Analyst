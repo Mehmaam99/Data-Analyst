{
 "cells": [
  {
   "cell_type": "code",
   "execution_count": 167,
   "id": "e74da465",
   "metadata": {},
   "outputs": [],
   "source": [
    "import matplotlib.pyplot as plt\n",
    "import requests\n",
    "import json\n",
    "import ssl\n",
    "import pandas as pd"
   ]
  },
  {
   "cell_type": "code",
   "execution_count": 168,
   "id": "7ee0a252",
   "metadata": {},
   "outputs": [
    {
     "name": "stderr",
     "output_type": "stream",
     "text": [
      "C:\\Users\\Naeem\\anaconda3\\lib\\site-packages\\urllib3\\connectionpool.py:1013: InsecureRequestWarning: Unverified HTTPS request is being made to host 'art.artisticmilliners.com'. Adding certificate verification is strongly advised. See: https://urllib3.readthedocs.io/en/1.26.x/advanced-usage.html#ssl-warnings\n",
      "  warnings.warn(\n"
     ]
    }
   ],
   "source": [
    "response = requests.get('https://art.artisticmilliners.com:8081/ords/art/ocr/invoice/id/', verify = False).text\n",
    "response_info = json.loads(response)\n",
    "data=response_info['items']"
   ]
  },
  {
   "cell_type": "code",
   "execution_count": 170,
   "id": "d5c35929",
   "metadata": {},
   "outputs": [
    {
     "name": "stdout",
     "output_type": "stream",
     "text": [
      "Directory '05242022/1' created\n"
     ]
    }
   ],
   "source": [
    "# Python program to explain os.mkdir() method\n",
    "  \n",
    "# importing os module\n",
    "import os\n",
    "import datetime\n",
    " \n",
    "\n",
    "try:\n",
    "    Current_Date_Formatted = datetime.datetime.today().strftime ('%m%d%Y')\n",
    "    current_date=str(Current_Date_Formatted)\n",
    "    parent_dir = f'C:/Users/Naeem/Desktop/Save Files/'\n",
    "\n",
    "    mode = 0o666\n",
    "\n",
    "    path = os.path.join(parent_dir, current_date)\n",
    "\n",
    "\n",
    "    os.mkdir(path, mode)\n",
    "\n",
    "    dicts=data[0]\n",
    "    val=next(iter(dicts.values()))\n",
    "    val=str(val)\n",
    "\n",
    "    current_date_folder=current_date+ \"/\"+ val\n",
    "    path = os.path.join(parent_dir, current_date_folder)\n",
    "    os.mkdir(path, mode)\n",
    "    print(\"Directory '% s' created\" % current_date_folder)\n",
    "except:\n",
    "    print(\"Folder already exist\")\n"
   ]
  },
  {
   "cell_type": "code",
   "execution_count": null,
   "id": "4161fec4",
   "metadata": {},
   "outputs": [],
   "source": []
  }
 ],
 "metadata": {
  "kernelspec": {
   "display_name": "Python 3 (ipykernel)",
   "language": "python",
   "name": "python3"
  },
  "language_info": {
   "codemirror_mode": {
    "name": "ipython",
    "version": 3
   },
   "file_extension": ".py",
   "mimetype": "text/x-python",
   "name": "python",
   "nbconvert_exporter": "python",
   "pygments_lexer": "ipython3",
   "version": "3.9.7"
  }
 },
 "nbformat": 4,
 "nbformat_minor": 5
}
