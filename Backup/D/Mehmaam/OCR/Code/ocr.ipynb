{
 "cells": [
  {
   "cell_type": "code",
   "execution_count": 2,
   "metadata": {},
   "outputs": [
    {
     "name": "stdout",
     "output_type": "stream",
     "text": [
      "SALES TAX\n",
      "INVOICE\n",
      "\n",
      "CHEM COLOR INTERNATIONAL\n",
      "ECTOR L-1, SURJANT TOWN KARACHI\n",
      "\n",
      "jonal Tax No: 1437878-7 _~ Invoice Date:\n",
      "12 Tax No 11-02-9999-741-82 Invoice No:\n",
      "Payment Due Date :\n",
      "“email : accounts@chemcolarintl.com currency\n",
      "c BUYER J Party P.0 +\n",
      "M/s ARTISTIC MILLINERS (PVT) LTD # 4\n",
      "\n",
      "pepe] ane ate ee _[brsedine | SRS\n",
      "AMOUNT IN WORDS Seventy Thousand Two Hundred Only. La\n",
      "\n",
      "Please Include the Bill ne on your cheaue.\n",
      "\n",
      "7910\" pJOB2?\n",
      "\n",
      "Receiver Name : Received By +\n",
      "\n",
      "tt\n",
      "\n",
      "AUTHORIZED BY ‘Thank You For Your Business T5500 BY\n",
      "\n",
      "\n"
     ]
    }
   ],
   "source": [
    "import cv2\n",
    "import pytesseract\n",
    "import matplotlib.pyplot as plt\n",
    "pytesseract.pytesseract.tesseract_cmd = r'C:\\\\Program Files\\\\Tesseract-OCR\\\\tesseract'\n",
    "imS = cv2.imread('C:\\\\Users\\\\Naeem\\\\OCR\\\\Materials\\\\Chem-1.png')\n",
    "img = cv2.resize(imS, (900,900))  \n",
    "cv2.imshow(\"Image\", img)\n",
    "text = pytesseract.image_to_string(img)\n",
    "print(text)\n",
    "cv2.waitKey(0)\n",
    "cv2.destroyAllWindows()"
   ]
  },
  {
   "cell_type": "code",
   "execution_count": null,
   "metadata": {},
   "outputs": [],
   "source": []
  },
  {
   "cell_type": "code",
   "execution_count": null,
   "metadata": {},
   "outputs": [],
   "source": []
  }
 ],
 "metadata": {
  "kernelspec": {
   "display_name": "Python 3.10.4 64-bit",
   "language": "python",
   "name": "python3"
  },
  "language_info": {
   "codemirror_mode": {
    "name": "ipython",
    "version": 3
   },
   "file_extension": ".py",
   "mimetype": "text/x-python",
   "name": "python",
   "nbconvert_exporter": "python",
   "pygments_lexer": "ipython3",
   "version": "3.10.4"
  },
  "orig_nbformat": 4,
  "vscode": {
   "interpreter": {
    "hash": "67d61799369d3d458fe9f3e6f663dde80c67953d9362c1959a1136b65c9387f9"
   }
  }
 },
 "nbformat": 4,
 "nbformat_minor": 2
}
