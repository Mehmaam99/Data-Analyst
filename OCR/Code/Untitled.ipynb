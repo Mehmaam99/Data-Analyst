{
 "cells": [
  {
   "cell_type": "code",
   "execution_count": null,
   "id": "f6111330",
   "metadata": {},
   "outputs": [],
   "source": [
    "import cv2\n",
    "src1 = cv2.imread('image1.png', cv2.IMREAD_COLOR)\n",
    "src2 = cv2.imread('image2.png', cv2.IMREAD_COLOR)\n",
    "\n",
    "# add or blend the images\n",
    "dst = cv2.addWeighted(src1, 0.5, src2, 0.5, 0.0)\n",
    "\n",
    "# save the output image\n",
    "cv2.imwrite('image.png', dst)"
   ]
  }
 ],
 "metadata": {
  "kernelspec": {
   "display_name": "Python 3 (ipykernel)",
   "language": "python",
   "name": "python3"
  },
  "language_info": {
   "codemirror_mode": {
    "name": "ipython",
    "version": 3
   },
   "file_extension": ".py",
   "mimetype": "text/x-python",
   "name": "python",
   "nbconvert_exporter": "python",
   "pygments_lexer": "ipython3",
   "version": "3.9.7"
  }
 },
 "nbformat": 4,
 "nbformat_minor": 5
}
