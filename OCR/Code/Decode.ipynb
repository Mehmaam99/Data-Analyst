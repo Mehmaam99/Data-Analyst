{
 "cells": [
  {
   "cell_type": "code",
   "execution_count": 1,
   "id": "cdeab4d2",
   "metadata": {},
   "outputs": [
    {
     "name": "stdout",
     "output_type": "stream",
     "text": [
      "This is a lot of 12 point text to test the\n",
      "ocr code and see if it works on all types\n",
      "of file format.\n",
      "\n",
      "The quick brown dog jumped over the\n",
      "lazy fox. The quick brown dog jumped\n",
      "over the lazy fox. The quick brown dog\n",
      "jumped over the lazy fox. The quick\n",
      "brown dog jumped over the lazy fox.\n",
      "\n"
     ]
    }
   ],
   "source": [
    "# C:\\Program Files\\Tesseract-OCR\n",
    "    \n",
    "import cv2\n",
    "import pytesseract\n",
    "import matplotlib.pyplot as plt\n",
    "pytesseract.pytesseract.tesseract_cmd = r'C:\\\\Program Files\\\\Tesseract-OCR\\\\tesseract'\n",
    "img = cv2.imread(\"C:\\\\Users\\\\Naeem\\\\OCR\\\\Materials\\\\testing.png\")\n",
    "cv2.imshow(\"Image\", img)\n",
    "text1 = pytesseract.image_to_string(img)\n",
    "print(text1)\n",
    "cv2.waitKey(0)\n",
    "cv2.destroyAllWindows()"
   ]
  },
  {
   "cell_type": "code",
   "execution_count": 2,
   "id": "a9342762",
   "metadata": {},
   "outputs": [],
   "source": [
    "from PIL import Image\n",
    "import pytesseract\n",
    "import numpy as np"
   ]
  },
  {
   "cell_type": "code",
   "execution_count": 3,
   "id": "d2a08eea",
   "metadata": {},
   "outputs": [],
   "source": [
    "filename = 'C:\\\\Users\\\\Naeem\\\\OCR\\\\Materials\\\\testing.png'\n",
    "img2 = np.array(Image.open(filename))\n",
    "text = pytesseract.image_to_string(img2)\n",
    "#print(text)"
   ]
  },
  {
   "cell_type": "code",
   "execution_count": 4,
   "id": "1b51bcc5",
   "metadata": {},
   "outputs": [],
   "source": [
    "from pytesseract import Output\n",
    "import pytesseract\n",
    "import cv2"
   ]
  },
  {
   "cell_type": "code",
   "execution_count": 5,
   "id": "7ab04b99",
   "metadata": {},
   "outputs": [],
   "source": [
    "image = cv2.imread(filename)"
   ]
  },
  {
   "cell_type": "code",
   "execution_count": 6,
   "id": "c5384429",
   "metadata": {},
   "outputs": [],
   "source": [
    "results = pytesseract.image_to_data(image, output_type=Output.DICT)"
   ]
  },
  {
   "cell_type": "code",
   "execution_count": 7,
   "id": "adf5602e",
   "metadata": {},
   "outputs": [],
   "source": [
    "image = cv2.imread(filename)"
   ]
  },
  {
   "cell_type": "code",
   "execution_count": 8,
   "id": "2c2f6184",
   "metadata": {},
   "outputs": [],
   "source": [
    "results = pytesseract.image_to_data(image, output_type=Output.DICT)"
   ]
  },
  {
   "cell_type": "code",
   "execution_count": 9,
   "id": "3b87c955",
   "metadata": {},
   "outputs": [
    {
     "name": "stdout",
     "output_type": "stream",
     "text": [
      "{'level': [1, 2, 3, 4, 5, 5, 5, 5, 5, 5, 5, 5, 5, 5, 5, 4, 5, 5, 5, 5, 5, 5, 5, 5, 5, 5, 4, 5, 5, 5, 3, 4, 5, 5, 5, 5, 5, 5, 5, 4, 5, 5, 5, 5, 5, 5, 5, 4, 5, 5, 5, 5, 5, 5, 5, 5, 4, 5, 5, 5, 5, 5, 5, 5, 4, 5, 5, 5, 5, 5, 5, 5], 'page_num': [1, 1, 1, 1, 1, 1, 1, 1, 1, 1, 1, 1, 1, 1, 1, 1, 1, 1, 1, 1, 1, 1, 1, 1, 1, 1, 1, 1, 1, 1, 1, 1, 1, 1, 1, 1, 1, 1, 1, 1, 1, 1, 1, 1, 1, 1, 1, 1, 1, 1, 1, 1, 1, 1, 1, 1, 1, 1, 1, 1, 1, 1, 1, 1, 1, 1, 1, 1, 1, 1, 1, 1], 'block_num': [0, 1, 1, 1, 1, 1, 1, 1, 1, 1, 1, 1, 1, 1, 1, 1, 1, 1, 1, 1, 1, 1, 1, 1, 1, 1, 1, 1, 1, 1, 1, 1, 1, 1, 1, 1, 1, 1, 1, 1, 1, 1, 1, 1, 1, 1, 1, 1, 1, 1, 1, 1, 1, 1, 1, 1, 1, 1, 1, 1, 1, 1, 1, 1, 1, 1, 1, 1, 1, 1, 1, 1], 'par_num': [0, 0, 1, 1, 1, 1, 1, 1, 1, 1, 1, 1, 1, 1, 1, 1, 1, 1, 1, 1, 1, 1, 1, 1, 1, 1, 1, 1, 1, 1, 2, 2, 2, 2, 2, 2, 2, 2, 2, 2, 2, 2, 2, 2, 2, 2, 2, 2, 2, 2, 2, 2, 2, 2, 2, 2, 2, 2, 2, 2, 2, 2, 2, 2, 2, 2, 2, 2, 2, 2, 2, 2], 'line_num': [0, 0, 0, 1, 1, 1, 1, 1, 1, 1, 1, 1, 1, 1, 1, 2, 2, 2, 2, 2, 2, 2, 2, 2, 2, 2, 3, 3, 3, 3, 0, 1, 1, 1, 1, 1, 1, 1, 1, 2, 2, 2, 2, 2, 2, 2, 2, 3, 3, 3, 3, 3, 3, 3, 3, 3, 4, 4, 4, 4, 4, 4, 4, 4, 5, 5, 5, 5, 5, 5, 5, 5], 'word_num': [0, 0, 0, 0, 1, 2, 3, 4, 5, 6, 7, 8, 9, 10, 11, 0, 1, 2, 3, 4, 5, 6, 7, 8, 9, 10, 0, 1, 2, 3, 0, 0, 1, 2, 3, 4, 5, 6, 7, 0, 1, 2, 3, 4, 5, 6, 7, 0, 1, 2, 3, 4, 5, 6, 7, 8, 0, 1, 2, 3, 4, 5, 6, 7, 0, 1, 2, 3, 4, 5, 6, 7], 'left': [0, 36, 36, 36, 36, 109, 141, 169, 212, 251, 296, 374, 437, 474, 536, 36, 36, 91, 172, 236, 299, 325, 348, 445, 500, 541, 36, 36, 72, 123, 36, 36, 36, 102, 189, 287, 348, 468, 540, 37, 37, 103, 165, 232, 319, 417, 478, 36, 36, 109, 165, 231, 294, 360, 447, 545, 43, 43, 162, 235, 292, 357, 420, 486, 37, 37, 135, 196, 316, 388, 445, 511], 'top': [0, 92, 92, 92, 92, 92, 98, 92, 92, 92, 92, 93, 93, 93, 92, 126, 132, 126, 126, 132, 126, 126, 126, 132, 126, 127, 160, 160, 160, 160, 194, 194, 194, 194, 194, 194, 194, 200, 194, 228, 228, 228, 228, 228, 228, 228, 228, 262, 268, 262, 262, 262, 262, 262, 262, 262, 296, 296, 302, 296, 296, 296, 296, 296, 330, 330, 330, 330, 336, 330, 330, 330], 'width': [640, 582, 582, 544, 60, 20, 15, 32, 28, 31, 68, 53, 26, 52, 44, 582, 45, 69, 51, 50, 15, 14, 85, 33, 29, 77, 187, 28, 41, 100, 561, 549, 55, 75, 85, 52, 108, 63, 45, 548, 55, 50, 55, 75, 85, 51, 107, 561, 63, 44, 56, 50, 55, 75, 85, 52, 518, 107, 64, 44, 55, 50, 55, 75, 524, 85, 52, 108, 63, 45, 55, 50], 'height': [480, 269, 92, 30, 24, 24, 18, 24, 24, 24, 30, 23, 23, 23, 24, 31, 18, 24, 24, 18, 24, 24, 24, 18, 24, 30, 24, 24, 24, 24, 167, 31, 24, 30, 24, 31, 31, 18, 24, 31, 31, 24, 24, 30, 24, 31, 31, 31, 18, 24, 31, 24, 24, 30, 24, 31, 31, 31, 18, 24, 31, 24, 24, 30, 31, 24, 31, 31, 18, 24, 31, 24], 'conf': ['-1', '-1', '-1', '-1', '96.791138', '96.915611', '95.686043', '95.686043', '96.456345', '96.456345', '96.440414', '96.200630', '96.935982', '96.970741', '96.390053', '-1', '95.200546', '95.200546', '96.630653', '96.463081', '94.012650', '94.012650', '96.059502', '94.574364', '91.938629', '96.115707', '-1', '96.859955', '95.822868', '95.567299', '-1', '-1', '96.582306', '96.741142', '96.664238', '96.289085', '96.422829', '96.618614', '96.490211', '-1', '95.855431', '96.387535', '96.098190', '96.098190', '96.528618', '95.674911', '95.674911', '-1', '96.926277', '96.051003', '96.857681', '96.021088', '96.374611', '96.213181', '96.039970', '96.387794', '-1', '96.787079', '95.866737', '95.866737', '95.637047', '96.617035', '96.684219', '96.934166', '-1', '96.597031', '96.390175', '96.682266', '96.909943', '96.553757', '96.427345', '96.947945'], 'text': ['', '', '', '', 'This', 'is', 'a', 'lot', 'of', '12', 'point', 'text', 'to', 'test', 'the', '', 'ocr', 'code', 'and', 'see', 'if', 'it', 'works', 'on', 'all', 'types', '', 'of', 'file', 'format.', '', '', 'The', 'quick', 'brown', 'dog', 'jumped', 'over', 'the', '', 'lazy', 'fox.', 'The', 'quick', 'brown', 'dog', 'jumped', '', 'over', 'the', 'lazy', 'fox.', 'The', 'quick', 'brown', 'dog', '', 'jumped', 'over', 'the', 'lazy', 'fox.', 'The', 'quick', '', 'brown', 'dog', 'jumped', 'over', 'the', 'lazy', 'fox.']}\n"
     ]
    }
   ],
   "source": [
    "print(results)"
   ]
  },
  {
   "cell_type": "code",
   "execution_count": 10,
   "id": "ef7aa266",
   "metadata": {},
   "outputs": [],
   "source": [
    "for i in range(0, len(results[\"text\"])):\n",
    "    x = results[\"left\"][i]\n",
    "    y = results[\"top\"][i]\n",
    "    \n",
    "    w = results['width'][i]\n",
    "    h = results['height'][i]\n",
    "    text = results['text'][i]\n",
    "    conf = int(float(results['conf'][i]))\n",
    "    if conf>70 :\n",
    "        text = \"\".join([c if ord(c) < 128 else \"\" for c in text]).strip()\n",
    "        cv2.rectangle(image, (x, y), (x + w, y + h), (0, 255, 0), 2)\n",
    "        cv2.putText(image, text, (x, y - 10), cv2.FONT_HERSHEY_SIMPLEX, 0.5, (0, 0, 200), 2)"
   ]
  },
  {
   "cell_type": "code",
   "execution_count": 11,
   "id": "ffd3ef66",
   "metadata": {},
   "outputs": [
    {
     "data": {
      "text/plain": [
       "-1"
      ]
     },
     "execution_count": 11,
     "metadata": {},
     "output_type": "execute_result"
    }
   ],
   "source": [
    "cv2.imshow(\"\",image)\n",
    "cv2.waitKey(0)"
   ]
  },
  {
   "cell_type": "code",
   "execution_count": 12,
   "id": "b80930b3",
   "metadata": {},
   "outputs": [],
   "source": [
    "#Checking"
   ]
  },
  {
   "cell_type": "code",
   "execution_count": 13,
   "id": "614a46a0",
   "metadata": {},
   "outputs": [
    {
     "name": "stdout",
     "output_type": "stream",
     "text": [
      "['', '', '', '', 'This', 'is', 'a', 'lot', 'of', '12', 'point', 'text', 'to', 'test', 'the', '', 'ocr', 'code', 'and', 'see', 'if', 'it', 'works', 'on', 'all', 'types', '', 'of', 'file', 'format.', '', '', 'The', 'quick', 'brown', 'dog', 'jumped', 'over', 'the', '', 'lazy', 'fox.', 'The', 'quick', 'brown', 'dog', 'jumped', '', 'over', 'the', 'lazy', 'fox.', 'The', 'quick', 'brown', 'dog', '', 'jumped', 'over', 'the', 'lazy', 'fox.', 'The', 'quick', '', 'brown', 'dog', 'jumped', 'over', 'the', 'lazy', 'fox.']\n"
     ]
    }
   ],
   "source": [
    "lss=[]\n",
    "for i in range(0, len(results[\"text\"])):\n",
    "    text = results['text'][i]\n",
    "    lss.append(text)\n",
    "print(lss)\n",
    "    "
   ]
  },
  {
   "cell_type": "code",
   "execution_count": 14,
   "id": "d358e870",
   "metadata": {
    "scrolled": true
   },
   "outputs": [
    {
     "name": "stdout",
     "output_type": "stream",
     "text": [
      "This is a lot of 12 point text to test the\n",
      "ocr code and see if it works on all types\n",
      "of file format.\n",
      "\n",
      "The quick brown dog jumped over the\n",
      "lazy fox. The quick brown dog jumped\n",
      "over the lazy fox. The quick brown dog\n",
      "jumped over the lazy fox. The quick\n",
      "brown dog jumped over the lazy fox.\n",
      "\n"
     ]
    }
   ],
   "source": [
    "print(text1)"
   ]
  },
  {
   "cell_type": "code",
   "execution_count": 15,
   "id": "4a17b841",
   "metadata": {},
   "outputs": [
    {
     "name": "stdout",
     "output_type": "stream",
     "text": [
      "\n",
      "\n",
      "The quick brown dog jumped over the\n",
      "lazy fox. The quick brown dog jumped\n",
      "over the lazy fox. The quick brown dog\n",
      "jumped over the lazy fox. The quick\n",
      "brown dog jumped over the lazy fox.\n",
      "\n",
      "5\n"
     ]
    }
   ],
   "source": [
    "my_str = text1\n",
    "va=\".\"\n",
    "print(my_str.partition(va)[2])\n",
    "print(my_str.count(va))"
   ]
  },
  {
   "cell_type": "code",
   "execution_count": 16,
   "id": "11e6957a",
   "metadata": {},
   "outputs": [
    {
     "name": "stdout",
     "output_type": "stream",
     "text": [
      "\n",
      "\n",
      "The quick brown dog jumped over the\n",
      "lazy fox. The quick brown dog jumped\n",
      "over the lazy fox. The quick brown dog\n",
      "jumped over the lazy fox. The quick\n",
      "brown dog jumped over the lazy fox.\n",
      "\n",
      " The quick brown dog jumped\n",
      "over the lazy fox. The quick brown dog\n",
      "jumped over the lazy fox. The quick\n",
      "brown dog jumped over the lazy fox.\n",
      "\n",
      " The quick brown dog\n",
      "jumped over the lazy fox. The quick\n",
      "brown dog jumped over the lazy fox.\n",
      "\n",
      " The quick\n",
      "brown dog jumped over the lazy fox.\n",
      "\n",
      "\n",
      "\n"
     ]
    }
   ],
   "source": [
    "\n",
    "no_occ=my_str.count(va)\n",
    "my_str = text1\n",
    "for i in range(no_occ):\n",
    "    \n",
    "    print(my_str.partition(va)[2])\n",
    "    my_str=my_str.partition(va)[2]\n",
    "    \n",
    "    \n",
    "    \n"
   ]
  },
  {
   "cell_type": "code",
   "execution_count": 17,
   "id": "2c870d94",
   "metadata": {},
   "outputs": [],
   "source": [
    "no_occ=my_str.count(va)\n",
    "my_str = text1\n",
    "for i in range(no_occ):\n",
    "    \n",
    "    print(my_str.partition(va)[2])\n",
    "    my_str=my_str.partition(va)[2]\n",
    "    \n",
    "    "
   ]
  },
  {
   "cell_type": "code",
   "execution_count": null,
   "id": "88634227",
   "metadata": {},
   "outputs": [],
   "source": []
  }
 ],
 "metadata": {
  "kernelspec": {
   "display_name": "Python 3 (ipykernel)",
   "language": "python",
   "name": "python3"
  },
  "language_info": {
   "codemirror_mode": {
    "name": "ipython",
    "version": 3
   },
   "file_extension": ".py",
   "mimetype": "text/x-python",
   "name": "python",
   "nbconvert_exporter": "python",
   "pygments_lexer": "ipython3",
   "version": "3.9.7"
  }
 },
 "nbformat": 4,
 "nbformat_minor": 5
}
