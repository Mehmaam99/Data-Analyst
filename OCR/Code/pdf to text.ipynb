{
 "cells": [
  {
   "cell_type": "code",
   "execution_count": 10,
   "id": "98a02e81",
   "metadata": {},
   "outputs": [],
   "source": [
    "# Useful libraries\n",
    "from pdf2image import convert_from_path\n",
    "from pytesseract import image_to_string\n",
    "import pytesseract\n",
    "\n",
    "pytesseract.pytesseract.tesseract_cmd = r'C:\\\\Program Files\\\\Tesseract-OCR\\\\tesseract'\n"
   ]
  },
  {
   "cell_type": "code",
   "execution_count": 11,
   "id": "118e278f",
   "metadata": {},
   "outputs": [],
   "source": [
    "def convert_pdf_to_img(pdf_file):\n",
    "    \"\"\"\n",
    "    @desc: this function converts a PDF into Image\n",
    "    \n",
    "    @params:\n",
    "        - pdf_file: the file to be converted\n",
    "    \n",
    "    @returns:\n",
    "        - an interable containing image format of all the pages of the PDF\n",
    "    \"\"\"\n",
    "    return convert_from_path(pdf_file)\n",
    "\n",
    "\n",
    "def convert_image_to_text(file):\n",
    "    \"\"\"\n",
    "    @desc: this function extracts text from image\n",
    "    \n",
    "    @params:\n",
    "        - file: the image file to extract the content\n",
    "    \n",
    "    @returns:\n",
    "        - the textual content of single image\n",
    "    \"\"\"\n",
    "    \n",
    "    text = image_to_string(file)\n",
    "    return text\n",
    "\n",
    "\n",
    "def get_text_from_any_pdf(pdf_file):\n",
    "    \"\"\"\n",
    "    @desc: this function is our final system combining the previous functions\n",
    "    \n",
    "    @params:\n",
    "        - file: the original PDF File\n",
    "    \n",
    "    @returns:\n",
    "        - the textual content of ALL the pages\n",
    "    \"\"\"\n",
    "    images = convert_pdf_to_img(pdf_file)\n",
    "    final_text = \"\"\n",
    "    for pg, img in enumerate(images):\n",
    "        \n",
    "        final_text += convert_image_to_text(img)\n",
    "        #print(\"Page n°{}\".format(pg))\n",
    "        #print(convert_image_to_text(img))\n",
    "    \n",
    "    return final_text"
   ]
  },
  {
   "cell_type": "code",
   "execution_count": 12,
   "id": "6d86470f",
   "metadata": {},
   "outputs": [],
   "source": [
    "path_to_pdf = 'C:\\\\Users\\\\Naeem\\\\OCR\\\\Materials\\\\invoice_02.pdf'"
   ]
  },
  {
   "cell_type": "code",
   "execution_count": 13,
   "id": "25d45871",
   "metadata": {
    "scrolled": true
   },
   "outputs": [
    {
     "name": "stdout",
     "output_type": "stream",
     "text": [
      "ABC Company\n",
      "\n",
      "Ye Address Hai\n",
      "\n",
      "Ye city Name Hai\n",
      "\n",
      "P CODE : 95080\n",
      "Phone:+9212548662\n",
      "tokyo@email.co.uk\n",
      "\n",
      "BILLED TO\n",
      "\n",
      "Yaha naam aega\n",
      "Area dalo yaha\n",
      "Address dalo idher\n",
      "P.code: 85046\n",
      "phone :03254124578\n",
      "\n",
      "Invoice Description\n",
      "INVOICE NUMBER: VOuniterninarne\n",
      "MM/DD/IYYYY\n",
      "\n",
      "Your item name\n",
      "DATE OF ISSUE:\n",
      "00001 Your item name\n",
      "Your item name\n",
      "Your item name\n",
      "Your item name\n",
      "\n",
      "Your item name\n",
      "\n",
      "Your item name\n",
      "\n",
      "TERMS\n",
      "Please pay invoice by MM/DDNYYY\n",
      "\n",
      "Unit cost QTY/HR Rate\n",
      "\n",
      "$0.00\n",
      "$0.00\n",
      "$0.00\n",
      "$0.00\n",
      "$0.00\n",
      "$0.00\n",
      "$0.00\n",
      "\n",
      "$0.00\n",
      "\n",
      "SUBTOTAL\n",
      "DISCOUNT\n",
      "TAX RATE\n",
      "\n",
      "TAX\n",
      "\n",
      "Send money abroad with TransferWise.\n",
      "\n",
      "YOUR LOGO\n",
      "\n",
      "Amount\n",
      "$0.00\n",
      "$0.00\n",
      "$0.00\n",
      "$0.00\n",
      "$0.00\n",
      "$0.00\n",
      "$0.00\n",
      "\n",
      "$0.00\n",
      "\n",
      "$0.00\n",
      "$0.00\n",
      "\n",
      "%\n",
      "$0.00\n",
      "\n",
      "INVOICE TOTAL\n",
      "\n",
      "$0.00\n",
      "\n",
      "1lrransferWise\n"
     ]
    }
   ],
   "source": [
    "cop=(get_text_from_any_pdf(path_to_pdf))\n",
    "c=cop.strip()\n",
    "print(c)\n"
   ]
  },
  {
   "cell_type": "code",
   "execution_count": 14,
   "id": "5feb0237",
   "metadata": {},
   "outputs": [
    {
     "name": "stdout",
     "output_type": "stream",
     "text": [
      "['ABC Company\\n', '\\n', 'Ye Address Hai\\n', '\\n', 'Ye city Name Hai\\n', '\\n', 'P CODE : 95080\\n', 'Phone:+9212548662\\n', 'tokyo@email.co.uk\\n', '\\n', 'BILLED TO\\n', '\\n', 'Yaha naam aega\\n', 'Area dalo yaha\\n', 'Address dalo idher\\n', 'P.code: 85046\\n', 'phone :03254124578\\n', '\\n', 'Invoice Description\\n', 'INVOICE NUMBER: VOuniterninarne\\n', 'MM/DD/IYYYY\\n', '\\n', 'Your item name\\n', 'DATE OF ISSUE:\\n', '00001 Your item name\\n', 'Your item name\\n', 'Your item name\\n', 'Your item name\\n', '\\n', 'Your item name\\n', '\\n', 'Your item name\\n', '\\n', 'TERMS\\n', 'Please pay invoice by MM/DDNYYY\\n', '\\n', 'Unit cost QTY/HR Rate\\n', '\\n', '$0.00\\n', '$0.00\\n', '$0.00\\n', '$0.00\\n', '$0.00\\n', '$0.00\\n', '$0.00\\n', '\\n', '$0.00\\n', '\\n', 'SUBTOTAL\\n', 'DISCOUNT\\n', 'TAX RATE\\n', '\\n', 'TAX\\n', '\\n', 'Send money abroad with TransferWise.\\n', '\\n', 'YOUR LOGO\\n', '\\n', 'Amount\\n', '$0.00\\n', '$0.00\\n', '$0.00\\n', '$0.00\\n', '$0.00\\n', '$0.00\\n', '$0.00\\n', '\\n', '$0.00\\n', '\\n', '$0.00\\n', '$0.00\\n', '\\n', '%\\n', '$0.00\\n', '\\n', 'INVOICE TOTAL\\n', '\\n', '$0.00\\n', '\\n', '1lrransferWise']\n"
     ]
    }
   ],
   "source": [
    "mylines = []                             # Declare an empty list named mylines.\n",
    "with open ('C:\\\\Users\\\\Naeem\\\\OCR\\\\Materials\\\\cop.txt', 'rt') as myfile: # Open lorem.txt for reading text data.\n",
    "    for myline in myfile:                # For each line, stored as myline,\n",
    "        mylines.append(myline)\n",
    "        \n",
    "print(mylines) "
   ]
  },
  {
   "cell_type": "code",
   "execution_count": 15,
   "id": "e64a0b82",
   "metadata": {},
   "outputs": [],
   "source": [
    "mylines = ' '.join(mylines).split()\n",
    "      "
   ]
  },
  {
   "cell_type": "code",
   "execution_count": 16,
   "id": "f1da2395",
   "metadata": {},
   "outputs": [
    {
     "name": "stdout",
     "output_type": "stream",
     "text": [
      "['ABC', 'Company', 'Ye', 'Address', 'Hai', 'Ye', 'city', 'Name', 'Hai', 'P', 'CODE', ':', '95080', 'Phone:+9212548662', 'tokyo@email.co.uk', 'BILLED', 'TO', 'Yaha', 'naam', 'aega', 'Area', 'dalo', 'yaha', 'Address', 'dalo', 'idher', 'P.code:', '85046', 'phone', ':03254124578', 'Invoice', 'Description', 'INVOICE', 'NUMBER:', 'VOuniterninarne', 'MM/DD/IYYYY', 'Your', 'item', 'name', 'DATE', 'OF', 'ISSUE:', '00001', 'Your', 'item', 'name', 'Your', 'item', 'name', 'Your', 'item', 'name', 'Your', 'item', 'name', 'Your', 'item', 'name', 'Your', 'item', 'name', 'TERMS', 'Please', 'pay', 'invoice', 'by', 'MM/DDNYYY', 'Unit', 'cost', 'QTY/HR', 'Rate', '$0.00', '$0.00', '$0.00', '$0.00', '$0.00', '$0.00', '$0.00', '$0.00', 'SUBTOTAL', 'DISCOUNT', 'TAX', 'RATE', 'TAX', 'Send', 'money', 'abroad', 'with', 'TransferWise.', 'YOUR', 'LOGO', 'Amount', '$0.00', '$0.00', '$0.00', '$0.00', '$0.00', '$0.00', '$0.00', '$0.00', '$0.00', '$0.00', '%', '$0.00', 'INVOICE', 'TOTAL', '$0.00', '1lrransferWise']\n"
     ]
    }
   ],
   "source": [
    "print(mylines)                 "
   ]
  },
  {
   "cell_type": "code",
   "execution_count": 17,
   "id": "ebc3e912",
   "metadata": {},
   "outputs": [
    {
     "data": {
      "text/plain": [
       "'ABC'"
      ]
     },
     "execution_count": 17,
     "metadata": {},
     "output_type": "execute_result"
    }
   ],
   "source": [
    "mylines[0]\n",
    "mylines[0]"
   ]
  },
  {
   "cell_type": "code",
   "execution_count": 18,
   "id": "68cab1a0",
   "metadata": {},
   "outputs": [
    {
     "data": {
      "text/plain": [
       "'A B C   C o m p a n y \\n \\n Y e   A d d r e s s   H a i \\n \\n Y e   c i t y   N a m e   H a i \\n \\n P   C O D E   :   9 5 0 8 0 \\n P h o n e : + 9 2 1 2 5 4 8 6 6 2 \\n t o k y o @ e m a i l . c o . u k \\n \\n B I L L E D   T O \\n \\n Y a h a   n a a m   a e g a \\n A r e a   d a l o   y a h a \\n A d d r e s s   d a l o   i d h e r \\n P . c o d e :   8 5 0 4 6 \\n p h o n e   : 0 3 2 5 4 1 2 4 5 7 8 \\n \\n I n v o i c e   D e s c r i p t i o n \\n I N V O I C E   N U M B E R :   V O u n i t e r n i n a r n e \\n M M / D D / I Y Y Y Y \\n \\n Y o u r   i t e m   n a m e \\n D A T E   O F   I S S U E : \\n 0 0 0 0 1   Y o u r   i t e m   n a m e \\n Y o u r   i t e m   n a m e \\n Y o u r   i t e m   n a m e \\n Y o u r   i t e m   n a m e \\n \\n Y o u r   i t e m   n a m e \\n \\n Y o u r   i t e m   n a m e \\n \\n T E R M S \\n P l e a s e   p a y   i n v o i c e   b y   M M / D D N Y Y Y \\n \\n U n i t   c o s t   Q T Y / H R   R a t e \\n \\n $ 0 . 0 0 \\n $ 0 . 0 0 \\n $ 0 . 0 0 \\n $ 0 . 0 0 \\n $ 0 . 0 0 \\n $ 0 . 0 0 \\n $ 0 . 0 0 \\n \\n $ 0 . 0 0 \\n \\n S U B T O T A L \\n D I S C O U N T \\n T A X   R A T E \\n \\n T A X \\n \\n S e n d   m o n e y   a b r o a d   w i t h   T r a n s f e r W i s e . \\n \\n Y O U R   L O G O \\n \\n A m o u n t \\n $ 0 . 0 0 \\n $ 0 . 0 0 \\n $ 0 . 0 0 \\n $ 0 . 0 0 \\n $ 0 . 0 0 \\n $ 0 . 0 0 \\n $ 0 . 0 0 \\n \\n $ 0 . 0 0 \\n \\n $ 0 . 0 0 \\n $ 0 . 0 0 \\n \\n % \\n $ 0 . 0 0 \\n \\n I N V O I C E   T O T A L \\n \\n $ 0 . 0 0 \\n \\n 1 l r r a n s f e r W i s e'"
      ]
     },
     "execution_count": 18,
     "metadata": {},
     "output_type": "execute_result"
    }
   ],
   "source": [
    "string=\" \".join(c)\n",
    "\n",
    "ss_string=string.strip()\n",
    "ss_string"
   ]
  },
  {
   "cell_type": "code",
   "execution_count": 19,
   "id": "1f857797",
   "metadata": {},
   "outputs": [],
   "source": [
    "text_file = open(\"cop.txt\", \"w\")\n",
    " \n",
    "#write string to file\n",
    "n = text_file.write(c)\n",
    " \n",
    "#close file\n",
    "text_file.close()\n"
   ]
  },
  {
   "cell_type": "code",
   "execution_count": 20,
   "id": "9c5b4958",
   "metadata": {},
   "outputs": [
    {
     "name": "stdout",
     "output_type": "stream",
     "text": [
      "ABC Company\n",
      "\n",
      "Ye Address Hai\n",
      "\n",
      "Ye city Name Hai\n",
      "\n",
      "P CODE : 95080\n",
      "Phone:+9212548662\n",
      "tokyo@email.co.uk\n",
      "\n",
      "BILLED TO\n",
      "\n",
      "Yaha naam aega\n",
      "Area dalo yaha\n",
      "Address dalo idher\n",
      "P.code: 85046\n",
      "phone :03254124578\n",
      "\n",
      "Invoice Description\n",
      "INVOICE NUMBER: VOuniterninarne\n",
      "MM/DD/IYYYY\n",
      "\n",
      "Your item name\n",
      "DATE OF ISSUE:\n",
      "00001 Your item name\n",
      "Your item name\n",
      "Your item name\n",
      "Your item name\n",
      "\n",
      "Your item name\n",
      "\n",
      "Your item name\n",
      "\n",
      "TERMS\n",
      "Please pay invoice by MM/DDNYYY\n",
      "\n",
      "Unit cost QTY/HR Rate\n",
      "\n",
      "$0.00\n",
      "$0.00\n",
      "$0.00\n",
      "$0.00\n",
      "$0.00\n",
      "$0.00\n",
      "$0.00\n",
      "\n",
      "$0.00\n",
      "\n",
      "SUBTOTAL\n",
      "DISCOUNT\n",
      "TAX RATE\n",
      "\n",
      "TAX\n",
      "\n",
      "Send money abroad with TransferWise.\n",
      "\n",
      "YOUR LOGO\n",
      "\n",
      "Amount\n",
      "$0.00\n",
      "$0.00\n",
      "$0.00\n",
      "$0.00\n",
      "$0.00\n",
      "$0.00\n",
      "$0.00\n",
      "\n",
      "$0.00\n",
      "\n",
      "$0.00\n",
      "$0.00\n",
      "\n",
      "%\n",
      "$0.00\n",
      "\n",
      "INVOICE TOTAL\n",
      "\n",
      "$0.00\n",
      "\n",
      "1lrransferWise\n"
     ]
    }
   ],
   "source": [
    "print (c)"
   ]
  },
  {
   "cell_type": "code",
   "execution_count": 21,
   "id": "c1d4434e",
   "metadata": {},
   "outputs": [
    {
     "data": {
      "text/plain": [
       "'ABC Company\\n\\nYe Address Hai\\n\\nYe city Name Hai\\n\\nP CODE : 95080\\nPhone:+9212548662\\ntokyo@email.co.uk\\n\\nBILLED TO\\n\\nYaha naam aega\\nArea dalo yaha\\nAddress dalo idher\\nP.code: 85046\\nphone :03254124578\\n\\nInvoice Description\\nINVOICE NUMBER: VOuniterninarne\\nMM/DD/IYYYY\\n\\nYour item name\\nDATE OF ISSUE:\\n00001 Your item name\\nYour item name\\nYour item name\\nYour item name\\n\\nYour item name\\n\\nYour item name\\n\\nTERMS\\nPlease pay invoice by MM/DDNYYY\\n\\nUnit cost QTY/HR Rate\\n\\n$0.00\\n$0.00\\n$0.00\\n$0.00\\n$0.00\\n$0.00\\n$0.00\\n\\n$0.00\\n\\nSUBTOTAL\\nDISCOUNT\\nTAX RATE\\n\\nTAX\\n\\nSend money abroad with TransferWise.\\n\\nYOUR LOGO\\n\\nAmount\\n$0.00\\n$0.00\\n$0.00\\n$0.00\\n$0.00\\n$0.00\\n$0.00\\n\\n$0.00\\n\\n$0.00\\n$0.00\\n\\n%\\n$0.00\\n\\nINVOICE TOTAL\\n\\n$0.00\\n\\n1lrransferWise'"
      ]
     },
     "execution_count": 21,
     "metadata": {},
     "output_type": "execute_result"
    }
   ],
   "source": [
    "c\n"
   ]
  },
  {
   "cell_type": "code",
   "execution_count": 22,
   "id": "c13c06db",
   "metadata": {},
   "outputs": [
    {
     "name": "stdout",
     "output_type": "stream",
     "text": [
      "['ABC Company', 'Ye Address Hai', 'Ye city Name Hai', 'P CODE : 95080', 'Phone:+9212548662', 'tokyo@email.co.uk', 'BILLED TO', 'Yaha naam aega', 'Area dalo yaha', 'Address dalo idher', 'P.code: 85046', 'phone :03254124578', 'Invoice Description', 'INVOICE NUMBER: VOuniterninarne', 'MM/DD/IYYYY', 'Your item name', 'DATE OF ISSUE:', '00001 Your item name', 'Your item name', 'Your item name', 'Your item name', 'Your item name', 'Your item name', 'TERMS', 'Please pay invoice by MM/DDNYYY', 'Unit cost QTY/HR Rate', '$0.00', '$0.00', '$0.00', '$0.00', '$0.00', '$0.00', '$0.00', '$0.00', 'SUBTOTAL', 'DISCOUNT', 'TAX RATE', 'TAX', 'Send money abroad with TransferWise.', 'YOUR LOGO', 'Amount', '$0.00', '$0.00', '$0.00', '$0.00', '$0.00', '$0.00', '$0.00', '$0.00', '$0.00', '$0.00', '%', '$0.00', 'INVOICE TOTAL', '$0.00', '1lrransferWise']\n"
     ]
    }
   ],
   "source": [
    "res = c.split(\"\\n\")\n",
    "\n",
    "char = []\n",
    "for ele in res:\n",
    "    if ele.strip():\n",
    "        char.append(ele)\n",
    "\n",
    "print(char)"
   ]
  },
  {
   "cell_type": "code",
   "execution_count": 23,
   "id": "6409168e",
   "metadata": {},
   "outputs": [],
   "source": [
    "#Interface\n"
   ]
  },
  {
   "cell_type": "code",
   "execution_count": 24,
   "id": "e4bbad26",
   "metadata": {},
   "outputs": [
    {
     "name": "stdout",
     "output_type": "stream",
     "text": [
      "\n",
      "===Company Detail===\n",
      "\n",
      "Company Name    :\tABC Company\n",
      "Address         :\tYe Address Hai\n",
      "Place/City Name :\tYe city Name Hai\n",
      "Postal Code     :\tP CODE : 95080\n",
      "Cell No         :\tPhone:+9212548662\n",
      "Email           :\ttokyo@email.co.uk\n",
      "\n",
      "===Customer Detail===\n",
      "\n",
      "Name           :\tYaha naam aega\n",
      "State          :\tArea dalo yaha\n",
      "Address        :\tAddress dalo idher\n",
      "Postal Code    :\tP.code: 85046\n",
      "Number         :\tphone :03254124578\n"
     ]
    }
   ],
   "source": [
    "print(\"\\n===Company Detail===\\n\")\n",
    "\n",
    "print(\"Company Name    :\\t\"+char[0],end=\"\\n\")\n",
    "print(\"Address         :\\t\"+char[1],end=\"\\n\")\n",
    "print(\"Place/City Name :\\t\"+char[2],end=\"\\n\")\n",
    "print(\"Postal Code     :\\t\"+char[3],end=\"\\n\")\n",
    "print(\"Cell No         :\\t\"+char[4],end=\"\\n\")\n",
    "print(\"Email           :\\t\"+char[5],end=\"\\n\")\n",
    "\n",
    "print(\"\\n===Customer Detail===\\n\")\n",
    "print(\"Name           :\\t\"+char[7],end=\"\\n\")\n",
    "print(\"State          :\\t\"+char[8],end=\"\\n\")\n",
    "print(\"Address        :\\t\"+char[9],end=\"\\n\")\n",
    "print(\"Postal Code    :\\t\"+char[10],end=\"\\n\")\n",
    "print(\"Number         :\\t\"+char[11],end=\"\\n\")\n"
   ]
  },
  {
   "cell_type": "code",
   "execution_count": null,
   "id": "ca6034f1",
   "metadata": {},
   "outputs": [],
   "source": []
  },
  {
   "cell_type": "code",
   "execution_count": null,
   "id": "ec7861f8",
   "metadata": {},
   "outputs": [],
   "source": []
  }
 ],
 "metadata": {
  "kernelspec": {
   "display_name": "Python 3 (ipykernel)",
   "language": "python",
   "name": "python3"
  },
  "language_info": {
   "codemirror_mode": {
    "name": "ipython",
    "version": 3
   },
   "file_extension": ".py",
   "mimetype": "text/x-python",
   "name": "python",
   "nbconvert_exporter": "python",
   "pygments_lexer": "ipython3",
   "version": "3.9.7"
  }
 },
 "nbformat": 4,
 "nbformat_minor": 5
}
