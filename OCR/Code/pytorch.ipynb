{
 "cells": [
  {
   "cell_type": "code",
   "execution_count": 2,
   "id": "f1a8804c",
   "metadata": {},
   "outputs": [
    {
     "name": "stdout",
     "output_type": "stream",
     "text": [
      "Collecting torch\n",
      "  Using cached torch-1.11.0-cp39-cp39-win_amd64.whl (157.9 MB)\n",
      "Collecting torchvision\n",
      "  Using cached torchvision-0.12.0-cp39-cp39-win_amd64.whl (1.0 MB)\n",
      "Collecting torchaudio\n",
      "  Downloading torchaudio-0.11.0-cp39-cp39-win_amd64.whl (372 kB)\n",
      "Requirement already satisfied: typing-extensions in c:\\users\\naeem\\anaconda3\\lib\\site-packages (from torch) (3.10.0.2)\n",
      "Requirement already satisfied: pillow!=8.3.*,>=5.3.0 in c:\\users\\naeem\\anaconda3\\lib\\site-packages (from torchvision) (8.4.0)\n",
      "Requirement already satisfied: numpy in c:\\users\\naeem\\anaconda3\\lib\\site-packages (from torchvision) (1.20.3)\n",
      "Requirement already satisfied: requests in c:\\users\\naeem\\anaconda3\\lib\\site-packages (from torchvision) (2.26.0)\n",
      "Requirement already satisfied: certifi>=2017.4.17 in c:\\users\\naeem\\anaconda3\\lib\\site-packages (from requests->torchvision) (2021.10.8)\n",
      "Requirement already satisfied: idna<4,>=2.5 in c:\\users\\naeem\\anaconda3\\lib\\site-packages (from requests->torchvision) (3.2)\n",
      "Requirement already satisfied: charset-normalizer~=2.0.0 in c:\\users\\naeem\\anaconda3\\lib\\site-packages (from requests->torchvision) (2.0.4)\n",
      "Requirement already satisfied: urllib3<1.27,>=1.21.1 in c:\\users\\naeem\\anaconda3\\lib\\site-packages (from requests->torchvision) (1.26.7)\n",
      "Installing collected packages: torch, torchvision, torchaudio\n",
      "Successfully installed torch-1.11.0 torchaudio-0.11.0 torchvision-0.12.0\n"
     ]
    }
   ],
   "source": [
    "!pip install torch torchvision torchaudio"
   ]
  },
  {
   "cell_type": "code",
   "execution_count": 5,
   "id": "15b7407f",
   "metadata": {},
   "outputs": [
    {
     "name": "stdout",
     "output_type": "stream",
     "text": [
      "Requirement already satisfied: easyocr in c:\\users\\naeem\\anaconda3\\lib\\site-packages (1.4.2)\n",
      "Requirement already satisfied: numpy in c:\\users\\naeem\\anaconda3\\lib\\site-packages (from easyocr) (1.20.3)\n",
      "Requirement already satisfied: scipy in c:\\users\\naeem\\anaconda3\\lib\\site-packages (from easyocr) (1.7.1)\n",
      "Requirement already satisfied: PyYAML in c:\\users\\naeem\\anaconda3\\lib\\site-packages (from easyocr) (6.0)\n",
      "Requirement already satisfied: python-bidi in c:\\users\\naeem\\anaconda3\\lib\\site-packages (from easyocr) (0.4.2)\n",
      "Requirement already satisfied: opencv-python-headless<=4.5.4.60 in c:\\users\\naeem\\anaconda3\\lib\\site-packages (from easyocr) (4.5.4.60)\n",
      "Requirement already satisfied: torch in c:\\users\\naeem\\anaconda3\\lib\\site-packages (from easyocr) (1.11.0)\n",
      "Requirement already satisfied: Pillow in c:\\users\\naeem\\anaconda3\\lib\\site-packages (from easyocr) (8.4.0)\n",
      "Requirement already satisfied: torchvision>=0.5 in c:\\users\\naeem\\anaconda3\\lib\\site-packages (from easyocr) (0.12.0)\n",
      "Requirement already satisfied: scikit-image in c:\\users\\naeem\\anaconda3\\lib\\site-packages (from easyocr) (0.18.3)\n",
      "Requirement already satisfied: requests in c:\\users\\naeem\\anaconda3\\lib\\site-packages (from torchvision>=0.5->easyocr) (2.26.0)\n",
      "Requirement already satisfied: typing-extensions in c:\\users\\naeem\\anaconda3\\lib\\site-packages (from torchvision>=0.5->easyocr) (3.10.0.2)\n",
      "Requirement already satisfied: six in c:\\users\\naeem\\anaconda3\\lib\\site-packages (from python-bidi->easyocr) (1.16.0)\n",
      "Requirement already satisfied: charset-normalizer~=2.0.0 in c:\\users\\naeem\\anaconda3\\lib\\site-packages (from requests->torchvision>=0.5->easyocr) (2.0.4)\n",
      "Requirement already satisfied: certifi>=2017.4.17 in c:\\users\\naeem\\anaconda3\\lib\\site-packages (from requests->torchvision>=0.5->easyocr) (2021.10.8)\n",
      "Requirement already satisfied: urllib3<1.27,>=1.21.1 in c:\\users\\naeem\\anaconda3\\lib\\site-packages (from requests->torchvision>=0.5->easyocr) (1.26.7)\n",
      "Requirement already satisfied: idna<4,>=2.5 in c:\\users\\naeem\\anaconda3\\lib\\site-packages (from requests->torchvision>=0.5->easyocr) (3.2)\n",
      "Requirement already satisfied: matplotlib!=3.0.0,>=2.0.0 in c:\\users\\naeem\\anaconda3\\lib\\site-packages (from scikit-image->easyocr) (3.4.3)\n",
      "Requirement already satisfied: networkx>=2.0 in c:\\users\\naeem\\anaconda3\\lib\\site-packages (from scikit-image->easyocr) (2.6.3)\n",
      "Requirement already satisfied: imageio>=2.3.0 in c:\\users\\naeem\\anaconda3\\lib\\site-packages (from scikit-image->easyocr) (2.9.0)\n",
      "Requirement already satisfied: tifffile>=2019.7.26 in c:\\users\\naeem\\anaconda3\\lib\\site-packages (from scikit-image->easyocr) (2021.7.2)\n",
      "Requirement already satisfied: PyWavelets>=1.1.1 in c:\\users\\naeem\\anaconda3\\lib\\site-packages (from scikit-image->easyocr) (1.1.1)\n",
      "Requirement already satisfied: pyparsing>=2.2.1 in c:\\users\\naeem\\anaconda3\\lib\\site-packages (from matplotlib!=3.0.0,>=2.0.0->scikit-image->easyocr) (3.0.4)\n",
      "Requirement already satisfied: python-dateutil>=2.7 in c:\\users\\naeem\\anaconda3\\lib\\site-packages (from matplotlib!=3.0.0,>=2.0.0->scikit-image->easyocr) (2.8.2)\n",
      "Requirement already satisfied: cycler>=0.10 in c:\\users\\naeem\\anaconda3\\lib\\site-packages (from matplotlib!=3.0.0,>=2.0.0->scikit-image->easyocr) (0.10.0)\n",
      "Requirement already satisfied: kiwisolver>=1.0.1 in c:\\users\\naeem\\anaconda3\\lib\\site-packages (from matplotlib!=3.0.0,>=2.0.0->scikit-image->easyocr) (1.3.1)\n"
     ]
    }
   ],
   "source": [
    "!pip install easyocr"
   ]
  },
  {
   "cell_type": "code",
   "execution_count": null,
   "id": "8ca2327e",
   "metadata": {
    "scrolled": true
   },
   "outputs": [],
   "source": [
    "\n",
    "\n",
    "import easyocr\n",
    "import cv2\n",
    "from matplotlib import pyplot as plt\n",
    "import numpy as np\n",
    "\n"
   ]
  },
  {
   "cell_type": "code",
   "execution_count": null,
   "id": "fb23127d",
   "metadata": {},
   "outputs": [],
   "source": [
    "\n",
    "\n",
    "IMAGE_PATH = 'sign.png'\n",
    "#IMAGE_PATH = 'surf.jpeg'\n",
    "\n"
   ]
  },
  {
   "cell_type": "code",
   "execution_count": null,
   "id": "62ce788a",
   "metadata": {},
   "outputs": [],
   "source": [
    "\n",
    "\n",
    "reader = easyocr.Reader(['en'])\n",
    "result = reader.readtext(IMAGE_PATH)\n",
    "result\n",
    "\n"
   ]
  },
  {
   "cell_type": "code",
   "execution_count": null,
   "id": "3de9e5af",
   "metadata": {},
   "outputs": [],
   "source": [
    "top_left = tuple(result[0][0][0])\n",
    "bottom_right = tuple(result[0][0][2])\n",
    "text = result[0][1]\n",
    "font = cv2.FONT_HERSHEY_SIMPLEX"
   ]
  },
  {
   "cell_type": "code",
   "execution_count": null,
   "id": "37de75c2",
   "metadata": {},
   "outputs": [],
   "source": [
    "img = cv2.imread(IMAGE_PATH)\n",
    "img = cv2.rectangle(img,top_left,bottom_right,(0,255,0),3)\n",
    "img = cv2.putText(img,text,top_left, font, 0.5,(255,255,255),2,cv2.LINE_AA)\n",
    "plt.imshow(img)\n",
    "plt.show()"
   ]
  }
 ],
 "metadata": {
  "kernelspec": {
   "display_name": "Python 3 (ipykernel)",
   "language": "python",
   "name": "python3"
  },
  "language_info": {
   "codemirror_mode": {
    "name": "ipython",
    "version": 3
   },
   "file_extension": ".py",
   "mimetype": "text/x-python",
   "name": "python",
   "nbconvert_exporter": "python",
   "pygments_lexer": "ipython3",
   "version": "3.9.7"
  }
 },
 "nbformat": 4,
 "nbformat_minor": 5
}
