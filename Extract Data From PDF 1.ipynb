{
 "cells": [
  {
   "cell_type": "code",
   "execution_count": 1,
   "id": "b22f573f",
   "metadata": {},
   "outputs": [],
   "source": [
    "import os\n",
    "os.environ['KMP_DUPLICATE_LIB_OK']='True'"
   ]
  },
  {
   "cell_type": "code",
   "execution_count": 2,
   "id": "537644fe",
   "metadata": {},
   "outputs": [],
   "source": [
    "import matplotlib.pyplot as plt\n",
    "import cv2\n",
    "import sys\n",
    "from PIL import Image \n",
    "import PIL \n",
    "from pylab import rcParams\n",
    "from IPython.display import Image\n",
    "import easyocr\n",
    "import re\n",
    "import json\n",
    "import camelot\n",
    "from PIL import Image\n",
    "import pytesseract\n",
    "import sys\n",
    "from pdf2image import convert_from_path"
   ]
  },
  {
   "cell_type": "code",
   "execution_count": 3,
   "id": "d082059f",
   "metadata": {},
   "outputs": [
    {
     "name": "stderr",
     "output_type": "stream",
     "text": [
      "CUDA not available - defaulting to CPU. Note: This module is much faster with a GPU.\n"
     ]
    }
   ],
   "source": [
    "rcParams['figure.figsize'] = 8, 16\n",
    "reader = easyocr.Reader(['en'])"
   ]
  },
  {
   "cell_type": "code",
   "execution_count": 48,
   "id": "a1a58217",
   "metadata": {},
   "outputs": [
    {
     "name": "stdout",
     "output_type": "stream",
     "text": [
      "[([[3794, 17], [4223, 17], [4223, 72], [3794, 72]], 'Doc#t: FM-L3-SC-01', 0.6615055320260478), ([[67, 0], [727, 0], [727, 168], [67, 168]], 'PAXAR', 0.9653507913381469), ([[4043, 73], [4266, 73], [4266, 128], [4043, 128]], 'Issue#t: 02', 0.6286197248315419), ([[1849, 96], [2512, 96], [2512, 187], [1849, 187]], 'SALES INVOICE', 0.9986565690360795), ([[3717, 129], [4240, 129], [4240, 184], [3717, 184]], 'Issue Date: 25-10-2019', 0.6001695948187612), ([[3717, 245], [4253, 245], [4253, 300], [3717, 300]], 'Paxar Pakistan (Pvt) Ltd_', 0.8802829251126506), ([[67, 286], [1737, 286], [1737, 362], [67, 362]], 'SALES TAX REGISTRATION NO 17-50-5807-003-82', 0.8516076290794506), ([[4047, 301], [4253, 301], [4253, 356], [4047, 356]], 'Plot # 26_', 0.49182517931382186), ([[71, 367], [1050, 367], [1050, 444], [71, 444]], 'NATIONAL TAX NO 2695980-1', 0.6918012370703546), ([[4030, 356], [4253, 356], [4253, 412], [4030, 412]], 'Sector 24', 0.7813849487326464), ([[3744, 410], [4256, 410], [4256, 474], [3744, 474]], 'Korangi Industrial Area,', 0.8060632531234262), ([[334, 489], [559, 489], [559, 555], [334, 555]], 'BILL TO', 0.970271280821506), ([[1902, 493], [2144, 493], [2144, 559], [1902, 559]], 'SHIP TO', 0.9896341478417247), ([[3711, 489], [3940, 489], [3940, 550], [3711, 550]], 'NTN NO_', 0.7103668920232421), ([[333, 586], [1200, 586], [1200, 659], [333, 659]], 'ARTISTIC MILLINERS (PVT) LTD:', 0.9356377691742581), ([[1927, 586], [2786, 586], [2786, 659], [1927, 659]], 'ARTISTIC MILLINERS (PVT) LTD:', 0.6554757958545161), ([[3538, 578], [3856, 578], [3856, 650], [3538, 650]], '2645727-OA', 0.6866556761991387), ([[337, 646], [1511, 646], [1511, 724], [337, 724]], 'Plot No. 1/A Sector 20, Korangi Industrial Area,', 0.7408384940602638), ([[1927, 646], [3101, 646], [3101, 724], [1927, 724]], 'Plot No. I/A Sector 20, Korangi Industrial Area,', 0.5683741197709564), ([[3724, 669], [3958, 669], [3958, 731], [3724, 731]], 'GST NO.', 0.940978008574557), ([[368, 725], [628, 725], [628, 791], [368, 791]], 'KARACHI', 0.9811579114538505), ([[1958, 725], [2222, 725], [2222, 791], [1958, 791]], 'KARACHI', 0.8053183403474531), ([[3548, 755], [4031, 755], [4031, 817], [3548, 817]], '17-50-5205-002-82', 0.8066660607655057), ([[338, 802], [623, 802], [623, 864], [338, 864]], 'PAKISTAN', 0.8059223449338591), ([[1928, 802], [2157, 802], [2157, 868], [1928, 868]], 'Pakistan', 0.9999753861149948), ([[3660, 841], [4065, 841], [4065, 907], [3660, 907]], 'INVOICE DATE', 0.9944096425822814), ([[3578, 927], [3867, 927], [3867, 993], [3578, 993]], '05-APR-22', 0.9818108125663226), ([[3690, 1004], [4048, 1004], [4048, 1070], [3690, 1070]], 'INVOICE NO:', 0.981164106197087), ([[3496, 1095], [3696, 1095], [3696, 1160], [3496, 1160]], '577794', 0.5252183134781607), ([[3449, 1180], [3734, 1180], [3734, 1246], [3449, 1246]], 'AACCOUNT', 0.8564915789270185), ([[3948, 1180], [4117, 1180], [4117, 1246], [3948, 1246]], 'PAGE', 0.9999569654464722), ([[3561, 1266], [3764, 1266], [3764, 1328], [3561, 1328]], '477034', 0.8438260472370438), ([[4016, 1266], [4117, 1266], [4117, 1332], [4016, 1332]], '212', 0.9948809339739482), ([[89, 1395], [933, 1395], [933, 1461], [89, 1461]], 'SOLD TO: LEVI STRAUSS & CO', 0.8695066141854718), ([[957, 1395], [1096, 1395], [1096, 1461], [957, 1461]], '2707', 0.4901506315523079), ([[59, 1567], [374, 1567], [374, 1633], [59, 1633]], 'ORDER NO_', 0.8944539750152717), ([[549, 1567], [903, 1567], [903, 1633], [549, 1633]], 'PO NUMBER', 0.9980373608103214), ([[1481, 1567], [1887, 1567], [1887, 1633], [1481, 1633]], 'TRACKING NO.', 0.992403614615304), ([[2534, 1567], [2780, 1567], [2780, 1633], [2534, 1633]], 'SHIP VIA', 0.7704563984472584), ([[3647, 1567], [4117, 1567], [4117, 1633], [3647, 1633]], 'FREIGHT TERMS', 0.5663295580998369), ([[158, 1653], [421, 1653], [421, 1719], [158, 1719]], '74201814', 0.6334203606326353), ([[545, 1653], [1079, 1653], [1079, 1719], [545, 1719]], 'EXPORT ACCOUNT', 0.9992714728452143), ([[1473, 1666], [1882, 1666], [1882, 1732], [1473, 1732]], 'Kashif Rasheed', 0.9676078708651836), ([[2972, 1666], [3171, 1666], [3171, 1732], [2972, 1732]], 'LOCAL', 0.9998626138233643), ([[3630, 1657], [4082, 1657], [4082, 1723], [3630, 1723]], 'EXW EX WORKS', 0.990146123008479), ([[60, 1895], [175, 1895], [175, 1946], [60, 1946]], 'LINE', 0.9999688863754272), ([[275, 1890], [983, 1890], [983, 1946], [275, 1946]], 'PART NUMBERIDESCRIPTION', 0.7727349871764688), ([[1723, 1890], [2062, 1890], [2062, 1946], [1723, 1946]], 'QTY SHIPPED', 0.9982715924091521), ([[2105, 1890], [2229, 1890], [2229, 1946], [2105, 1946]], 'UOM', 0.9999202316538898), ([[2392, 1889], [2686, 1889], [2686, 1951], [2392, 1951]], 'UNIT PRICE', 0.9085634065539434), ([[2732, 1889], [3412, 1889], [3412, 1951], [2732, 1951]], 'EXTENDED PRICETAX RATE', 0.9953874166508359), ([[3429, 1890], [3755, 1890], [3755, 1946], [3429, 1946]], 'TAX AMOUNT', 0.6681047874105968), ([[3824, 1890], [4214, 1890], [4214, 1946], [3824, 1946]], 'TOTAL AMOUNT', 0.8901355607256602), ([[191, 2090], [534, 2090], [534, 2163], [191, 2163]], 'S114344LSE', 0.9954772011673562), ([[561, 2090], [1651, 2090], [1651, 2163], [561, 2163]], 'LEVI STRAUSS & CO.S114344LSEAD311', 0.8485604754459863), ([[1897, 2086], [2244, 2086], [2244, 2158], [1897, 2158]], '204.00  Each', 0.5312973946453644), ([[2586, 2091], [2707, 2091], [2707, 2153], [2586, 2153]], '4.14', 0.9166199212822053), ([[3006, 2082], [3215, 2082], [3215, 2158], [3006, 2158]], '844.56]', 0.6425986307775353), ([[3251, 2086], [3417, 2086], [3417, 2158], [3251, 2158]], '17.00,', 0.3824842622030317), ([[3595, 2091], [3777, 2091], [3777, 2157], [3595, 2157]], '143.58', 0.9999635969435621), ([[4085, 2087], [4267, 2087], [4267, 2153], [4085, 2153]], '988.14', 0.9999686425410605), ([[192, 2160], [327, 2160], [327, 2226], [192, 2226]], 'Kraft', 0.9999970145266341), ([[355, 2160], [503, 2160], [503, 2222], [355, 2222]], 'PCW.', 0.9207341579033815), ([[281, 2216], [1488, 2216], [1488, 2294], [281, 2294]], 'ORDER NO. 74201814, Buyer PO#1000426278', 0.7512278143574189), ([[192, 2285], [1388, 2285], [1388, 2351], [192, 2351]], 'Job#20007/20008 PO#36351, DELIVERY INFO', 0.7751771050762758), ([[1405, 2286], [1555, 2286], [1555, 2341], [1405, 2341]], 'AVY -', 0.7002089917792742), ([[187, 2344], [740, 2344], [740, 2416], [187, 2416]], '21721246/05-APR-22', 0.5741540350036626), ([[190, 2407], [1390, 2407], [1390, 2496], [190, 2496]], 'HS Code: 4821.1040; Description: 48-a-Paper &', 0.8275696872606296), ([[191, 2481], [654, 2481], [654, 2558], [191, 2558]], 'Paperboard, Rolls', 0.708001331027372), ([[682, 2482], [868, 2482], [868, 2544], [682, 2544]], 'Sheets', 0.9999897270151656), ([[1411, 4273], [1582, 4273], [1582, 4350], [1411, 4350]], 'Total', 0.9999558042242901), ([[1820, 4273], [2102, 4273], [2102, 4354], [1820, 4354]], '1,860.00', 0.638584719986654), ([[2907, 4273], [3194, 4273], [3194, 4350], [2907, 4350]], '7,700.40', 0.7308830188159469), ([[3491, 4273], [3770, 4273], [3770, 4354], [3491, 4354]], '1,309.07', 0.9917230434709357), ([[3972, 4277], [4259, 4277], [4259, 4354], [3972, 4354]], '9,009.47', 0.5144348652858597), ([[99, 4387], [523, 4387], [523, 4442], [99, 4442]], 'PAYMENT TERMS', 0.9996961426208073), ([[876, 4387], [1237, 4387], [1237, 4442], [876, 4442]], 'PK Checks ABN', 0.9575914456741155), ([[85, 4483], [428, 4483], [428, 4549], [85, 4549]], 'Due in 45 days', 0.9826748107137465), ([[89, 4553], [2054, 4553], [2054, 4622], [89, 4622]], 'AIl sales are subject to Avery Dennison General Terms and Conditions of Sale available at:', 0.8043023997630808), ([[84, 4612], [1852, 4612], [1852, 4678], [84, 4678]], 'http:Ilrbis averydennison comlen/homelgeneral-terms-and-conditions-of-salehtml', 0.7678053338512087), ([[2733, 4619], [3617, 4619], [3617, 4674], [2733, 4674]], 'SHIPPING ANDIOR OTHER CHARGES', 0.6833426961442669), ([[4088, 4630], [4238, 4630], [4238, 4702], [4088, 4702]], '0.00', 0.9998074173927307), ([[95, 4673], [2687, 4673], [2687, 4748], [95, 4748]], '[mmediately upon receipt of goods the Buyer is responsible for inspecting the contents of all shipments and deliveries to', 0.5541838271241187), ([[98, 4735], [2419, 4735], [2419, 4801], [98, 4801]], \"hssure that specifications have been met prior to incorporating the aforesaid products into Buyer's Products_\", 0.5292252194724127), ([[2432, 4739], [2552, 4739], [2552, 4790], [2432, 4790]], 'If the', 0.9912894067414849), ([[97, 4785], [2644, 4785], [2644, 4862], [97, 4862]], 'lforesaid products fail to meet specifications, Buyer may return the non-conforming products for replacement or credit', 0.4296985067571122), ([[98, 4848], [2656, 4848], [2656, 4916], [98, 4916]], 'within 5 days of receipt: In no event will Seller be responsible for damages or consequential damages other than credit', 0.6648658034626241), ([[98, 4906], [1762, 4906], [1762, 4972], [98, 4972]], 'br replacement_If there_is any problem, please contact the Customer Service', 0.7115442493046115), ([[98, 4976], [1728, 4976], [1728, 5042], [98, 5042]], 'This is also considered as Sales Tax invoice UIS 23 of Sales Tax Act; 1990', 0.8140523101223478), ([[2724, 4980], [2895, 4980], [2895, 5035], [2724, 5035]], 'TOTAL', 0.9997316230654011), ([[3433, 4988], [3544, 4988], [3544, 5044], [3433, 5044]], 'PKR', 0.9996214004428929), ([[3955, 4991], [4234, 4991], [4234, 5067], [3955, 5067]], '9,009.47', 0.9793919653025668), ([[98, 5036], [1917, 5036], [1917, 5105], [98, 5105]], 'This is a system Generated Document and does not require any SignatureApproval', 0.8126722863124332), ([[98, 5108], [2097, 5108], [2097, 5176], [98, 5176]], '2% interest per month on gross amount will be charged if payment not made within due date', 0.7794221711336238), ([[2724, 5186], [2981, 5186], [2981, 5237], [2724, 5237]], 'DUE DATE', 0.9991564560962609), ([[3949, 5182], [4210, 5182], [4210, 5233], [3949, 5233]], '20-MA Y-22', 0.8419466308413285), ([[101, 5286], [4096, 5286], [4096, 5361], [101, 5361]], 'The above-mentioned products may be subject to U.S. law: Re-export or transfer to restricted countries or denied parties contrary to U.S. or local law is strictly prohibited without the prior', 0.689789332412901), ([[98, 5353], [546, 5353], [546, 5414], [98, 5414]], 'consent in writing of', 0.9143930981680881), ([[679, 5354], [1305, 5354], [1305, 5409], [679, 5409]], \"Dennison's Law Department.\", 0.8491923480289671), ([[92, 5400], [2077, 5400], [2077, 5473], [92, 5473]], 'If the delivery date is stated the delivery date will be considered as date of the achievement.', 0.5834107856491442), ([[545.9805585009541, 5348.087239305534], [682.8283940389807, 5365.575281457138], [674.0194414990459, 5417.912760694466], [536.1716059610193, 5401.424718542862]], 'Avery', 0.9999929094990383)]\n",
      "===============Type===================== <class 'list'>\n",
      "====================Length=============== 101\n"
     ]
    }
   ],
   "source": [
    "#NTN,Invoices,PO,Order\n",
    "\n",
    "PDF_file = \"AMI Page 155.pdf\"\n",
    "  \n",
    "'''\n",
    "Part #1 : Converting PDF to images\n",
    "'''\n",
    "  \n",
    "# Store all the pages of the PDF in a variable\n",
    "pages = convert_from_path(PDF_file, 500)\n",
    "  \n",
    "# Counter to store images of each page of PDF to image\n",
    "image_counter = 1\n",
    "  \n",
    "# Iterate through all the pages stored above\n",
    "for page in pages:\n",
    "  \n",
    "    filename = \"page_\"+str(image_counter)+\".jpg\"\n",
    "      \n",
    "    # Save the image of the page in system\n",
    "    page.save(filename, 'JPEG',dpi=(300,300))\n",
    "    #im.save(\"test-600.png\", dpi=(600,600))\n",
    "    # Increment the counter to update filename\n",
    "    image_counter = image_counter + 1\n",
    "\n",
    "'''\n",
    "Part #2 - Recognizing text from the images using OCR\n",
    "'''\n",
    "    \n",
    "# Variable to get count of total number of pages\n",
    "filelimit = image_counter-1\n",
    "  \n",
    "# Creating a text file to write the output\n",
    "outfile = \"out_text.txt\"\n",
    "  \n",
    "# Open the file in append mode so that \n",
    "# All contents of all images are added to the same file\n",
    "f = open(outfile, \"a\")\n",
    "  \n",
    "# Iterate from 1 to total number of pages\n",
    "for i in range(1, filelimit + 1):\n",
    "  \n",
    "    filename = \"page_\"+str(i)+\".jpg\"\n",
    "    \n",
    "  \n",
    "    text = reader.readtext(filename)\n",
    "    \n",
    "    \n",
    "    \n",
    "    \n",
    "    print(text)\n",
    "    print(\"===============Type=====================\",type(text))\n",
    "    length=len(text)\n",
    "    print(\"====================Length===============\",length)\n",
    "    \n",
    "        \n",
    "    texts=str(text)\n",
    "    # Finally, write the processed text to the file.\n",
    "    f.write(texts)\n",
    "  \n",
    "# Close the file after writing all the text.\n",
    "f.close()"
   ]
  },
  {
   "cell_type": "code",
   "execution_count": 49,
   "id": "32db3960",
   "metadata": {},
   "outputs": [],
   "source": [
    "lst=[]\n",
    "for i in range(length):\n",
    "    lst.append(text[i][1])\n"
   ]
  },
  {
   "cell_type": "code",
   "execution_count": 50,
   "id": "a74803dd",
   "metadata": {},
   "outputs": [
    {
     "data": {
      "text/plain": [
       "\"Doc#t: FM-L3-SC-01 PAXAR Issue#t: 02 SALES INVOICE Issue Date: 25-10-2019 Paxar Pakistan (Pvt) Ltd_ SALES TAX REGISTRATION NO 17-50-5807-003-82 Plot # 26_ NATIONAL TAX NO 2695980-1 Sector 24 Korangi Industrial Area, BILL TO SHIP TO NTN NO_ ARTISTIC MILLINERS (PVT) LTD: ARTISTIC MILLINERS (PVT) LTD: 2645727-OA Plot No. 1/A Sector 20, Korangi Industrial Area, Plot No. I/A Sector 20, Korangi Industrial Area, GST NO. KARACHI KARACHI 17-50-5205-002-82 PAKISTAN Pakistan INVOICE DATE 05-APR-22 INVOICE NO: 577794 AACCOUNT PAGE 477034 212 SOLD TO: LEVI STRAUSS & CO 2707 ORDER NO_ PO NUMBER TRACKING NO. SHIP VIA FREIGHT TERMS 74201814 EXPORT ACCOUNT Kashif Rasheed LOCAL EXW EX WORKS LINE PART NUMBERIDESCRIPTION QTY SHIPPED UOM UNIT PRICE EXTENDED PRICETAX RATE TAX AMOUNT TOTAL AMOUNT S114344LSE LEVI STRAUSS & CO.S114344LSEAD311 204.00  Each 4.14 844.56] 17.00, 143.58 988.14 Kraft PCW. ORDER NO. 74201814, Buyer PO#1000426278 Job#20007/20008 PO#36351, DELIVERY INFO AVY - 21721246/05-APR-22 HS Code: 4821.1040; Description: 48-a-Paper & Paperboard, Rolls Sheets Total 1,860.00 7,700.40 1,309.07 9,009.47 PAYMENT TERMS PK Checks ABN Due in 45 days AIl sales are subject to Avery Dennison General Terms and Conditions of Sale available at: http:Ilrbis averydennison comlen/homelgeneral-terms-and-conditions-of-salehtml SHIPPING ANDIOR OTHER CHARGES 0.00 [mmediately upon receipt of goods the Buyer is responsible for inspecting the contents of all shipments and deliveries to hssure that specifications have been met prior to incorporating the aforesaid products into Buyer's Products_ If the lforesaid products fail to meet specifications, Buyer may return the non-conforming products for replacement or credit within 5 days of receipt: In no event will Seller be responsible for damages or consequential damages other than credit br replacement_If there_is any problem, please contact the Customer Service This is also considered as Sales Tax invoice UIS 23 of Sales Tax Act; 1990 TOTAL PKR 9,009.47 This is a system Generated Document and does not require any SignatureApproval 2% interest per month on gross amount will be charged if payment not made within due date DUE DATE 20-MA Y-22 The above-mentioned products may be subject to U.S. law: Re-export or transfer to restricted countries or denied parties contrary to U.S. or local law is strictly prohibited without the prior consent in writing of Dennison's Law Department. If the delivery date is stated the delivery date will be considered as date of the achievement. Avery\""
      ]
     },
     "execution_count": 50,
     "metadata": {},
     "output_type": "execute_result"
    }
   ],
   "source": [
    "str1 = ' '.join(lst)\n",
    "str1"
   ]
  },
  {
   "cell_type": "code",
   "execution_count": null,
   "id": "f9c61b3b",
   "metadata": {},
   "outputs": [],
   "source": [
    "''''''''\"PO#\\d{5,6},|PO#\\d{5,6}| PO#\\d{5,6}\\b \"'''"
   ]
  },
  {
   "cell_type": "code",
   "execution_count": 51,
   "id": "85abd213",
   "metadata": {},
   "outputs": [],
   "source": [
    "NTN_pattern=\"\\d{7}-\\w{2}\"\n",
    "NTN=re.findall(NTN_pattern,str1)\n",
    "#PO correct\n",
    "po_pattern=\"PO#\\d{5,6},|PO#\\d{5,6}$| PO#\\d{5,6} \"\n",
    "po=re.findall(po_pattern,str1)\n",
    "#Invoice\n",
    "IN_pattern=\"INVOICE NO: \\d{6}\"\n",
    "IN=re.findall(IN_pattern,str1)\n",
    "\n",
    "#Order\n",
    "Order_pattern=\"\\d{8}\"\n",
    "OR=re.findall(Order_pattern,str1)\n",
    "ntn=NTN[0]\n",
    "ora=OR[0]\n"
   ]
  },
  {
   "cell_type": "code",
   "execution_count": 52,
   "id": "94a1f0ab",
   "metadata": {},
   "outputs": [
    {
     "name": "stdout",
     "output_type": "stream",
     "text": [
      "{'National_Tax_No.': '2645727-OA', 'Invoice No': ['INVOICE NO: 577794'], 'Ordered No': '74201814', 'PO# ': ['PO#36351,']}\n"
     ]
    }
   ],
   "source": [
    "data_set = {#\"Party_PO\": [output[36][1]],\n",
    "            \"National_Tax_No.\": ntn,\n",
    "            'Invoice No':IN,\n",
    "            'Ordered No':ora,\n",
    "            \"PO# \":po,\n",
    "           # \"Table \": data\n",
    "\n",
    "           }\n",
    "print(data_set)"
   ]
  },
  {
   "cell_type": "code",
   "execution_count": 153,
   "id": "cae30bf3",
   "metadata": {
    "scrolled": false
   },
   "outputs": [
    {
     "data": {
      "text/plain": [
       "<TableList n=2>"
      ]
     },
     "execution_count": 153,
     "metadata": {},
     "output_type": "execute_result"
    }
   ],
   "source": [
    "#Tables\n",
    "tables=camelot.read_pdf('AMI Page 155.pdf', flavor='stream', pages='1', edge_tol=500)\n",
    "tables"
   ]
  },
  {
   "cell_type": "code",
   "execution_count": 154,
   "id": "3d6cdc8e",
   "metadata": {},
   "outputs": [
    {
     "data": {
      "text/plain": [
       "{'accuracy': 97.0, 'whitespace': 43.75, 'order': 1, 'page': 1}"
      ]
     },
     "execution_count": 154,
     "metadata": {},
     "output_type": "execute_result"
    }
   ],
   "source": [
    "tables[0].parsing_report"
   ]
  },
  {
   "cell_type": "code",
   "execution_count": 155,
   "id": "d796fd79",
   "metadata": {},
   "outputs": [
    {
     "name": "stderr",
     "output_type": "stream",
     "text": [
      "C:\\Users\\Naeem\\AppData\\Local\\Temp/ipykernel_3872/3259206825.py:1: UserWarning: Matplotlib is currently using module://matplotlib_inline.backend_inline, which is a non-GUI backend, so cannot show the figure.\n",
      "  camelot.plot(tables[0], kind='text').show()\n"
     ]
    },
    {
     "data": {
      "image/png": "[encoded data removed]",
      "text/plain": [
       "<Figure size 576x1152 with 1 Axes>"
      ]
     },
     "metadata": {
      "needs_background": "light"
     },
     "output_type": "display_data"
    }
   ],
   "source": [
    "camelot.plot(tables[0], kind='text').show()"
   ]
  },
  {
   "cell_type": "code",
   "execution_count": 156,
   "id": "a8181177",
   "metadata": {},
   "outputs": [
    {
     "name": "stderr",
     "output_type": "stream",
     "text": [
      "C:\\Users\\Naeem\\AppData\\Local\\Temp/ipykernel_3872/311955129.py:1: UserWarning: Matplotlib is currently using module://matplotlib_inline.backend_inline, which is a non-GUI backend, so cannot show the figure.\n",
      "  camelot.plot(tables[0], kind='grid').show()\n"
     ]
    },
    {
     "data": {
      "image/png": "[encoded data removed]",
      "text/plain": [
       "<Figure size 576x1152 with 1 Axes>"
      ]
     },
     "metadata": {
      "needs_background": "light"
     },
     "output_type": "display_data"
    }
   ],
   "source": [
    "camelot.plot(tables[0], kind='grid').show()"
   ]
  },
  {
   "cell_type": "code",
   "execution_count": 157,
   "id": "54b8ff92",
   "metadata": {},
   "outputs": [
    {
     "name": "stderr",
     "output_type": "stream",
     "text": [
      "C:\\Users\\Naeem\\AppData\\Local\\Temp/ipykernel_3872/2005142002.py:1: UserWarning: Matplotlib is currently using module://matplotlib_inline.backend_inline, which is a non-GUI backend, so cannot show the figure.\n",
      "  camelot.plot(tables[0], kind='contour').show()\n"
     ]
    },
    {
     "data": {
      "image/png": "[encoded data removed]",
      "text/plain": [
       "<Figure size 576x1152 with 1 Axes>"
      ]
     },
     "metadata": {
      "needs_background": "light"
     },
     "output_type": "display_data"
    }
   ],
   "source": [
    "camelot.plot(tables[0], kind='contour').show()"
   ]
  },
  {
   "cell_type": "code",
   "execution_count": 158,
   "id": "2ee3aaf0",
   "metadata": {},
   "outputs": [
    {
     "name": "stderr",
     "output_type": "stream",
     "text": [
      "C:\\Users\\Naeem\\AppData\\Local\\Temp/ipykernel_3872/4233977520.py:1: UserWarning: Matplotlib is currently using module://matplotlib_inline.backend_inline, which is a non-GUI backend, so cannot show the figure.\n",
      "  camelot.plot(tables[0], kind='textedge').show()\n"
     ]
    },
    {
     "data": {
      "image/png": "[encoded data removed]",
      "text/plain": [
       "<Figure size 576x1152 with 1 Axes>"
      ]
     },
     "metadata": {
      "needs_background": "light"
     },
     "output_type": "display_data"
    }
   ],
   "source": [
    "camelot.plot(tables[0], kind='textedge').show()"
   ]
  },
  {
   "cell_type": "code",
   "execution_count": 159,
   "id": "a4801395",
   "metadata": {},
   "outputs": [
    {
     "data": {
      "text/html": [
       "<div>\n",
       "<style scoped>\n",
       "    .dataframe tbody tr th:only-of-type {\n",
       "        vertical-align: middle;\n",
       "    }\n",
       "\n",
       "    .dataframe tbody tr th {\n",
       "        vertical-align: top;\n",
       "    }\n",
       "\n",
       "    .dataframe thead th {\n",
       "        text-align: right;\n",
       "    }\n",
       "</style>\n",
       "<table border=\"1\" class=\"dataframe\">\n",
       "  <thead>\n",
       "    <tr style=\"text-align: right;\">\n",
       "      <th></th>\n",
       "      <th>0</th>\n",
       "      <th>1</th>\n",
       "    </tr>\n",
       "  </thead>\n",
       "  <tbody>\n",
       "    <tr>\n",
       "      <th>0</th>\n",
       "      <td>LINE</td>\n",
       "      <td>PART NUMBER/DESCRIPTION</td>\n",
       "    </tr>\n",
       "    <tr>\n",
       "      <th>1</th>\n",
       "      <td></td>\n",
       "      <td>S114344LSE / LEVI STRAUSS &amp; CO.S114344LSE.AD311</td>\n",
       "    </tr>\n",
       "    <tr>\n",
       "      <th>2</th>\n",
       "      <td></td>\n",
       "      <td>Kraft / PCW......</td>\n",
       "    </tr>\n",
       "    <tr>\n",
       "      <th>3</th>\n",
       "      <td></td>\n",
       "      <td>ORDER NO. 74201814, Buyer PO#1000426278</td>\n",
       "    </tr>\n",
       "    <tr>\n",
       "      <th>4</th>\n",
       "      <td></td>\n",
       "      <td>Job#20007/20008 PO#36351, DELIVERY INFO : AVY-</td>\n",
       "    </tr>\n",
       "    <tr>\n",
       "      <th>5</th>\n",
       "      <td></td>\n",
       "      <td>21721246/05-APR-22</td>\n",
       "    </tr>\n",
       "    <tr>\n",
       "      <th>6</th>\n",
       "      <td></td>\n",
       "      <td>HS Code: 4821.1040; Description: 48-a-Paper &amp;</td>\n",
       "    </tr>\n",
       "    <tr>\n",
       "      <th>7</th>\n",
       "      <td></td>\n",
       "      <td>Paperboard, Rolls , Sheets</td>\n",
       "    </tr>\n",
       "  </tbody>\n",
       "</table>\n",
       "</div>"
      ],
      "text/plain": [
       "      0                                                1\n",
       "0  LINE                          PART NUMBER/DESCRIPTION\n",
       "1        S114344LSE / LEVI STRAUSS & CO.S114344LSE.AD311\n",
       "2                                      Kraft / PCW......\n",
       "3                ORDER NO. 74201814, Buyer PO#1000426278\n",
       "4         Job#20007/20008 PO#36351, DELIVERY INFO : AVY-\n",
       "5                                     21721246/05-APR-22\n",
       "6          HS Code: 4821.1040; Description: 48-a-Paper &\n",
       "7                             Paperboard, Rolls , Sheets"
      ]
     },
     "execution_count": 159,
     "metadata": {},
     "output_type": "execute_result"
    }
   ],
   "source": [
    "df=tables[0].df\n",
    "df"
   ]
  },
  {
   "cell_type": "code",
   "execution_count": null,
   "id": "45b25a6d",
   "metadata": {},
   "outputs": [],
   "source": []
  },
  {
   "cell_type": "code",
   "execution_count": null,
   "id": "0c4e8975",
   "metadata": {},
   "outputs": [],
   "source": [
    "df[5]=df[5].replace([\"\\n\"],\" \",regex=True)"
   ]
  },
  {
   "cell_type": "code",
   "execution_count": 69,
   "id": "612a83f1",
   "metadata": {},
   "outputs": [],
   "source": [
    "df2 = df.iloc[0] #grab the first row for the header\n",
    "df = df[1:] #take the data less the header row\n",
    "df.columns = df2 #set the header row as the df header"
   ]
  },
  {
   "cell_type": "code",
   "execution_count": 60,
   "id": "3ff44ab1",
   "metadata": {},
   "outputs": [
    {
     "ename": "KeyError",
     "evalue": "\"['PART NUMBER/DESCRIPTION'] not found in axis\"",
     "output_type": "error",
     "traceback": [
      "\u001b[1;31m---------------------------------------------------------------------------\u001b[0m",
      "\u001b[1;31mKeyError\u001b[0m                                  Traceback (most recent call last)",
      "\u001b[1;32m~\\AppData\\Local\\Temp/ipykernel_3872/3828876942.py\u001b[0m in \u001b[0;36m<module>\u001b[1;34m\u001b[0m\n\u001b[1;32m----> 1\u001b[1;33m \u001b[0mdf\u001b[0m\u001b[1;33m.\u001b[0m\u001b[0mdrop\u001b[0m\u001b[1;33m(\u001b[0m\u001b[0mcolumns\u001b[0m\u001b[1;33m=\u001b[0m\u001b[1;33m[\u001b[0m\u001b[1;34m'PART NUMBER/DESCRIPTION'\u001b[0m\u001b[1;33m]\u001b[0m\u001b[1;33m,\u001b[0m\u001b[0minplace\u001b[0m\u001b[1;33m=\u001b[0m\u001b[1;32mTrue\u001b[0m\u001b[1;33m)\u001b[0m\u001b[1;33m\u001b[0m\u001b[1;33m\u001b[0m\u001b[0m\n\u001b[0m",
      "\u001b[1;32m~\\anaconda3\\lib\\site-packages\\pandas\\util\\_decorators.py\u001b[0m in \u001b[0;36mwrapper\u001b[1;34m(*args, **kwargs)\u001b[0m\n\u001b[0;32m    309\u001b[0m                     \u001b[0mstacklevel\u001b[0m\u001b[1;33m=\u001b[0m\u001b[0mstacklevel\u001b[0m\u001b[1;33m,\u001b[0m\u001b[1;33m\u001b[0m\u001b[1;33m\u001b[0m\u001b[0m\n\u001b[0;32m    310\u001b[0m                 )\n\u001b[1;32m--> 311\u001b[1;33m             \u001b[1;32mreturn\u001b[0m \u001b[0mfunc\u001b[0m\u001b[1;33m(\u001b[0m\u001b[1;33m*\u001b[0m\u001b[0margs\u001b[0m\u001b[1;33m,\u001b[0m \u001b[1;33m**\u001b[0m\u001b[0mkwargs\u001b[0m\u001b[1;33m)\u001b[0m\u001b[1;33m\u001b[0m\u001b[1;33m\u001b[0m\u001b[0m\n\u001b[0m\u001b[0;32m    312\u001b[0m \u001b[1;33m\u001b[0m\u001b[0m\n\u001b[0;32m    313\u001b[0m         \u001b[1;32mreturn\u001b[0m \u001b[0mwrapper\u001b[0m\u001b[1;33m\u001b[0m\u001b[1;33m\u001b[0m\u001b[0m\n",
      "\u001b[1;32m~\\anaconda3\\lib\\site-packages\\pandas\\core\\frame.py\u001b[0m in \u001b[0;36mdrop\u001b[1;34m(self, labels, axis, index, columns, level, inplace, errors)\u001b[0m\n\u001b[0;32m   4904\u001b[0m                 \u001b[0mweight\u001b[0m  \u001b[1;36m1.0\u001b[0m     \u001b[1;36m0.8\u001b[0m\u001b[1;33m\u001b[0m\u001b[1;33m\u001b[0m\u001b[0m\n\u001b[0;32m   4905\u001b[0m         \"\"\"\n\u001b[1;32m-> 4906\u001b[1;33m         return super().drop(\n\u001b[0m\u001b[0;32m   4907\u001b[0m             \u001b[0mlabels\u001b[0m\u001b[1;33m=\u001b[0m\u001b[0mlabels\u001b[0m\u001b[1;33m,\u001b[0m\u001b[1;33m\u001b[0m\u001b[1;33m\u001b[0m\u001b[0m\n\u001b[0;32m   4908\u001b[0m             \u001b[0maxis\u001b[0m\u001b[1;33m=\u001b[0m\u001b[0maxis\u001b[0m\u001b[1;33m,\u001b[0m\u001b[1;33m\u001b[0m\u001b[1;33m\u001b[0m\u001b[0m\n",
      "\u001b[1;32m~\\anaconda3\\lib\\site-packages\\pandas\\core\\generic.py\u001b[0m in \u001b[0;36mdrop\u001b[1;34m(self, labels, axis, index, columns, level, inplace, errors)\u001b[0m\n\u001b[0;32m   4148\u001b[0m         \u001b[1;32mfor\u001b[0m \u001b[0maxis\u001b[0m\u001b[1;33m,\u001b[0m \u001b[0mlabels\u001b[0m \u001b[1;32min\u001b[0m \u001b[0maxes\u001b[0m\u001b[1;33m.\u001b[0m\u001b[0mitems\u001b[0m\u001b[1;33m(\u001b[0m\u001b[1;33m)\u001b[0m\u001b[1;33m:\u001b[0m\u001b[1;33m\u001b[0m\u001b[1;33m\u001b[0m\u001b[0m\n\u001b[0;32m   4149\u001b[0m             \u001b[1;32mif\u001b[0m \u001b[0mlabels\u001b[0m \u001b[1;32mis\u001b[0m \u001b[1;32mnot\u001b[0m \u001b[1;32mNone\u001b[0m\u001b[1;33m:\u001b[0m\u001b[1;33m\u001b[0m\u001b[1;33m\u001b[0m\u001b[0m\n\u001b[1;32m-> 4150\u001b[1;33m                 \u001b[0mobj\u001b[0m \u001b[1;33m=\u001b[0m \u001b[0mobj\u001b[0m\u001b[1;33m.\u001b[0m\u001b[0m_drop_axis\u001b[0m\u001b[1;33m(\u001b[0m\u001b[0mlabels\u001b[0m\u001b[1;33m,\u001b[0m \u001b[0maxis\u001b[0m\u001b[1;33m,\u001b[0m \u001b[0mlevel\u001b[0m\u001b[1;33m=\u001b[0m\u001b[0mlevel\u001b[0m\u001b[1;33m,\u001b[0m \u001b[0merrors\u001b[0m\u001b[1;33m=\u001b[0m\u001b[0merrors\u001b[0m\u001b[1;33m)\u001b[0m\u001b[1;33m\u001b[0m\u001b[1;33m\u001b[0m\u001b[0m\n\u001b[0m\u001b[0;32m   4151\u001b[0m \u001b[1;33m\u001b[0m\u001b[0m\n\u001b[0;32m   4152\u001b[0m         \u001b[1;32mif\u001b[0m \u001b[0minplace\u001b[0m\u001b[1;33m:\u001b[0m\u001b[1;33m\u001b[0m\u001b[1;33m\u001b[0m\u001b[0m\n",
      "\u001b[1;32m~\\anaconda3\\lib\\site-packages\\pandas\\core\\generic.py\u001b[0m in \u001b[0;36m_drop_axis\u001b[1;34m(self, labels, axis, level, errors)\u001b[0m\n\u001b[0;32m   4183\u001b[0m                 \u001b[0mnew_axis\u001b[0m \u001b[1;33m=\u001b[0m \u001b[0maxis\u001b[0m\u001b[1;33m.\u001b[0m\u001b[0mdrop\u001b[0m\u001b[1;33m(\u001b[0m\u001b[0mlabels\u001b[0m\u001b[1;33m,\u001b[0m \u001b[0mlevel\u001b[0m\u001b[1;33m=\u001b[0m\u001b[0mlevel\u001b[0m\u001b[1;33m,\u001b[0m \u001b[0merrors\u001b[0m\u001b[1;33m=\u001b[0m\u001b[0merrors\u001b[0m\u001b[1;33m)\u001b[0m\u001b[1;33m\u001b[0m\u001b[1;33m\u001b[0m\u001b[0m\n\u001b[0;32m   4184\u001b[0m             \u001b[1;32melse\u001b[0m\u001b[1;33m:\u001b[0m\u001b[1;33m\u001b[0m\u001b[1;33m\u001b[0m\u001b[0m\n\u001b[1;32m-> 4185\u001b[1;33m                 \u001b[0mnew_axis\u001b[0m \u001b[1;33m=\u001b[0m \u001b[0maxis\u001b[0m\u001b[1;33m.\u001b[0m\u001b[0mdrop\u001b[0m\u001b[1;33m(\u001b[0m\u001b[0mlabels\u001b[0m\u001b[1;33m,\u001b[0m \u001b[0merrors\u001b[0m\u001b[1;33m=\u001b[0m\u001b[0merrors\u001b[0m\u001b[1;33m)\u001b[0m\u001b[1;33m\u001b[0m\u001b[1;33m\u001b[0m\u001b[0m\n\u001b[0m\u001b[0;32m   4186\u001b[0m             \u001b[0mresult\u001b[0m \u001b[1;33m=\u001b[0m \u001b[0mself\u001b[0m\u001b[1;33m.\u001b[0m\u001b[0mreindex\u001b[0m\u001b[1;33m(\u001b[0m\u001b[1;33m**\u001b[0m\u001b[1;33m{\u001b[0m\u001b[0maxis_name\u001b[0m\u001b[1;33m:\u001b[0m \u001b[0mnew_axis\u001b[0m\u001b[1;33m}\u001b[0m\u001b[1;33m)\u001b[0m\u001b[1;33m\u001b[0m\u001b[1;33m\u001b[0m\u001b[0m\n\u001b[0;32m   4187\u001b[0m \u001b[1;33m\u001b[0m\u001b[0m\n",
      "\u001b[1;32m~\\anaconda3\\lib\\site-packages\\pandas\\core\\indexes\\base.py\u001b[0m in \u001b[0;36mdrop\u001b[1;34m(self, labels, errors)\u001b[0m\n\u001b[0;32m   6015\u001b[0m         \u001b[1;32mif\u001b[0m \u001b[0mmask\u001b[0m\u001b[1;33m.\u001b[0m\u001b[0many\u001b[0m\u001b[1;33m(\u001b[0m\u001b[1;33m)\u001b[0m\u001b[1;33m:\u001b[0m\u001b[1;33m\u001b[0m\u001b[1;33m\u001b[0m\u001b[0m\n\u001b[0;32m   6016\u001b[0m             \u001b[1;32mif\u001b[0m \u001b[0merrors\u001b[0m \u001b[1;33m!=\u001b[0m \u001b[1;34m\"ignore\"\u001b[0m\u001b[1;33m:\u001b[0m\u001b[1;33m\u001b[0m\u001b[1;33m\u001b[0m\u001b[0m\n\u001b[1;32m-> 6017\u001b[1;33m                 \u001b[1;32mraise\u001b[0m \u001b[0mKeyError\u001b[0m\u001b[1;33m(\u001b[0m\u001b[1;34mf\"{labels[mask]} not found in axis\"\u001b[0m\u001b[1;33m)\u001b[0m\u001b[1;33m\u001b[0m\u001b[1;33m\u001b[0m\u001b[0m\n\u001b[0m\u001b[0;32m   6018\u001b[0m             \u001b[0mindexer\u001b[0m \u001b[1;33m=\u001b[0m \u001b[0mindexer\u001b[0m\u001b[1;33m[\u001b[0m\u001b[1;33m~\u001b[0m\u001b[0mmask\u001b[0m\u001b[1;33m]\u001b[0m\u001b[1;33m\u001b[0m\u001b[1;33m\u001b[0m\u001b[0m\n\u001b[0;32m   6019\u001b[0m         \u001b[1;32mreturn\u001b[0m \u001b[0mself\u001b[0m\u001b[1;33m.\u001b[0m\u001b[0mdelete\u001b[0m\u001b[1;33m(\u001b[0m\u001b[0mindexer\u001b[0m\u001b[1;33m)\u001b[0m\u001b[1;33m\u001b[0m\u001b[1;33m\u001b[0m\u001b[0m\n",
      "\u001b[1;31mKeyError\u001b[0m: \"['PART NUMBER/DESCRIPTION'] not found in axis\""
     ]
    }
   ],
   "source": [
    "df.drop(columns=['PART NUMBER/DESCRIPTION'],inplace=True)"
   ]
  },
  {
   "cell_type": "code",
   "execution_count": 70,
   "id": "89597dc2",
   "metadata": {},
   "outputs": [
    {
     "data": {
      "text/html": [
       "<div>\n",
       "<style scoped>\n",
       "    .dataframe tbody tr th:only-of-type {\n",
       "        vertical-align: middle;\n",
       "    }\n",
       "\n",
       "    .dataframe tbody tr th {\n",
       "        vertical-align: top;\n",
       "    }\n",
       "\n",
       "    .dataframe thead th {\n",
       "        text-align: right;\n",
       "    }\n",
       "</style>\n",
       "<table border=\"1\" class=\"dataframe\">\n",
       "  <thead>\n",
       "    <tr style=\"text-align: right;\">\n",
       "      <th></th>\n",
       "      <th>LINE</th>\n",
       "      <th>PART NUMBER/DESCRIPTION</th>\n",
       "    </tr>\n",
       "  </thead>\n",
       "  <tbody>\n",
       "  </tbody>\n",
       "</table>\n",
       "</div>"
      ],
      "text/plain": [
       "Empty DataFrame\n",
       "Columns: [LINE, PART NUMBER/DESCRIPTION]\n",
       "Index: []"
      ]
     },
     "execution_count": 70,
     "metadata": {},
     "output_type": "execute_result"
    }
   ],
   "source": [
    "df['LINE'].astype(bool)  \n",
    "df=df[df['LINE'].astype(bool)]\n",
    "df"
   ]
  },
  {
   "cell_type": "code",
   "execution_count": 44,
   "id": "3757b288",
   "metadata": {},
   "outputs": [
    {
     "data": {
      "text/html": [
       "<div>\n",
       "<style scoped>\n",
       "    .dataframe tbody tr th:only-of-type {\n",
       "        vertical-align: middle;\n",
       "    }\n",
       "\n",
       "    .dataframe tbody tr th {\n",
       "        vertical-align: top;\n",
       "    }\n",
       "\n",
       "    .dataframe thead th {\n",
       "        text-align: right;\n",
       "    }\n",
       "</style>\n",
       "<table border=\"1\" class=\"dataframe\">\n",
       "  <thead>\n",
       "    <tr style=\"text-align: right;\">\n",
       "      <th></th>\n",
       "      <th>LINE</th>\n",
       "      <th>QTY SHIPPED</th>\n",
       "      <th>UOM</th>\n",
       "      <th>UNIT PRICE</th>\n",
       "      <th>EXTENDED PRICE TAX RATE</th>\n",
       "      <th>TAX AMOUNT</th>\n",
       "      <th>TOTAL AMOUNT</th>\n",
       "      <th>TAX RATE</th>\n",
       "      <th>EXTENDED PRICE</th>\n",
       "    </tr>\n",
       "  </thead>\n",
       "  <tbody>\n",
       "    <tr>\n",
       "      <th>1</th>\n",
       "      <td>9</td>\n",
       "      <td>12,254.00</td>\n",
       "      <td>Each</td>\n",
       "      <td>1.70</td>\n",
       "      <td>17.00  20,831.80</td>\n",
       "      <td>3,541.41</td>\n",
       "      <td>24,373.21</td>\n",
       "      <td>17.00</td>\n",
       "      <td>20,831.80</td>\n",
       "    </tr>\n",
       "    <tr>\n",
       "      <th>7</th>\n",
       "      <td>10</td>\n",
       "      <td>11,047.00</td>\n",
       "      <td>Each</td>\n",
       "      <td>1.70</td>\n",
       "      <td>17.00  18,779.90</td>\n",
       "      <td>3,192.58</td>\n",
       "      <td>21,972.48</td>\n",
       "      <td>17.00</td>\n",
       "      <td>18,779.90</td>\n",
       "    </tr>\n",
       "    <tr>\n",
       "      <th>13</th>\n",
       "      <td>11</td>\n",
       "      <td>2,413.00</td>\n",
       "      <td>Each</td>\n",
       "      <td>1.70</td>\n",
       "      <td>17.00  4,102.10</td>\n",
       "      <td>697.36</td>\n",
       "      <td>4,799.46</td>\n",
       "      <td>17.00</td>\n",
       "      <td>4,102.10</td>\n",
       "    </tr>\n",
       "    <tr>\n",
       "      <th>19</th>\n",
       "      <td>12</td>\n",
       "      <td>574.00</td>\n",
       "      <td>Each</td>\n",
       "      <td>1.70</td>\n",
       "      <td>17.00  975.80</td>\n",
       "      <td>165.89</td>\n",
       "      <td>1,141.69</td>\n",
       "      <td>17.00</td>\n",
       "      <td>975.80</td>\n",
       "    </tr>\n",
       "  </tbody>\n",
       "</table>\n",
       "</div>"
      ],
      "text/plain": [
       "0  LINE QTY SHIPPED   UOM UNIT PRICE EXTENDED PRICE TAX RATE TAX AMOUNT  \\\n",
       "1     9   12,254.00  Each       1.70        17.00  20,831.80   3,541.41   \n",
       "7    10   11,047.00  Each       1.70        17.00  18,779.90   3,192.58   \n",
       "13   11    2,413.00  Each       1.70         17.00  4,102.10     697.36   \n",
       "19   12      574.00  Each       1.70           17.00  975.80     165.89   \n",
       "\n",
       "0  TOTAL AMOUNT TAX RATE EXTENDED PRICE  \n",
       "1     24,373.21    17.00      20,831.80  \n",
       "7     21,972.48    17.00      18,779.90  \n",
       "13     4,799.46    17.00       4,102.10  \n",
       "19     1,141.69    17.00         975.80  "
      ]
     },
     "execution_count": 44,
     "metadata": {},
     "output_type": "execute_result"
    }
   ],
   "source": [
    "df[['TAX RATE','EXTENDED PRICE']] = df['EXTENDED PRICE TAX RATE'].str.split(' ', 1, expand=True)\n",
    "df"
   ]
  },
  {
   "cell_type": "code",
   "execution_count": 45,
   "id": "ac19d68c",
   "metadata": {},
   "outputs": [
    {
     "data": {
      "text/html": [
       "<div>\n",
       "<style scoped>\n",
       "    .dataframe tbody tr th:only-of-type {\n",
       "        vertical-align: middle;\n",
       "    }\n",
       "\n",
       "    .dataframe tbody tr th {\n",
       "        vertical-align: top;\n",
       "    }\n",
       "\n",
       "    .dataframe thead th {\n",
       "        text-align: right;\n",
       "    }\n",
       "</style>\n",
       "<table border=\"1\" class=\"dataframe\">\n",
       "  <thead>\n",
       "    <tr style=\"text-align: right;\">\n",
       "      <th></th>\n",
       "      <th>LINE</th>\n",
       "      <th>QTY SHIPPED</th>\n",
       "      <th>UOM</th>\n",
       "      <th>UNIT PRICE</th>\n",
       "      <th>TAX AMOUNT</th>\n",
       "      <th>TOTAL AMOUNT</th>\n",
       "      <th>TAX RATE</th>\n",
       "      <th>EXTENDED PRICE</th>\n",
       "    </tr>\n",
       "  </thead>\n",
       "  <tbody>\n",
       "    <tr>\n",
       "      <th>1</th>\n",
       "      <td>9</td>\n",
       "      <td>12,254.00</td>\n",
       "      <td>Each</td>\n",
       "      <td>1.70</td>\n",
       "      <td>3,541.41</td>\n",
       "      <td>24,373.21</td>\n",
       "      <td>17.00</td>\n",
       "      <td>20,831.80</td>\n",
       "    </tr>\n",
       "    <tr>\n",
       "      <th>7</th>\n",
       "      <td>10</td>\n",
       "      <td>11,047.00</td>\n",
       "      <td>Each</td>\n",
       "      <td>1.70</td>\n",
       "      <td>3,192.58</td>\n",
       "      <td>21,972.48</td>\n",
       "      <td>17.00</td>\n",
       "      <td>18,779.90</td>\n",
       "    </tr>\n",
       "    <tr>\n",
       "      <th>13</th>\n",
       "      <td>11</td>\n",
       "      <td>2,413.00</td>\n",
       "      <td>Each</td>\n",
       "      <td>1.70</td>\n",
       "      <td>697.36</td>\n",
       "      <td>4,799.46</td>\n",
       "      <td>17.00</td>\n",
       "      <td>4,102.10</td>\n",
       "    </tr>\n",
       "    <tr>\n",
       "      <th>19</th>\n",
       "      <td>12</td>\n",
       "      <td>574.00</td>\n",
       "      <td>Each</td>\n",
       "      <td>1.70</td>\n",
       "      <td>165.89</td>\n",
       "      <td>1,141.69</td>\n",
       "      <td>17.00</td>\n",
       "      <td>975.80</td>\n",
       "    </tr>\n",
       "  </tbody>\n",
       "</table>\n",
       "</div>"
      ],
      "text/plain": [
       "0  LINE QTY SHIPPED   UOM UNIT PRICE TAX AMOUNT TOTAL AMOUNT TAX RATE  \\\n",
       "1     9   12,254.00  Each       1.70   3,541.41    24,373.21    17.00   \n",
       "7    10   11,047.00  Each       1.70   3,192.58    21,972.48    17.00   \n",
       "13   11    2,413.00  Each       1.70     697.36     4,799.46    17.00   \n",
       "19   12      574.00  Each       1.70     165.89     1,141.69    17.00   \n",
       "\n",
       "0  EXTENDED PRICE  \n",
       "1       20,831.80  \n",
       "7       18,779.90  \n",
       "13       4,102.10  \n",
       "19         975.80  "
      ]
     },
     "execution_count": 45,
     "metadata": {},
     "output_type": "execute_result"
    }
   ],
   "source": [
    "df.drop(columns=['EXTENDED PRICE TAX RATE'],inplace=True)\n",
    "df"
   ]
  },
  {
   "cell_type": "code",
   "execution_count": 71,
   "id": "3d1fd7e8",
   "metadata": {
    "scrolled": true
   },
   "outputs": [],
   "source": [
    "df[\"PO# Number\"]=po"
   ]
  },
  {
   "cell_type": "code",
   "execution_count": 72,
   "id": "e440f1ed",
   "metadata": {},
   "outputs": [
    {
     "data": {
      "text/html": [
       "<div>\n",
       "<style scoped>\n",
       "    .dataframe tbody tr th:only-of-type {\n",
       "        vertical-align: middle;\n",
       "    }\n",
       "\n",
       "    .dataframe tbody tr th {\n",
       "        vertical-align: top;\n",
       "    }\n",
       "\n",
       "    .dataframe thead th {\n",
       "        text-align: right;\n",
       "    }\n",
       "</style>\n",
       "<table border=\"1\" class=\"dataframe\">\n",
       "  <thead>\n",
       "    <tr style=\"text-align: right;\">\n",
       "      <th></th>\n",
       "      <th>LINE</th>\n",
       "      <th>PART NUMBER/DESCRIPTION</th>\n",
       "      <th>PO# Number</th>\n",
       "    </tr>\n",
       "  </thead>\n",
       "  <tbody>\n",
       "    <tr>\n",
       "      <th>0</th>\n",
       "      <td>NaN</td>\n",
       "      <td>NaN</td>\n",
       "      <td>PO#36351,</td>\n",
       "    </tr>\n",
       "  </tbody>\n",
       "</table>\n",
       "</div>"
      ],
      "text/plain": [
       "0 LINE PART NUMBER/DESCRIPTION PO# Number\n",
       "0  NaN                     NaN  PO#36351,"
      ]
     },
     "execution_count": 72,
     "metadata": {},
     "output_type": "execute_result"
    }
   ],
   "source": [
    "df"
   ]
  }
 ],
 "metadata": {
  "kernelspec": {
   "display_name": "Python 3 (ipykernel)",
   "language": "python",
   "name": "python3"
  },
  "language_info": {
   "codemirror_mode": {
    "name": "ipython",
    "version": 3
   },
   "file_extension": ".py",
   "mimetype": "text/x-python",
   "name": "python",
   "nbconvert_exporter": "python",
   "pygments_lexer": "ipython3",
   "version": "3.9.7"
  }
 },
 "nbformat": 4,
 "nbformat_minor": 5
}
