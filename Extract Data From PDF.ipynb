{
 "cells": [
  {
   "cell_type": "code",
   "execution_count": 1,
   "id": "b22f573f",
   "metadata": {},
   "outputs": [],
   "source": [
    "import os\n",
    "os.environ['KMP_DUPLICATE_LIB_OK']='True'"
   ]
  },
  {
   "cell_type": "code",
   "execution_count": 2,
   "id": "537644fe",
   "metadata": {},
   "outputs": [],
   "source": [
    "import matplotlib.pyplot as plt\n",
    "import cv2\n",
    "import sys\n",
    "from PIL import Image \n",
    "import PIL \n",
    "from pylab import rcParams\n",
    "from IPython.display import Image\n",
    "import easyocr\n",
    "import re\n",
    "import json\n",
    "import camelot\n",
    "from PIL import Image\n",
    "import pytesseract\n",
    "import sys\n",
    "from pdf2image import convert_from_path"
   ]
  },
  {
   "cell_type": "code",
   "execution_count": 3,
   "id": "d082059f",
   "metadata": {},
   "outputs": [
    {
     "name": "stderr",
     "output_type": "stream",
     "text": [
      "CUDA not available - defaulting to CPU. Note: This module is much faster with a GPU.\n"
     ]
    }
   ],
   "source": [
    "rcParams['figure.figsize'] = 8, 16\n",
    "reader = easyocr.Reader(['en'])"
   ]
  },
  {
   "cell_type": "code",
   "execution_count": 70,
   "id": "a1a58217",
   "metadata": {},
   "outputs": [
    {
     "name": "stdout",
     "output_type": "stream",
     "text": [
      "[([[3794, 17], [4223, 17], [4223, 72], [3794, 72]], 'Doc#t: FM-L3-SC-01', 0.6615055320260478), ([[67, 0], [727, 0], [727, 168], [67, 168]], 'PAXAR', 0.9653507913381469), ([[4043, 73], [4266, 73], [4266, 128], [4043, 128]], 'Issue#t: 02', 0.6286197248315419), ([[1849, 96], [2512, 96], [2512, 187], [1849, 187]], 'SALES INVOICE', 0.9986565690360795), ([[3717, 129], [4240, 129], [4240, 184], [3717, 184]], 'Issue Date: 25-10-2019', 0.6001695948187612), ([[3717, 245], [4253, 245], [4253, 300], [3717, 300]], 'Paxar Pakistan (Pvt) Ltd_', 0.8802829251126506), ([[67, 286], [1737, 286], [1737, 362], [67, 362]], 'SALES TAX REGISTRATION NO 17-50-5807-003-82', 0.8516076290794506), ([[4047, 301], [4253, 301], [4253, 356], [4047, 356]], 'Plot # 26_', 0.49182517931382186), ([[71, 367], [1050, 367], [1050, 444], [71, 444]], 'NATIONAL TAX NO 2695980-1', 0.6918012370703546), ([[4030, 356], [4253, 356], [4253, 412], [4030, 412]], 'Sector 24', 0.7813849487326464), ([[3744, 410], [4256, 410], [4256, 474], [3744, 474]], 'Korangi Industrial Area,', 0.8060632531234262), ([[334, 489], [559, 489], [559, 555], [334, 555]], 'BILL TO', 0.970271280821506), ([[1902, 493], [2144, 493], [2144, 559], [1902, 559]], 'SHIP TO', 0.9896341478417247), ([[3711, 489], [3940, 489], [3940, 550], [3711, 550]], 'NTN NO_', 0.7103668920232421), ([[333, 586], [1200, 586], [1200, 659], [333, 659]], 'ARTISTIC MILLINERS (PVT) LTD:', 0.9356377691742581), ([[1927, 586], [2786, 586], [2786, 659], [1927, 659]], 'ARTISTIC MILLINERS (PVT) LTD:', 0.6554757958545161), ([[3538, 578], [3856, 578], [3856, 650], [3538, 650]], '2645727-OA', 0.6866556761991387), ([[337, 646], [1511, 646], [1511, 724], [337, 724]], 'Plot No. 1/A Sector 20, Korangi Industrial Area,', 0.7408384940602638), ([[1927, 646], [3101, 646], [3101, 724], [1927, 724]], 'Plot No. I/A Sector 20, Korangi Industrial Area,', 0.5683741197709564), ([[3724, 669], [3958, 669], [3958, 731], [3724, 731]], 'GST NO.', 0.940978008574557), ([[368, 725], [628, 725], [628, 791], [368, 791]], 'KARACHI', 0.9811579114538505), ([[1958, 725], [2222, 725], [2222, 791], [1958, 791]], 'KARACHI', 0.8053183403474531), ([[3548, 755], [4031, 755], [4031, 817], [3548, 817]], '17-50-5205-002-82', 0.8066660607655057), ([[338, 802], [623, 802], [623, 864], [338, 864]], 'PAKISTAN', 0.8059223449338591), ([[1928, 802], [2157, 802], [2157, 868], [1928, 868]], 'Pakistan', 0.9999753861149948), ([[3660, 841], [4065, 841], [4065, 907], [3660, 907]], 'INVOICE DATE', 0.9944096425822814), ([[3578, 927], [3867, 927], [3867, 993], [3578, 993]], '01-APR-22', 0.9466243926470208), ([[3690, 1004], [4048, 1004], [4048, 1070], [3690, 1070]], 'INVOICE NO:', 0.981164106197087), ([[3496, 1095], [3696, 1095], [3696, 1160], [3496, 1160]], '577532', 0.9987222329431833), ([[3449, 1180], [3734, 1180], [3734, 1246], [3449, 1246]], 'AACCOUNT', 0.8564915789270185), ([[3948, 1180], [4117, 1180], [4117, 1246], [3948, 1246]], 'PAGE', 0.9999569654464722), ([[3561, 1266], [3764, 1266], [3764, 1328], [3561, 1328]], '477034', 0.8438260472370438), ([[4022, 1272], [4107, 1272], [4107, 1323], [4022, 1323]], '1/1', 0.9878266865328733), ([[89, 1395], [756, 1395], [756, 1461], [89, 1461]], 'SOLD TO: KONTOOR EU', 0.9545969744549017), ([[781, 1395], [984, 1395], [984, 1461], [781, 1461]], '990207', 0.9999943546257334), ([[59, 1567], [374, 1567], [374, 1633], [59, 1633]], 'ORDER NO_', 0.8944539750152717), ([[549, 1567], [903, 1567], [903, 1633], [549, 1633]], 'PO NUMBER', 0.9980373608103214), ([[1481, 1567], [1887, 1567], [1887, 1633], [1481, 1633]], 'TRACKING NO.', 0.992403614615304), ([[2534, 1567], [2780, 1567], [2780, 1633], [2534, 1633]], 'SHIP VIA', 0.7704563984472584), ([[3647, 1567], [4117, 1567], [4117, 1633], [3647, 1633]], 'FREIGHT TERMS', 0.5663295580998369), ([[158, 1653], [421, 1653], [421, 1719], [158, 1719]], '73997804', 0.9999991992097454), ([[549, 1653], [1079, 1653], [1079, 1719], [549, 1719]], 'EXPORT ACCOUNT', 0.9993732335743583), ([[1473, 1666], [1882, 1666], [1882, 1732], [1473, 1732]], 'Kashif Rasheed', 0.9676078708651836), ([[2972, 1670], [3171, 1670], [3171, 1732], [2972, 1732]], 'LOCAL', 0.9999716379605477), ([[3630, 1657], [4082, 1657], [4082, 1723], [3630, 1723]], 'EXW EX WORKS', 0.990146123008479), ([[60, 1895], [175, 1895], [175, 1946], [60, 1946]], 'LINE', 0.9999688863754272), ([[275, 1890], [983, 1890], [983, 1946], [275, 1946]], 'PART NUMBERIDESCRIPTION', 0.7727349871764688), ([[1723, 1890], [2062, 1890], [2062, 1946], [1723, 1946]], 'QTY SHIPPED', 0.9982715924091521), ([[2105, 1890], [2229, 1890], [2229, 1946], [2105, 1946]], 'UOM', 0.9999202316538898), ([[2392, 1889], [2686, 1889], [2686, 1951], [2392, 1951]], 'UNIT PRICE', 0.9085634065539434), ([[2732, 1889], [3412, 1889], [3412, 1951], [2732, 1951]], 'EXTENDED PRICETAX RATE', 0.9953874166508359), ([[3429, 1890], [3755, 1890], [3755, 1946], [3429, 1946]], 'TAX AMOUNT', 0.6681047874105968), ([[3824, 1890], [4214, 1890], [4214, 1946], [3824, 1946]], 'TOTAL AMOUNT', 0.7972424840884286), ([[187, 2090], [431, 2090], [431, 2163], [187, 2163]], 'P466743', 0.9931869874385629), ([[459, 2096], [1263, 2096], [1263, 2162], [459, 2162]], 'PL.VF EUROPE.7817101-L155._', 0.6238437436871017), ([[1296, 2096], [1504, 2096], [1504, 2162], [1296, 2162]], 'SONIC', 0.9999527121107253), ([[1853, 2085], [2244, 2085], [2244, 2164], [1853, 2164]], '3,859.00  Each', 0.4915602770950049), ([[2555, 2091], [2712, 2091], [2712, 2157], [2555, 2157]], '19.69', 0.9999675329206558), ([[2929, 2091], [3188, 2091], [3188, 2157], [2929, 2157]], '75,983.71', 0.8083701124956209), ([[3251, 2086], [3417, 2086], [3417, 2158], [3251, 2158]], '17.00,', 0.3824842622030317), ([[3517, 2090], [3778, 2090], [3778, 2163], [3517, 2163]], '12,917.23', 0.9131308795153821), ([[4007, 2086], [4272, 2086], [4272, 2158], [4007, 2158]], '88,900.94', 0.4348455009172285), ([[191, 2155], [1093, 2155], [1093, 2227], [191, 2227]], 'CUT.CUT SINGLE_BEIGE_BLACK', 0.8777997721846931), ([[281, 2219], [1488, 2219], [1488, 2300], [281, 2300]], 'ORDER NO: 73997804, Buyer PO#4500339176', 0.6587088868010418), ([[192, 2285], [954, 2285], [954, 2351], [192, 2351]], 'PO#125560, DELIVERY INFO', 0.9446276832671082), ([[983, 2285], [1667, 2285], [1667, 2351], [983, 2351]], 'AVY-21709009/01-APR-22', 0.8794474191883457), ([[191, 2352], [1561, 2352], [1561, 2427], [191, 2427]], 'HS Code: 5807.1090; Description: 58-a-Special Woven', 0.8057798385351821), ([[190, 2413], [929, 2413], [929, 2490], [190, 2490]], 'Fabrics, Tufted Textiles, Lace', 0.618394910712115), ([[192, 2573], [430, 2573], [430, 2638], [192, 2638]], 'P466743', 0.5093069001854722), ([[459, 2573], [1263, 2573], [1263, 2638], [459, 2638]], 'PL.VF EUROPE.7817101-L155._', 0.7496817568993664), ([[1309, 2577], [1504, 2577], [1504, 2638], [1309, 2638]], 'SONIC', 0.9999569237823714), ([[1901, 2567], [2244, 2567], [2244, 2639], [1901, 2639]], '798.00  Each', 0.505764974099307), ([[2555, 2573], [2703, 2573], [2703, 2634], [2555, 2634]], '19.69', 0.6615359929036195), ([[2933, 2567], [3215, 2567], [3215, 2639], [2933, 2639]], '15,712.62]', 0.4896875387248041), ([[3251, 2567], [3417, 2567], [3417, 2639], [3251, 2639]], '17.00;', 0.3737933927985799), ([[3543, 2572], [3782, 2572], [3782, 2644], [3543, 2644]], '2,671.15', 0.9999929193190666), ([[4011, 2567], [4268, 2567], [4268, 2639], [4011, 2639]], '18,383.77', 0.7799129067697973), ([[192, 2637], [1092, 2637], [1092, 2703], [192, 2703]], 'CUT.CUT SINGLE_BEIGE_BLACK', 0.7709150016770558), ([[280, 2697], [1485, 2697], [1485, 2784], [280, 2784]], 'ORDER NO. 73997804, Buyer PO#4500408257', 0.5223024968028107), ([[192, 2766], [954, 2766], [954, 2832], [192, 2832]], 'PO#125560, DELIVERY INFO', 0.888512758351825), ([[983, 2766], [1667, 2766], [1667, 2832], [983, 2832]], 'AvY-21709009/01-APR-22', 0.8885138644104209), ([[191, 2829], [1561, 2829], [1561, 2906], [191, 2906]], 'HS Code: 5807.1090; Description: 58-a-Special Woven', 0.7223448074735029), ([[188, 2888], [930, 2888], [930, 2972], [188, 2972]], 'Fabrics, Tufted Textiles, Lace', 0.9167901871885059), ([[192, 3054], [464, 3054], [464, 3120], [192, 3120]], 'P466743B', 0.9982937138664891), ([[493, 3054], [1298, 3054], [1298, 3120], [493, 3120]], 'PL.VF EUROPE.7817101-L155.', 0.8996589666635627), ([[1348, 3054], [1538, 3054], [1538, 3120], [1348, 3120]], 'SONIC', 0.9999360253404569), ([[1854, 3049], [2244, 3049], [2244, 3121], [1854, 3121]], '3,859.00  Each', 0.5491418014881215), ([[2555, 3050], [2703, 3050], [2703, 3111], [2555, 3111]], '19.69', 0.8946948880445756), ([[2928, 3049], [3189, 3049], [3189, 3121], [2928, 3121]], '75,983.71', 0.8513316211867142), ([[3252, 3050], [3416, 3050], [3416, 3115], [3252, 3115]], '17.007', 0.41254246112019216), ([[3517, 3049], [3778, 3049], [3778, 3121], [3517, 3121]], '12,917.23', 0.8681363923208697), ([[4007, 3044], [4272, 3044], [4272, 3116], [4007, 3116]], '88,900.94', 0.4200282336695619), ([[191, 3113], [1093, 3113], [1093, 3185], [191, 3185]], 'CUT.CUT SINGLE_BEIGE_BLACK', 0.8022697431675897), ([[280, 3176], [1489, 3176], [1489, 3261], [280, 3261]], 'ORDER NO. 73997804,Buyer PO#4500339176', 0.56072466914204), ([[192, 3243], [954, 3243], [954, 3309], [192, 3309]], 'PO#125560, DELIVERY INFO', 0.7438712335223779), ([[983, 3243], [1667, 3243], [1667, 3309], [983, 3309]], 'AVY-21709009/01-APR-22', 0.8798989905911762), ([[191, 3311], [1565, 3311], [1565, 3387], [191, 3387]], 'HS Code: 5807.1090; Description: 58-a-Special Woven', 0.8768301096099929), ([[190, 3372], [929, 3372], [929, 3448], [190, 3448]], 'Fabrics, Tufted Textiles, Lace', 0.7360194391737133), ([[192, 3531], [464, 3531], [464, 3597], [192, 3597]], 'P466743B', 0.9950108906991587), ([[497, 3531], [1298, 3531], [1298, 3597], [497, 3597]], 'PL.VF EUROPE.7817101-L155.', 0.8221955152376578), ([[1348, 3531], [1543, 3531], [1543, 3597], [1348, 3597]], 'SONIC', 0.9999071832734482), ([[1897, 3526], [2244, 3526], [2244, 3598], [1897, 3598]], '798.00  Each', 0.7683559673193734), ([[2555, 3531], [2703, 3531], [2703, 3592], [2555, 3592]], '19.69', 0.6608132572411218), ([[2932, 3524], [3216, 3524], [3216, 3604], [2932, 3604]], '15,712.62]', 0.8099123970062245), ([[3252, 3527], [3416, 3527], [3416, 3592], [3252, 3592]], '17.001', 0.37220925159955615), ([[3543, 3530], [3782, 3530], [3782, 3602], [3543, 3602]], '2,671.15', 0.9999907698225313), ([[4011, 3526], [4264, 3526], [4264, 3598], [4011, 3598]], '18,383.77', 0.8063153161593566), ([[191, 3594], [1093, 3594], [1093, 3666], [191, 3666]], 'CUT.CUT SINGLE_BEIGE_BLACK', 0.7064325654589307), ([[281, 3659], [1484, 3659], [1484, 3738], [281, 3738]], 'ORDER NO. 73997804, Buyer PO#4500408257', 0.45938990776680017), ([[191, 3719], [959, 3719], [959, 3791], [191, 3791]], 'PO#125560, DELIVERY INFO', 0.6138731279131424), ([[983, 3724], [1667, 3724], [1667, 3790], [983, 3790]], 'AvY-21709009/01-APR-22', 0.9225269460614364), ([[191, 3792], [1561, 3792], [1561, 3864], [191, 3864]], 'HS Code: 5807.1090; Description: 58-a-Special Woven', 0.7944726046181692), ([[190, 3849], [929, 3849], [929, 3925], [190, 3925]], 'Fabrics, Tufted Textiles, Lace', 0.7021986982364763), ([[1411, 4273], [1582, 4273], [1582, 4350], [1411, 4350]], 'Total', 0.9999558042242901), ([[1809, 4271], [2104, 4271], [2104, 4356], [1809, 4356]], '9,314.00', 0.9047121842683238), ([[2834, 4273], [3215, 4273], [3215, 4354], [2834, 4354]], '183,392.661', 0.6261318591715224), ([[3448, 4273], [3774, 4273], [3774, 4354], [3448, 4354]], '31,176.76', 0.9999385267982733), ([[3899, 4273], [4264, 4273], [4264, 4350], [3899, 4350]], '214,569.42', 0.9999935914492215), ([[99, 4387], [523, 4387], [523, 4442], [99, 4442]], 'PAYMENT TERMS', 0.9996961426208073), ([[876, 4387], [1237, 4387], [1237, 4442], [876, 4442]], 'PK Checks ABN', 0.9575914456741155), ([[85, 4483], [428, 4483], [428, 4549], [85, 4549]], 'Due in 45 days', 0.9826748107137465), ([[89, 4553], [2054, 4553], [2054, 4622], [89, 4622]], 'AIl sales are subject to Avery Dennison General Terms and Conditions of Sale available at:', 0.8043023997630808), ([[84, 4612], [1852, 4612], [1852, 4678], [84, 4678]], 'http:Ilrbis averydennison comlen/homelgeneral-terms-and-conditions-of-salehtml', 0.7678053338512087), ([[2733, 4619], [3621, 4619], [3621, 4674], [2733, 4674]], 'SHIPPING ANDIOR OTHER CHARGES', 0.7093390580626435), ([[4088, 4630], [4238, 4630], [4238, 4702], [4088, 4702]], '0.00', 0.9998074173927307), ([[95, 4673], [2687, 4673], [2687, 4748], [95, 4748]], '[mmediately upon receipt of goods the Buyer is responsible for inspecting the contents of all shipments and deliveries to', 0.5541838271241187), ([[98, 4735], [2419, 4735], [2419, 4801], [98, 4801]], \"hssure that specifications have been met prior to incorporating the aforesaid products into Buyer's Products_\", 0.5292252194724127), ([[2432, 4739], [2552, 4739], [2552, 4790], [2432, 4790]], 'If the', 0.9912894067414849), ([[97, 4785], [2644, 4785], [2644, 4862], [97, 4862]], 'lforesaid products fail to meet specifications, Buyer may return the non-conforming products for replacement or credit', 0.4296985067571122), ([[98, 4848], [2656, 4848], [2656, 4916], [98, 4916]], 'within 5 days of receipt: In no event will Seller be responsible for damages or consequential damages other than credit', 0.6648658034626241), ([[98, 4906], [1762, 4906], [1762, 4972], [98, 4972]], 'br replacement_If there_is any problem, please contact the Customer Service', 0.7115442493046115), ([[98, 4976], [1728, 4976], [1728, 5042], [98, 5042]], 'This is also considered as Sales Tax invoice UIS 23 of Sales Tax Act; 1990', 0.8140523101223478), ([[2724, 4980], [2895, 4980], [2895, 5035], [2724, 5035]], 'TOTAL', 0.9997316230654011), ([[3433, 4988], [3544, 4988], [3544, 5044], [3433, 5044]], 'PKR', 0.9996214004428929), ([[3878, 4991], [4242, 4991], [4242, 5067], [3878, 5067]], '214,569.42', 0.9976740035831226), ([[98, 5036], [1917, 5036], [1917, 5105], [98, 5105]], 'This is a system Generated Document and does not require any SignatureApproval', 0.8126722863124332), ([[98, 5108], [2097, 5108], [2097, 5176], [98, 5176]], '2% interest per month on gross amount will be charged if payment not made within due date', 0.7794221711336238), ([[2724, 5186], [2981, 5186], [2981, 5237], [2724, 5237]], 'DUE DATE', 0.9991564560962609), ([[3949, 5182], [4210, 5182], [4210, 5233], [3949, 5233]], '16-MAY-22', 0.9986324402058611), ([[101, 5286], [4096, 5286], [4096, 5361], [101, 5361]], 'The above-mentioned products may be subject to U.S. law: Re-export or transfer to restricted countries or denied parties contrary to U.S. or local law is strictly prohibited without the prior', 0.689789332412901), ([[98, 5353], [546, 5353], [546, 5414], [98, 5414]], 'consent in writing of', 0.9143930981680881), ([[679, 5354], [1305, 5354], [1305, 5409], [679, 5409]], \"Dennison's Law Department.\", 0.8491923480289671), ([[92, 5400], [2077, 5400], [2077, 5473], [92, 5473]], 'If the delivery date is stated the delivery date will be considered as date of the achievement.', 0.5834107856491442), ([[545.9805585009541, 5348.087239305534], [682.8283940389807, 5365.575281457138], [674.0194414990459, 5417.912760694466], [536.1716059610193, 5401.424718542862]], 'Avery', 0.9999929094990383)]\n",
      "===============Type===================== <class 'list'>\n",
      "====================Length=============== 144\n"
     ]
    }
   ],
   "source": [
    "#NTN,Invoices,PO,Order\n",
    "\n",
    "PDF_file = \"AMI Page 55.pdf\"\n",
    "  \n",
    "'''\n",
    "Part #1 : Converting PDF to images\n",
    "'''\n",
    "  \n",
    "# Store all the pages of the PDF in a variable\n",
    "pages = convert_from_path(PDF_file, 500)\n",
    "  \n",
    "# Counter to store images of each page of PDF to image\n",
    "image_counter = 1\n",
    "  \n",
    "# Iterate through all the pages stored above\n",
    "for page in pages:\n",
    "  \n",
    "    filename = \"page_\"+str(image_counter)+\".jpg\"\n",
    "      \n",
    "    # Save the image of the page in system\n",
    "    page.save(filename, 'JPEG',dpi=(300,300))\n",
    "    #im.save(\"test-600.png\", dpi=(600,600))\n",
    "    # Increment the counter to update filename\n",
    "    image_counter = image_counter + 1\n",
    "\n",
    "'''\n",
    "Part #2 - Recognizing text from the images using OCR\n",
    "'''\n",
    "    \n",
    "# Variable to get count of total number of pages\n",
    "filelimit = image_counter-1\n",
    "  \n",
    "# Creating a text file to write the output\n",
    "outfile = \"out_text.txt\"\n",
    "  \n",
    "# Open the file in append mode so that \n",
    "# All contents of all images are added to the same file\n",
    "f = open(outfile, \"a\")\n",
    "  \n",
    "# Iterate from 1 to total number of pages\n",
    "for i in range(1, filelimit + 1):\n",
    "  \n",
    "    filename = \"page_\"+str(i)+\".jpg\"\n",
    "    \n",
    "  \n",
    "    text = reader.readtext(filename)\n",
    "    \n",
    "    \n",
    "    \n",
    "    \n",
    "    print(text)\n",
    "    print(\"===============Type=====================\",type(text))\n",
    "    length=len(text)\n",
    "    print(\"====================Length===============\",length)\n",
    "    \n",
    "        \n",
    "    texts=str(text)\n",
    "    # Finally, write the processed text to the file.\n",
    "    f.write(texts)\n",
    "  \n",
    "# Close the file after writing all the text.\n",
    "f.close()"
   ]
  },
  {
   "cell_type": "code",
   "execution_count": 71,
   "id": "32db3960",
   "metadata": {},
   "outputs": [],
   "source": [
    "lst=[]\n",
    "for i in range(length):\n",
    "    lst.append(text[i][1])\n"
   ]
  },
  {
   "cell_type": "code",
   "execution_count": 72,
   "id": "a74803dd",
   "metadata": {
    "collapsed": true
   },
   "outputs": [
    {
     "data": {
      "text/plain": [
       "\"Doc#t: FM-L3-SC-01 PAXAR Issue#t: 02 SALES INVOICE Issue Date: 25-10-2019 Paxar Pakistan (Pvt) Ltd_ SALES TAX REGISTRATION NO 17-50-5807-003-82 Plot # 26_ NATIONAL TAX NO 2695980-1 Sector 24 Korangi Industrial Area, BILL TO SHIP TO NTN NO_ ARTISTIC MILLINERS (PVT) LTD: ARTISTIC MILLINERS (PVT) LTD: 2645727-OA Plot No. 1/A Sector 20, Korangi Industrial Area, Plot No. I/A Sector 20, Korangi Industrial Area, GST NO. KARACHI KARACHI 17-50-5205-002-82 PAKISTAN Pakistan INVOICE DATE 01-APR-22 INVOICE NO: 577532 AACCOUNT PAGE 477034 1/1 SOLD TO: KONTOOR EU 990207 ORDER NO_ PO NUMBER TRACKING NO. SHIP VIA FREIGHT TERMS 73997804 EXPORT ACCOUNT Kashif Rasheed LOCAL EXW EX WORKS LINE PART NUMBERIDESCRIPTION QTY SHIPPED UOM UNIT PRICE EXTENDED PRICETAX RATE TAX AMOUNT TOTAL AMOUNT P466743 PL.VF EUROPE.7817101-L155._ SONIC 3,859.00  Each 19.69 75,983.71 17.00, 12,917.23 88,900.94 CUT.CUT SINGLE_BEIGE_BLACK ORDER NO: 73997804, Buyer PO#4500339176 PO#125560, DELIVERY INFO AVY-21709009/01-APR-22 HS Code: 5807.1090; Description: 58-a-Special Woven Fabrics, Tufted Textiles, Lace P466743 PL.VF EUROPE.7817101-L155._ SONIC 798.00  Each 19.69 15,712.62] 17.00; 2,671.15 18,383.77 CUT.CUT SINGLE_BEIGE_BLACK ORDER NO. 73997804, Buyer PO#4500408257 PO#125560, DELIVERY INFO AvY-21709009/01-APR-22 HS Code: 5807.1090; Description: 58-a-Special Woven Fabrics, Tufted Textiles, Lace P466743B PL.VF EUROPE.7817101-L155. SONIC 3,859.00  Each 19.69 75,983.71 17.007 12,917.23 88,900.94 CUT.CUT SINGLE_BEIGE_BLACK ORDER NO. 73997804,Buyer PO#4500339176 PO#125560, DELIVERY INFO AVY-21709009/01-APR-22 HS Code: 5807.1090; Description: 58-a-Special Woven Fabrics, Tufted Textiles, Lace P466743B PL.VF EUROPE.7817101-L155. SONIC 798.00  Each 19.69 15,712.62] 17.001 2,671.15 18,383.77 CUT.CUT SINGLE_BEIGE_BLACK ORDER NO. 73997804, Buyer PO#4500408257 PO#125560, DELIVERY INFO AvY-21709009/01-APR-22 HS Code: 5807.1090; Description: 58-a-Special Woven Fabrics, Tufted Textiles, Lace Total 9,314.00 183,392.661 31,176.76 214,569.42 PAYMENT TERMS PK Checks ABN Due in 45 days AIl sales are subject to Avery Dennison General Terms and Conditions of Sale available at: http:Ilrbis averydennison comlen/homelgeneral-terms-and-conditions-of-salehtml SHIPPING ANDIOR OTHER CHARGES 0.00 [mmediately upon receipt of goods the Buyer is responsible for inspecting the contents of all shipments and deliveries to hssure that specifications have been met prior to incorporating the aforesaid products into Buyer's Products_ If the lforesaid products fail to meet specifications, Buyer may return the non-conforming products for replacement or credit within 5 days of receipt: In no event will Seller be responsible for damages or consequential damages other than credit br replacement_If there_is any problem, please contact the Customer Service This is also considered as Sales Tax invoice UIS 23 of Sales Tax Act; 1990 TOTAL PKR 214,569.42 This is a system Generated Document and does not require any SignatureApproval 2% interest per month on gross amount will be charged if payment not made within due date DUE DATE 16-MAY-22 The above-mentioned products may be subject to U.S. law: Re-export or transfer to restricted countries or denied parties contrary to U.S. or local law is strictly prohibited without the prior consent in writing of Dennison's Law Department. If the delivery date is stated the delivery date will be considered as date of the achievement. Avery\""
      ]
     },
     "execution_count": 72,
     "metadata": {},
     "output_type": "execute_result"
    }
   ],
   "source": [
    "str1 = ' '.join(lst)\n",
    "str1"
   ]
  },
  {
   "cell_type": "code",
   "execution_count": null,
   "id": "f9c61b3b",
   "metadata": {},
   "outputs": [],
   "source": [
    "''''''''\"PO#\\d{5,6},|PO#\\d{5,6}| PO#\\d{5,6}\\b \"'''"
   ]
  },
  {
   "cell_type": "code",
   "execution_count": 73,
   "id": "85abd213",
   "metadata": {},
   "outputs": [],
   "source": [
    "NTN_pattern=\"\\d{7}-\\w{2}\"\n",
    "NTN=re.findall(NTN_pattern,str1)\n",
    "#PO correct\n",
    "po_pattern=\"PO#\\d{5,6},|PO#\\d{5,6}$| PO#\\d{5,6} \"\n",
    "po=re.findall(po_pattern,str1)\n",
    "#Invoice\n",
    "IN_pattern=\"INVOICE NO: \\d{6}\"\n",
    "IN=re.findall(IN_pattern,str1)\n",
    "\n",
    "#Order\n",
    "Order_pattern=\"\\d{8}\"\n",
    "OR=re.findall(Order_pattern,str1)\n",
    "ntn=NTN[0]\n",
    "ora=OR[0]\n"
   ]
  },
  {
   "cell_type": "code",
   "execution_count": 74,
   "id": "94a1f0ab",
   "metadata": {},
   "outputs": [
    {
     "name": "stdout",
     "output_type": "stream",
     "text": [
      "{'National_Tax_No.': '2645727-OA', 'Invoice No': ['INVOICE NO: 577532'], 'Ordered No': '73997804', 'PO# ': ['PO#125560,', 'PO#125560,', 'PO#125560,', 'PO#125560,']}\n"
     ]
    }
   ],
   "source": [
    "data_set = {#\"Party_PO\": [output[36][1]],\n",
    "            \"National_Tax_No.\": ntn,\n",
    "            'Invoice No':IN,\n",
    "            'Ordered No':ora,\n",
    "            \"PO# \":po,\n",
    "           # \"Table \": data\n",
    "\n",
    "           }\n",
    "print(data_set)"
   ]
  },
  {
   "cell_type": "code",
   "execution_count": 75,
   "id": "cae30bf3",
   "metadata": {},
   "outputs": [
    {
     "name": "stderr",
     "output_type": "stream",
     "text": [
      "UserWarning: No tables found in table area 2 [stream.py:365]\n"
     ]
    },
    {
     "data": {
      "text/plain": [
       "<TableList n=2>"
      ]
     },
     "execution_count": 75,
     "metadata": {},
     "output_type": "execute_result"
    }
   ],
   "source": [
    "#Tables\n",
    "tables=camelot.read_pdf('AMI Page 2.pdf', flavor='stream', pages='1')\n",
    "tables"
   ]
  },
  {
   "cell_type": "code",
   "execution_count": 76,
   "id": "3d6cdc8e",
   "metadata": {},
   "outputs": [
    {
     "data": {
      "text/plain": [
       "{'accuracy': 100.0, 'whitespace': 72.41, 'order': 1, 'page': 1}"
      ]
     },
     "execution_count": 76,
     "metadata": {},
     "output_type": "execute_result"
    }
   ],
   "source": [
    "tables[0].parsing_report"
   ]
  },
  {
   "cell_type": "code",
   "execution_count": 77,
   "id": "a4801395",
   "metadata": {},
   "outputs": [],
   "source": [
    "df=tables[0].df\n",
    "df[5]=df[5].replace([\"\\n\"],\" \",regex=True)"
   ]
  },
  {
   "cell_type": "code",
   "execution_count": 78,
   "id": "612a83f1",
   "metadata": {},
   "outputs": [],
   "source": [
    "df2 = df.iloc[0] #grab the first row for the header\n",
    "df = df[1:] #take the data less the header row\n",
    "df.columns = df2 #set the header row as the df header"
   ]
  },
  {
   "cell_type": "code",
   "execution_count": 79,
   "id": "3ff44ab1",
   "metadata": {
    "collapsed": true
   },
   "outputs": [
    {
     "name": "stderr",
     "output_type": "stream",
     "text": [
      "C:\\Users\\Naeem\\anaconda3\\lib\\site-packages\\pandas\\core\\frame.py:4906: SettingWithCopyWarning: \n",
      "A value is trying to be set on a copy of a slice from a DataFrame\n",
      "\n",
      "See the caveats in the documentation: https://pandas.pydata.org/pandas-docs/stable/user_guide/indexing.html#returning-a-view-versus-a-copy\n",
      "  return super().drop(\n"
     ]
    }
   ],
   "source": [
    "df.drop(columns=['PART NUMBER/DESCRIPTION'],inplace=True)"
   ]
  },
  {
   "cell_type": "code",
   "execution_count": 80,
   "id": "89597dc2",
   "metadata": {
    "collapsed": true
   },
   "outputs": [
    {
     "data": {
      "text/html": [
       "<div>\n",
       "<style scoped>\n",
       "    .dataframe tbody tr th:only-of-type {\n",
       "        vertical-align: middle;\n",
       "    }\n",
       "\n",
       "    .dataframe tbody tr th {\n",
       "        vertical-align: top;\n",
       "    }\n",
       "\n",
       "    .dataframe thead th {\n",
       "        text-align: right;\n",
       "    }\n",
       "</style>\n",
       "<table border=\"1\" class=\"dataframe\">\n",
       "  <thead>\n",
       "    <tr style=\"text-align: right;\">\n",
       "      <th></th>\n",
       "      <th>LINE</th>\n",
       "      <th>QTY SHIPPED</th>\n",
       "      <th>UOM</th>\n",
       "      <th>UNIT PRICE</th>\n",
       "      <th>EXTENDED PRICE TAX RATE</th>\n",
       "      <th>TAX AMOUNT</th>\n",
       "      <th>TOTAL AMOUNT</th>\n",
       "    </tr>\n",
       "  </thead>\n",
       "  <tbody>\n",
       "    <tr>\n",
       "      <th>1</th>\n",
       "      <td>1</td>\n",
       "      <td>6,186.00</td>\n",
       "      <td>Each</td>\n",
       "      <td>3.75</td>\n",
       "      <td>17.00  23,197.50</td>\n",
       "      <td>3,943.58</td>\n",
       "      <td>27,141.08</td>\n",
       "    </tr>\n",
       "    <tr>\n",
       "      <th>8</th>\n",
       "      <td>2</td>\n",
       "      <td>12,749.00</td>\n",
       "      <td>Each</td>\n",
       "      <td>3.75</td>\n",
       "      <td>17.00  47,808.75</td>\n",
       "      <td>8,127.49</td>\n",
       "      <td>55,936.24</td>\n",
       "    </tr>\n",
       "    <tr>\n",
       "      <th>15</th>\n",
       "      <td>3</td>\n",
       "      <td>1,665.00</td>\n",
       "      <td>Each</td>\n",
       "      <td>15.68</td>\n",
       "      <td>17.00  26,107.20</td>\n",
       "      <td>4,438.22</td>\n",
       "      <td>30,545.42</td>\n",
       "    </tr>\n",
       "    <tr>\n",
       "      <th>22</th>\n",
       "      <td>4</td>\n",
       "      <td>26,190.00</td>\n",
       "      <td>Each</td>\n",
       "      <td>3.75</td>\n",
       "      <td>17.00  98,212.50</td>\n",
       "      <td>16,696.13</td>\n",
       "      <td>114,908.63</td>\n",
       "    </tr>\n",
       "  </tbody>\n",
       "</table>\n",
       "</div>"
      ],
      "text/plain": [
       "0  LINE QTY SHIPPED   UOM UNIT PRICE EXTENDED PRICE TAX RATE TAX AMOUNT  \\\n",
       "1     1    6,186.00  Each       3.75        17.00  23,197.50   3,943.58   \n",
       "8     2   12,749.00  Each       3.75        17.00  47,808.75   8,127.49   \n",
       "15    3    1,665.00  Each      15.68        17.00  26,107.20   4,438.22   \n",
       "22    4   26,190.00  Each       3.75        17.00  98,212.50  16,696.13   \n",
       "\n",
       "0  TOTAL AMOUNT  \n",
       "1     27,141.08  \n",
       "8     55,936.24  \n",
       "15    30,545.42  \n",
       "22   114,908.63  "
      ]
     },
     "execution_count": 80,
     "metadata": {},
     "output_type": "execute_result"
    }
   ],
   "source": [
    "df['LINE'].astype(bool)  \n",
    "df=df[df['LINE'].astype(bool)]\n",
    "df"
   ]
  },
  {
   "cell_type": "code",
   "execution_count": 81,
   "id": "3757b288",
   "metadata": {
    "collapsed": true
   },
   "outputs": [
    {
     "data": {
      "text/html": [
       "<div>\n",
       "<style scoped>\n",
       "    .dataframe tbody tr th:only-of-type {\n",
       "        vertical-align: middle;\n",
       "    }\n",
       "\n",
       "    .dataframe tbody tr th {\n",
       "        vertical-align: top;\n",
       "    }\n",
       "\n",
       "    .dataframe thead th {\n",
       "        text-align: right;\n",
       "    }\n",
       "</style>\n",
       "<table border=\"1\" class=\"dataframe\">\n",
       "  <thead>\n",
       "    <tr style=\"text-align: right;\">\n",
       "      <th></th>\n",
       "      <th>LINE</th>\n",
       "      <th>QTY SHIPPED</th>\n",
       "      <th>UOM</th>\n",
       "      <th>UNIT PRICE</th>\n",
       "      <th>EXTENDED PRICE TAX RATE</th>\n",
       "      <th>TAX AMOUNT</th>\n",
       "      <th>TOTAL AMOUNT</th>\n",
       "      <th>TAX RATE</th>\n",
       "      <th>EXTENDED PRICE</th>\n",
       "    </tr>\n",
       "  </thead>\n",
       "  <tbody>\n",
       "    <tr>\n",
       "      <th>1</th>\n",
       "      <td>1</td>\n",
       "      <td>6,186.00</td>\n",
       "      <td>Each</td>\n",
       "      <td>3.75</td>\n",
       "      <td>17.00  23,197.50</td>\n",
       "      <td>3,943.58</td>\n",
       "      <td>27,141.08</td>\n",
       "      <td>17.00</td>\n",
       "      <td>23,197.50</td>\n",
       "    </tr>\n",
       "    <tr>\n",
       "      <th>8</th>\n",
       "      <td>2</td>\n",
       "      <td>12,749.00</td>\n",
       "      <td>Each</td>\n",
       "      <td>3.75</td>\n",
       "      <td>17.00  47,808.75</td>\n",
       "      <td>8,127.49</td>\n",
       "      <td>55,936.24</td>\n",
       "      <td>17.00</td>\n",
       "      <td>47,808.75</td>\n",
       "    </tr>\n",
       "    <tr>\n",
       "      <th>15</th>\n",
       "      <td>3</td>\n",
       "      <td>1,665.00</td>\n",
       "      <td>Each</td>\n",
       "      <td>15.68</td>\n",
       "      <td>17.00  26,107.20</td>\n",
       "      <td>4,438.22</td>\n",
       "      <td>30,545.42</td>\n",
       "      <td>17.00</td>\n",
       "      <td>26,107.20</td>\n",
       "    </tr>\n",
       "    <tr>\n",
       "      <th>22</th>\n",
       "      <td>4</td>\n",
       "      <td>26,190.00</td>\n",
       "      <td>Each</td>\n",
       "      <td>3.75</td>\n",
       "      <td>17.00  98,212.50</td>\n",
       "      <td>16,696.13</td>\n",
       "      <td>114,908.63</td>\n",
       "      <td>17.00</td>\n",
       "      <td>98,212.50</td>\n",
       "    </tr>\n",
       "  </tbody>\n",
       "</table>\n",
       "</div>"
      ],
      "text/plain": [
       "0  LINE QTY SHIPPED   UOM UNIT PRICE EXTENDED PRICE TAX RATE TAX AMOUNT  \\\n",
       "1     1    6,186.00  Each       3.75        17.00  23,197.50   3,943.58   \n",
       "8     2   12,749.00  Each       3.75        17.00  47,808.75   8,127.49   \n",
       "15    3    1,665.00  Each      15.68        17.00  26,107.20   4,438.22   \n",
       "22    4   26,190.00  Each       3.75        17.00  98,212.50  16,696.13   \n",
       "\n",
       "0  TOTAL AMOUNT TAX RATE EXTENDED PRICE  \n",
       "1     27,141.08    17.00      23,197.50  \n",
       "8     55,936.24    17.00      47,808.75  \n",
       "15    30,545.42    17.00      26,107.20  \n",
       "22   114,908.63    17.00      98,212.50  "
      ]
     },
     "execution_count": 81,
     "metadata": {},
     "output_type": "execute_result"
    }
   ],
   "source": [
    "df[['TAX RATE','EXTENDED PRICE']] = df['EXTENDED PRICE TAX RATE'].str.split(' ', 1, expand=True)\n",
    "df"
   ]
  },
  {
   "cell_type": "code",
   "execution_count": 82,
   "id": "ac19d68c",
   "metadata": {
    "collapsed": true
   },
   "outputs": [
    {
     "data": {
      "text/html": [
       "<div>\n",
       "<style scoped>\n",
       "    .dataframe tbody tr th:only-of-type {\n",
       "        vertical-align: middle;\n",
       "    }\n",
       "\n",
       "    .dataframe tbody tr th {\n",
       "        vertical-align: top;\n",
       "    }\n",
       "\n",
       "    .dataframe thead th {\n",
       "        text-align: right;\n",
       "    }\n",
       "</style>\n",
       "<table border=\"1\" class=\"dataframe\">\n",
       "  <thead>\n",
       "    <tr style=\"text-align: right;\">\n",
       "      <th></th>\n",
       "      <th>LINE</th>\n",
       "      <th>QTY SHIPPED</th>\n",
       "      <th>UOM</th>\n",
       "      <th>UNIT PRICE</th>\n",
       "      <th>TAX AMOUNT</th>\n",
       "      <th>TOTAL AMOUNT</th>\n",
       "      <th>TAX RATE</th>\n",
       "      <th>EXTENDED PRICE</th>\n",
       "    </tr>\n",
       "  </thead>\n",
       "  <tbody>\n",
       "    <tr>\n",
       "      <th>1</th>\n",
       "      <td>1</td>\n",
       "      <td>6,186.00</td>\n",
       "      <td>Each</td>\n",
       "      <td>3.75</td>\n",
       "      <td>3,943.58</td>\n",
       "      <td>27,141.08</td>\n",
       "      <td>17.00</td>\n",
       "      <td>23,197.50</td>\n",
       "    </tr>\n",
       "    <tr>\n",
       "      <th>8</th>\n",
       "      <td>2</td>\n",
       "      <td>12,749.00</td>\n",
       "      <td>Each</td>\n",
       "      <td>3.75</td>\n",
       "      <td>8,127.49</td>\n",
       "      <td>55,936.24</td>\n",
       "      <td>17.00</td>\n",
       "      <td>47,808.75</td>\n",
       "    </tr>\n",
       "    <tr>\n",
       "      <th>15</th>\n",
       "      <td>3</td>\n",
       "      <td>1,665.00</td>\n",
       "      <td>Each</td>\n",
       "      <td>15.68</td>\n",
       "      <td>4,438.22</td>\n",
       "      <td>30,545.42</td>\n",
       "      <td>17.00</td>\n",
       "      <td>26,107.20</td>\n",
       "    </tr>\n",
       "    <tr>\n",
       "      <th>22</th>\n",
       "      <td>4</td>\n",
       "      <td>26,190.00</td>\n",
       "      <td>Each</td>\n",
       "      <td>3.75</td>\n",
       "      <td>16,696.13</td>\n",
       "      <td>114,908.63</td>\n",
       "      <td>17.00</td>\n",
       "      <td>98,212.50</td>\n",
       "    </tr>\n",
       "  </tbody>\n",
       "</table>\n",
       "</div>"
      ],
      "text/plain": [
       "0  LINE QTY SHIPPED   UOM UNIT PRICE TAX AMOUNT TOTAL AMOUNT TAX RATE  \\\n",
       "1     1    6,186.00  Each       3.75   3,943.58    27,141.08    17.00   \n",
       "8     2   12,749.00  Each       3.75   8,127.49    55,936.24    17.00   \n",
       "15    3    1,665.00  Each      15.68   4,438.22    30,545.42    17.00   \n",
       "22    4   26,190.00  Each       3.75  16,696.13   114,908.63    17.00   \n",
       "\n",
       "0  EXTENDED PRICE  \n",
       "1       23,197.50  \n",
       "8       47,808.75  \n",
       "15      26,107.20  \n",
       "22      98,212.50  "
      ]
     },
     "execution_count": 82,
     "metadata": {},
     "output_type": "execute_result"
    }
   ],
   "source": [
    "df.drop(columns=['EXTENDED PRICE TAX RATE'],inplace=True)\n",
    "df"
   ]
  },
  {
   "cell_type": "code",
   "execution_count": 83,
   "id": "3d1fd7e8",
   "metadata": {
    "scrolled": true
   },
   "outputs": [],
   "source": [
    "df[\"PO# Number\"]=po"
   ]
  },
  {
   "cell_type": "code",
   "execution_count": 84,
   "id": "e440f1ed",
   "metadata": {},
   "outputs": [
    {
     "data": {
      "text/html": [
       "<div>\n",
       "<style scoped>\n",
       "    .dataframe tbody tr th:only-of-type {\n",
       "        vertical-align: middle;\n",
       "    }\n",
       "\n",
       "    .dataframe tbody tr th {\n",
       "        vertical-align: top;\n",
       "    }\n",
       "\n",
       "    .dataframe thead th {\n",
       "        text-align: right;\n",
       "    }\n",
       "</style>\n",
       "<table border=\"1\" class=\"dataframe\">\n",
       "  <thead>\n",
       "    <tr style=\"text-align: right;\">\n",
       "      <th></th>\n",
       "      <th>LINE</th>\n",
       "      <th>QTY SHIPPED</th>\n",
       "      <th>UOM</th>\n",
       "      <th>UNIT PRICE</th>\n",
       "      <th>TAX AMOUNT</th>\n",
       "      <th>TOTAL AMOUNT</th>\n",
       "      <th>TAX RATE</th>\n",
       "      <th>EXTENDED PRICE</th>\n",
       "      <th>PO# Number</th>\n",
       "    </tr>\n",
       "  </thead>\n",
       "  <tbody>\n",
       "    <tr>\n",
       "      <th>1</th>\n",
       "      <td>1</td>\n",
       "      <td>6,186.00</td>\n",
       "      <td>Each</td>\n",
       "      <td>3.75</td>\n",
       "      <td>3,943.58</td>\n",
       "      <td>27,141.08</td>\n",
       "      <td>17.00</td>\n",
       "      <td>23,197.50</td>\n",
       "      <td>PO#125560,</td>\n",
       "    </tr>\n",
       "    <tr>\n",
       "      <th>8</th>\n",
       "      <td>2</td>\n",
       "      <td>12,749.00</td>\n",
       "      <td>Each</td>\n",
       "      <td>3.75</td>\n",
       "      <td>8,127.49</td>\n",
       "      <td>55,936.24</td>\n",
       "      <td>17.00</td>\n",
       "      <td>47,808.75</td>\n",
       "      <td>PO#125560,</td>\n",
       "    </tr>\n",
       "    <tr>\n",
       "      <th>15</th>\n",
       "      <td>3</td>\n",
       "      <td>1,665.00</td>\n",
       "      <td>Each</td>\n",
       "      <td>15.68</td>\n",
       "      <td>4,438.22</td>\n",
       "      <td>30,545.42</td>\n",
       "      <td>17.00</td>\n",
       "      <td>26,107.20</td>\n",
       "      <td>PO#125560,</td>\n",
       "    </tr>\n",
       "    <tr>\n",
       "      <th>22</th>\n",
       "      <td>4</td>\n",
       "      <td>26,190.00</td>\n",
       "      <td>Each</td>\n",
       "      <td>3.75</td>\n",
       "      <td>16,696.13</td>\n",
       "      <td>114,908.63</td>\n",
       "      <td>17.00</td>\n",
       "      <td>98,212.50</td>\n",
       "      <td>PO#125560,</td>\n",
       "    </tr>\n",
       "  </tbody>\n",
       "</table>\n",
       "</div>"
      ],
      "text/plain": [
       "0  LINE QTY SHIPPED   UOM UNIT PRICE TAX AMOUNT TOTAL AMOUNT TAX RATE  \\\n",
       "1     1    6,186.00  Each       3.75   3,943.58    27,141.08    17.00   \n",
       "8     2   12,749.00  Each       3.75   8,127.49    55,936.24    17.00   \n",
       "15    3    1,665.00  Each      15.68   4,438.22    30,545.42    17.00   \n",
       "22    4   26,190.00  Each       3.75  16,696.13   114,908.63    17.00   \n",
       "\n",
       "0  EXTENDED PRICE  PO# Number  \n",
       "1       23,197.50  PO#125560,  \n",
       "8       47,808.75  PO#125560,  \n",
       "15      26,107.20  PO#125560,  \n",
       "22      98,212.50  PO#125560,  "
      ]
     },
     "execution_count": 84,
     "metadata": {},
     "output_type": "execute_result"
    }
   ],
   "source": [
    "df"
   ]
  }
 ],
 "metadata": {
  "kernelspec": {
   "display_name": "Python 3 (ipykernel)",
   "language": "python",
   "name": "python3"
  },
  "language_info": {
   "codemirror_mode": {
    "name": "ipython",
    "version": 3
   },
   "file_extension": ".py",
   "mimetype": "text/x-python",
   "name": "python",
   "nbconvert_exporter": "python",
   "pygments_lexer": "ipython3",
   "version": "3.9.7"
  }
 },
 "nbformat": 4,
 "nbformat_minor": 5
}
