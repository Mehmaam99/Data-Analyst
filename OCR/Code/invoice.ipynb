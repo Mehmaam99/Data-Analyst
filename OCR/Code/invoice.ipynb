{
 "cells": [
  {
   "cell_type": "code",
   "execution_count": 1,
   "id": "06759a5f",
   "metadata": {},
   "outputs": [
    {
     "name": "stdout",
     "output_type": "stream",
     "text": [
      "dict_keys(['level', 'page_num', 'block_num', 'par_num', 'line_num', 'word_num', 'left', 'top', 'width', 'height', 'conf', 'text'])\n"
     ]
    }
   ],
   "source": [
    "import cv2\n",
    "import pytesseract\n",
    "from pytesseract import Output\n",
    "pytesseract.pytesseract.tesseract_cmd = r'C:\\\\Program Files\\\\Tesseract-OCR\\\\tesseract'\n",
    "a=0\n",
    "img = cv2.imread('C:\\\\Users\\\\Naeem\\\\OCR\\\\Materials\\\\Chem-1.png')\n",
    "\n",
    "#dim=(a,a)\n",
    "#resized = cv2.resize(img, dim, interpolation = cv2.INTER_AREA)\n",
    "crop=img[0:,0:]\n",
    "d = pytesseract.image_to_data(crop, output_type=Output.DICT)\n",
    "print(d.keys())"
   ]
  },
  {
   "cell_type": "code",
   "execution_count": 2,
   "id": "dcf6ecd2",
   "metadata": {},
   "outputs": [
    {
     "ename": "error",
     "evalue": "OpenCV(4.5.4) D:\\a\\opencv-python\\opencv-python\\opencv\\modules\\highgui\\src\\window.cpp:1274: error: (-2:Unspecified error) The function is not implemented. Rebuild the library with Windows, GTK+ 2.x or Cocoa support. If you are on Ubuntu or Debian, install libgtk2.0-dev and pkg-config, then re-run cmake or configure script in function 'cvShowImage'\n",
     "output_type": "error",
     "traceback": [
      "\u001b[1;31m---------------------------------------------------------------------------\u001b[0m",
      "\u001b[1;31merror\u001b[0m                                     Traceback (most recent call last)",
      "\u001b[1;32m~\\AppData\\Local\\Temp/ipykernel_7456/3196304161.py\u001b[0m in \u001b[0;36m<module>\u001b[1;34m\u001b[0m\n\u001b[0;32m      5\u001b[0m         \u001b[0mcrop\u001b[0m \u001b[1;33m=\u001b[0m \u001b[0mcv2\u001b[0m\u001b[1;33m.\u001b[0m\u001b[0mrectangle\u001b[0m\u001b[1;33m(\u001b[0m\u001b[0mcrop\u001b[0m\u001b[1;33m,\u001b[0m \u001b[1;33m(\u001b[0m\u001b[0mx\u001b[0m\u001b[1;33m,\u001b[0m \u001b[0my\u001b[0m\u001b[1;33m)\u001b[0m\u001b[1;33m,\u001b[0m \u001b[1;33m(\u001b[0m\u001b[0mx\u001b[0m \u001b[1;33m+\u001b[0m \u001b[0mw\u001b[0m\u001b[1;33m,\u001b[0m \u001b[0my\u001b[0m \u001b[1;33m+\u001b[0m \u001b[0mh\u001b[0m\u001b[1;33m)\u001b[0m\u001b[1;33m,\u001b[0m \u001b[1;33m(\u001b[0m\u001b[1;36m0\u001b[0m\u001b[1;33m,\u001b[0m \u001b[1;36m255\u001b[0m\u001b[1;33m,\u001b[0m \u001b[1;36m0\u001b[0m\u001b[1;33m)\u001b[0m\u001b[1;33m,\u001b[0m \u001b[1;36m2\u001b[0m\u001b[1;33m)\u001b[0m\u001b[1;33m\u001b[0m\u001b[1;33m\u001b[0m\u001b[0m\n\u001b[0;32m      6\u001b[0m \u001b[1;33m\u001b[0m\u001b[0m\n\u001b[1;32m----> 7\u001b[1;33m \u001b[0mcv2\u001b[0m\u001b[1;33m.\u001b[0m\u001b[0mimshow\u001b[0m\u001b[1;33m(\u001b[0m\u001b[1;34m'img'\u001b[0m\u001b[1;33m,\u001b[0m \u001b[0mcrop\u001b[0m\u001b[1;33m)\u001b[0m\u001b[1;33m\u001b[0m\u001b[1;33m\u001b[0m\u001b[0m\n\u001b[0m\u001b[0;32m      8\u001b[0m \u001b[0mcv2\u001b[0m\u001b[1;33m.\u001b[0m\u001b[0mwaitKey\u001b[0m\u001b[1;33m(\u001b[0m\u001b[1;36m0\u001b[0m\u001b[1;33m)\u001b[0m\u001b[1;33m\u001b[0m\u001b[1;33m\u001b[0m\u001b[0m\n\u001b[0;32m      9\u001b[0m \u001b[0mcv2\u001b[0m\u001b[1;33m.\u001b[0m\u001b[0mdestroyAllWindows\u001b[0m\u001b[1;33m(\u001b[0m\u001b[1;33m)\u001b[0m\u001b[1;33m\u001b[0m\u001b[1;33m\u001b[0m\u001b[0m\n",
      "\u001b[1;31merror\u001b[0m: OpenCV(4.5.4) D:\\a\\opencv-python\\opencv-python\\opencv\\modules\\highgui\\src\\window.cpp:1274: error: (-2:Unspecified error) The function is not implemented. Rebuild the library with Windows, GTK+ 2.x or Cocoa support. If you are on Ubuntu or Debian, install libgtk2.0-dev and pkg-config, then re-run cmake or configure script in function 'cvShowImage'\n"
     ]
    }
   ],
   "source": [
    "n_boxes = len(d['text'])\n",
    "for i in range(n_boxes):\n",
    "    if int(float(d['conf'][i])) > 60:\n",
    "        (x, y, w, h) = (d['left'][i], d['top'][i], d['width'][i], d['height'][i])\n",
    "        crop = cv2.rectangle(crop, (x, y), (x + w, y + h), (0, 255, 0), 2)\n",
    "\n",
    "cv2.imshow('img', crop)\n",
    "cv2.waitKey(0)\n",
    "cv2.destroyAllWindows()"
   ]
  },
  {
   "cell_type": "code",
   "execution_count": 4,
   "id": "0ec94093",
   "metadata": {},
   "outputs": [],
   "source": [
    "dic=d.get('text')"
   ]
  },
  {
   "cell_type": "code",
   "execution_count": 5,
   "id": "4d1c896d",
   "metadata": {},
   "outputs": [
    {
     "name": "stdout",
     "output_type": "stream",
     "text": [
      "['', '', '', '', 'as)', '', '', 'Excellent', 'Through', '', 'ity', '&:', 'Quality', 'Is', '', '', 'Our', 'Success', '', '', '', 'CHEM', 'COLOR', 'INTERNATIONAL', '', '(C-1-43', 'SECTOR', 'L-1,', 'SURJANI', 'ee', '', '', '', 'National', 'Tax', 'No:', '1437878-7', 'P,', '', '', '', ' ', '', '', '', 'Bales', 'Tax', 'No:', '11-02-9999-741-82', '', '', 'Phone:', '92-36910085-6-7', '', '', 'Fax:', '', '', '“Email', ':', 'accounts@chemcolorintl.com', '', 'Web:', 'www.chemcolorintl.com', '', '', '', ' ', '', '', '', 'M/S:', 'ARTISTIC', 'MILLINERS', '(PVT)', 'LTD', '#', '4', '', '', 'Department', ':', 'ff', '', '', 'Address', ':', '37-F', 'B,', 'BLOCK', '/PE.CH.S,', 'SHARA', 'E', '', 'FAISAL,', 'cats', '', '', 'Phone:', '', '', '', 'National', 'Tax', 'No:', '2645727-0', '', '', '', 'In', '', 'In', '', 'Pa', '', 'Pa', '', 'Cu', '', 'Ex', '', 'Ss.', '', 'Pe', '', '', '', 'DC', 'No']\n"
     ]
    }
   ],
   "source": [
    "res = [item.replace('©', ' ') for item in dic]\n",
    "\n",
    "print(res)"
   ]
  },
  {
   "cell_type": "code",
   "execution_count": 6,
   "id": "1045119b",
   "metadata": {},
   "outputs": [],
   "source": [
    "cv2.imshow(\"\",crop)\n",
    "cv2.waitKey(0)\n",
    "cv2.destroyAllWindows()"
   ]
  },
  {
   "cell_type": "code",
   "execution_count": 8,
   "id": "49804c5e",
   "metadata": {},
   "outputs": [
    {
     "data": {
      "text/plain": [
       "'as)   Excellent Through  ity &: Quality Is   Our Success    CHEM COLOR INTERNATIONAL  (C-1-43 SECTOR L-1, SURJANI ee    National Tax No: 1437878-7 P,         Bales Tax No: 11-02-9999-741-82   Phone: 92-36910085-6-7   Fax:   “Email : accounts@chemcolorintl.com  Web: www.chemcolorintl.com         M/S: ARTISTIC MILLINERS (PVT) LTD # 4   Department : ff   Address : 37-F B, BLOCK /PE.CH.S, SHARA E  FAISAL, cats   Phone:    National Tax No: 2645727-0    In  In  Pa  Pa  Cu  Ex  Ss.  Pe    DC No'"
      ]
     },
     "execution_count": 8,
     "metadata": {},
     "output_type": "execute_result"
    }
   ],
   "source": [
    "string=\" \".join(res)\n",
    "\n",
    "ss_string=string.strip()\n",
    "ss_string"
   ]
  },
  {
   "cell_type": "code",
   "execution_count": 10,
   "id": "cef92056",
   "metadata": {},
   "outputs": [],
   "source": [
    "text_file = open(\"C:\\\\Users\\\\Naeem\\\\OCR\\\\Materials\\\\ss_string.txt\", \"w\")\n",
    " \n",
    "#write string to file\n",
    "n = text_file.write(ss_string)\n",
    " \n",
    "#close file\n",
    "text_file.close()"
   ]
  },
  {
   "cell_type": "code",
   "execution_count": 11,
   "id": "1249d7ea",
   "metadata": {},
   "outputs": [
    {
     "data": {
      "text/plain": [
       "'as)   Excellent Through  ity &: Quality Is   Our Success    CHEM COLOR INTERNATIONAL  (C-1-43 SECTOR L-1, SURJANI ee    National Tax No: 1437878-7 P,         Bales Tax No: 11-02-9999-741-82   Phone: 92-36910085-6-7   Fax:   “Email : accounts@chemcolorintl.com  Web: www.chemcolorintl.com         M/S: ARTISTIC MILLINERS (PVT) LTD # 4   Department : ff   Address : 37-F B, BLOCK /PE.CH.S, SHARA E  FAISAL, cats   Phone:    National Tax No: 2645727-0    In  In  Pa  Pa  Cu  Ex  Ss.  Pe    DC No'"
      ]
     },
     "execution_count": 11,
     "metadata": {},
     "output_type": "execute_result"
    }
   ],
   "source": [
    "string=\" \".join(res)\n",
    "\n",
    "s_string=string.strip()\n",
    "s_string"
   ]
  },
  {
   "cell_type": "code",
   "execution_count": 12,
   "id": "151fc9b8",
   "metadata": {},
   "outputs": [],
   "source": [
    "text_file = open(\"C:\\\\Users\\\\Naeem\\\\OCR\\\\Materials\\\\s_string.txt\", \"w\")\n",
    " \n",
    "#write string to file\n",
    "n = text_file.write(s_string)\n",
    " \n",
    "#close file\n",
    "text_file.close()"
   ]
  },
  {
   "cell_type": "code",
   "execution_count": 13,
   "id": "b27bc3b3",
   "metadata": {},
   "outputs": [
    {
     "name": "stdout",
     "output_type": "stream",
     "text": [
      "['as)   Excellent Through  ity &: Quality Is   Our Success    CHEM COLOR INTERNATIONAL  (C-1-43 SECTOR L-1, SURJANI ee    National Tax No: 1437878-7 P,         Bales Tax No: 11-02-9999-741-82   Phone: 92-36910085-6-7   Fax:   “Email : accounts@chemcolorintl.com  Web: www.chemcolorintl.com         M/S: ARTISTIC MILLINERS (PVT) LTD # 4   Department : ff   Address : 37-F B, BLOCK /PE.CH.S, SHARA E  FAISAL, cats   Phone:    National Tax No: 2645727-0    In  In  Pa  Pa  Cu  Ex  Ss.  Pe    DC No']\n"
     ]
    }
   ],
   "source": [
    "mylines = []                             # Declare an empty list named mylines.\n",
    "with open ('C:\\\\Users\\\\Naeem\\\\OCR\\\\Materials\\\\s_string.txt', 'rt') as myfile: # Open lorem.txt for reading text data.\n",
    "    for myline in myfile:                # For each line, stored as myline,\n",
    "        mylines.append(myline)           # add its contents to mylines.\n",
    "print(mylines) "
   ]
  },
  {
   "cell_type": "code",
   "execution_count": 14,
   "id": "dc679069",
   "metadata": {},
   "outputs": [
    {
     "name": "stdout",
     "output_type": "stream",
     "text": [
      "as)   Excellent Through  ity &: Quality Is   Our Success    CHEM COLOR INTERNATIONAL  (C-1-43 SECTOR L-1, SURJANI ee    National Tax No: 1437878-7 P,         Bales Tax No: 11-02-9999-741-82   Phone: 92-36910085-6-7   Fax:   “Email : accounts@chemcolorintl.com  Web: www.chemcolorintl.com         M/S: ARTISTIC MILLINERS (PVT) LTD # 4   Department : ff   Address : 37-F B, BLOCK /PE.CH.S, SHARA E  FAISAL, cats   Phone:    National Tax No: 2645727-0    In  In  Pa  Pa  Cu  Ex  Ss.  Pe    DC No\n"
     ]
    }
   ],
   "source": [
    "print(mylines[0])"
   ]
  }
 ],
 "metadata": {
  "kernelspec": {
   "display_name": "Python 3 (ipykernel)",
   "language": "python",
   "name": "python3"
  },
  "language_info": {
   "codemirror_mode": {
    "name": "ipython",
    "version": 3
   },
   "file_extension": ".py",
   "mimetype": "text/x-python",
   "name": "python",
   "nbconvert_exporter": "python",
   "pygments_lexer": "ipython3",
   "version": "3.9.7"
  }
 },
 "nbformat": 4,
 "nbformat_minor": 5
}
